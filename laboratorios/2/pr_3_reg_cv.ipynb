{
 "cells": [
  {
   "cell_type": "markdown",
   "id": "d465df52",
   "metadata": {
    "id": "2023d4a5"
   },
   "source": [
    "# Práctico 3: Validación cruzada y Regularización"
   ]
  },
  {
   "cell_type": "markdown",
   "id": "399674f4",
   "metadata": {
    "id": "73311363"
   },
   "source": [
    "## Objetivos del trabajo\n",
    "\n",
    "* Objetivo general:\n",
    "    - Introducir las técnicas de validación cruzada y regularización\n",
    "* Objetivos específicos:\n",
    "    - Continuar el estudio del dataset de la ECH, en este caso con una variable de respuesta continua\n",
    "    - Aplicar herramientas de análisis estadístico descriptivo adecuadas al caso\n",
    "    - Aplicar las técnicas de validación cruzada y regularización\n",
    "\n",
    "\n",
    "## Presentación del caso de estudio\n",
    "\n",
    "* Predicción del ingreso de las personas:\n",
    "    - Queremos desarrollar un modelo de predicción de los ingresos de las personas por trabajo en relación de dependencia, a partir de los datos de la ECH\n",
    "1. Objetivo:\n",
    "    * **Tarea (T)**: predicción del ingreso de las personas por su trabajo en relación de dependencia, a partir de los datos de la ECH.\n",
    "    * **Entrenamiento (E)**: utilizamos los datos de la Encuesta Continua de Hogares del INE (ECH) de 2017.\n",
    "    * **Performance (P)**: buscamos minimizar el error de predicción definido como MSE (error cuadrático medio).\n",
    "2. Links de referencia:\n",
    "    * [Encuesta Continua de Hogares 2017](https://anterior.ine.gub.uy/web/guest/encuesta-continua-de-hogares1)\n",
    "    * Datos a utilizar: [Bases ECH 2017 en formato sav](https://anterior.ine.gub.uy/c/document_library/get_file?uuid=e38ea53c-7253-4007-9f67-2f5f161eea91&groupId=10181)\n",
    "    * [Diccionario de variables ECH 2017](https://anterior.ine.gub.uy/c/document_library/get_file?uuid=b60f247b-03cb-4bb1-b84b-5d7328479fe2&groupId=10181)\n",
    "3. Entendimiento del caso:\n",
    "    * Lectura de la documentación de los datos de la ECH\n",
    "    * Análisis del diccionario de datos de la ECH\n",
    "    * ¿Cuál es la variable objetivo *Y*?\n",
    "    * Planteo inicial de hipótesis: Definición del enfoque de uso de variables (no existe receta)\n",
    "        - De menos a más: variable por variable, probando una hipótesis a la vez, utilizando combinaciones\n",
    "        - Usar todas las variables de una vez"
   ]
  },
  {
   "cell_type": "markdown",
   "id": "e3ee89cb",
   "metadata": {},
   "source": [
    "## Setup"
   ]
  },
  {
   "cell_type": "markdown",
   "id": "55cfe781",
   "metadata": {
    "id": "33c7db26"
   },
   "source": [
    "* Importación de las librerías"
   ]
  },
  {
   "cell_type": "code",
   "execution_count": 49,
   "id": "140f7416",
   "metadata": {
    "id": "31393b06"
   },
   "outputs": [],
   "source": [
    "import os\n",
    "import numpy as np\n",
    "import pandas as pd\n",
    "from sklearn.preprocessing import OneHotEncoder, StandardScaler\n",
    "from sklearn.pipeline import make_pipeline\n",
    "from sklearn.model_selection import train_test_split\n",
    "from sklearn.compose import make_column_transformer\n",
    "from sklearn.metrics import mean_squared_error\n",
    "from sklearn.model_selection import cross_val_score\n",
    "from sklearn.linear_model import Lasso, Ridge, LassoCV, RidgeCV, LinearRegression"
   ]
  },
  {
   "cell_type": "markdown",
   "id": "354ef5fa",
   "metadata": {},
   "source": [
    "* Seteo de directorio de trabajo"
   ]
  },
  {
   "cell_type": "code",
   "execution_count": 2,
   "id": "bc68439b",
   "metadata": {},
   "outputs": [],
   "source": [
    "os.chdir(os.getcwd())"
   ]
  },
  {
   "cell_type": "markdown",
   "id": "f7a835fb",
   "metadata": {
    "id": "efb292b6"
   },
   "source": [
    "## Importación de los datos"
   ]
  },
  {
   "cell_type": "code",
   "execution_count": 3,
   "id": "3e041082",
   "metadata": {
    "id": "8987ed34"
   },
   "outputs": [
    {
     "data": {
      "text/html": [
       "<div>\n",
       "<style scoped>\n",
       "    .dataframe tbody tr th:only-of-type {\n",
       "        vertical-align: middle;\n",
       "    }\n",
       "\n",
       "    .dataframe tbody tr th {\n",
       "        vertical-align: top;\n",
       "    }\n",
       "\n",
       "    .dataframe thead th {\n",
       "        text-align: right;\n",
       "    }\n",
       "</style>\n",
       "<table border=\"1\" class=\"dataframe\">\n",
       "  <thead>\n",
       "    <tr style=\"text-align: right;\">\n",
       "      <th></th>\n",
       "      <th>nper</th>\n",
       "      <th>ccz</th>\n",
       "      <th>barrio</th>\n",
       "      <th>pesoano</th>\n",
       "      <th>pesosem</th>\n",
       "      <th>pesotri</th>\n",
       "      <th>pesomen</th>\n",
       "      <th>e558</th>\n",
       "      <th>e27</th>\n",
       "      <th>e34</th>\n",
       "      <th>...</th>\n",
       "      <th>indaceliac</th>\n",
       "      <th>indatuberc</th>\n",
       "      <th>indaoncolo</th>\n",
       "      <th>indasida</th>\n",
       "      <th>indaucc</th>\n",
       "      <th>PT1</th>\n",
       "      <th>PT2</th>\n",
       "      <th>PT4</th>\n",
       "      <th>pobre06</th>\n",
       "      <th>indigente06</th>\n",
       "    </tr>\n",
       "  </thead>\n",
       "  <tbody>\n",
       "    <tr>\n",
       "      <th>count</th>\n",
       "      <td>118268.000000</td>\n",
       "      <td>118268.00000</td>\n",
       "      <td>118268.000000</td>\n",
       "      <td>118268.000000</td>\n",
       "      <td>118268.000000</td>\n",
       "      <td>118268.000000</td>\n",
       "      <td>118268.000000</td>\n",
       "      <td>118268.000000</td>\n",
       "      <td>118268.000000</td>\n",
       "      <td>118268.000000</td>\n",
       "      <td>...</td>\n",
       "      <td>118268.000000</td>\n",
       "      <td>118268.000000</td>\n",
       "      <td>118268.000000</td>\n",
       "      <td>118268.000000</td>\n",
       "      <td>118268.000000</td>\n",
       "      <td>1.182680e+05</td>\n",
       "      <td>1.182680e+05</td>\n",
       "      <td>1.182680e+05</td>\n",
       "      <td>118268.000000</td>\n",
       "      <td>118268.000000</td>\n",
       "    </tr>\n",
       "    <tr>\n",
       "      <th>mean</th>\n",
       "      <td>2.207749</td>\n",
       "      <td>3.37552</td>\n",
       "      <td>10.910686</td>\n",
       "      <td>29.535758</td>\n",
       "      <td>29.536223</td>\n",
       "      <td>118.142025</td>\n",
       "      <td>354.403609</td>\n",
       "      <td>0.888896</td>\n",
       "      <td>38.736387</td>\n",
       "      <td>0.687802</td>\n",
       "      <td>...</td>\n",
       "      <td>674.948228</td>\n",
       "      <td>584.551409</td>\n",
       "      <td>576.391526</td>\n",
       "      <td>576.391526</td>\n",
       "      <td>647.470634</td>\n",
       "      <td>1.969790e+04</td>\n",
       "      <td>1.352395e+04</td>\n",
       "      <td>1.445637e+04</td>\n",
       "      <td>0.071575</td>\n",
       "      <td>0.001268</td>\n",
       "    </tr>\n",
       "    <tr>\n",
       "      <th>std</th>\n",
       "      <td>1.343722</td>\n",
       "      <td>5.23772</td>\n",
       "      <td>17.895304</td>\n",
       "      <td>6.263963</td>\n",
       "      <td>30.514906</td>\n",
       "      <td>27.249899</td>\n",
       "      <td>90.123013</td>\n",
       "      <td>2.182706</td>\n",
       "      <td>23.577532</td>\n",
       "      <td>0.899283</td>\n",
       "      <td>...</td>\n",
       "      <td>32.140374</td>\n",
       "      <td>31.997071</td>\n",
       "      <td>11.919400</td>\n",
       "      <td>11.919400</td>\n",
       "      <td>43.427110</td>\n",
       "      <td>3.000104e+04</td>\n",
       "      <td>2.695283e+04</td>\n",
       "      <td>2.885611e+04</td>\n",
       "      <td>0.257784</td>\n",
       "      <td>0.035591</td>\n",
       "    </tr>\n",
       "    <tr>\n",
       "      <th>min</th>\n",
       "      <td>1.000000</td>\n",
       "      <td>0.00000</td>\n",
       "      <td>0.000000</td>\n",
       "      <td>10.000000</td>\n",
       "      <td>0.000000</td>\n",
       "      <td>20.000000</td>\n",
       "      <td>52.000000</td>\n",
       "      <td>0.000000</td>\n",
       "      <td>0.000000</td>\n",
       "      <td>0.000000</td>\n",
       "      <td>...</td>\n",
       "      <td>579.000000</td>\n",
       "      <td>550.000000</td>\n",
       "      <td>550.000000</td>\n",
       "      <td>550.000000</td>\n",
       "      <td>545.000000</td>\n",
       "      <td>0.000000e+00</td>\n",
       "      <td>0.000000e+00</td>\n",
       "      <td>0.000000e+00</td>\n",
       "      <td>0.000000</td>\n",
       "      <td>0.000000</td>\n",
       "    </tr>\n",
       "    <tr>\n",
       "      <th>25%</th>\n",
       "      <td>1.000000</td>\n",
       "      <td>0.00000</td>\n",
       "      <td>0.000000</td>\n",
       "      <td>25.000000</td>\n",
       "      <td>0.000000</td>\n",
       "      <td>100.000000</td>\n",
       "      <td>295.000000</td>\n",
       "      <td>0.000000</td>\n",
       "      <td>18.000000</td>\n",
       "      <td>0.000000</td>\n",
       "      <td>...</td>\n",
       "      <td>663.000000</td>\n",
       "      <td>578.000000</td>\n",
       "      <td>578.000000</td>\n",
       "      <td>578.000000</td>\n",
       "      <td>662.000000</td>\n",
       "      <td>0.000000e+00</td>\n",
       "      <td>0.000000e+00</td>\n",
       "      <td>0.000000e+00</td>\n",
       "      <td>0.000000</td>\n",
       "      <td>0.000000</td>\n",
       "    </tr>\n",
       "    <tr>\n",
       "      <th>50%</th>\n",
       "      <td>2.000000</td>\n",
       "      <td>0.00000</td>\n",
       "      <td>0.000000</td>\n",
       "      <td>30.000000</td>\n",
       "      <td>29.000000</td>\n",
       "      <td>120.000000</td>\n",
       "      <td>356.000000</td>\n",
       "      <td>1.000000</td>\n",
       "      <td>38.000000</td>\n",
       "      <td>0.000000</td>\n",
       "      <td>...</td>\n",
       "      <td>689.000000</td>\n",
       "      <td>580.000000</td>\n",
       "      <td>580.000000</td>\n",
       "      <td>580.000000</td>\n",
       "      <td>665.000000</td>\n",
       "      <td>1.200950e+04</td>\n",
       "      <td>0.000000e+00</td>\n",
       "      <td>0.000000e+00</td>\n",
       "      <td>0.000000</td>\n",
       "      <td>0.000000</td>\n",
       "    </tr>\n",
       "    <tr>\n",
       "      <th>75%</th>\n",
       "      <td>3.000000</td>\n",
       "      <td>6.00000</td>\n",
       "      <td>18.000000</td>\n",
       "      <td>34.000000</td>\n",
       "      <td>60.000000</td>\n",
       "      <td>137.000000</td>\n",
       "      <td>414.000000</td>\n",
       "      <td>1.000000</td>\n",
       "      <td>57.000000</td>\n",
       "      <td>1.000000</td>\n",
       "      <td>...</td>\n",
       "      <td>693.000000</td>\n",
       "      <td>585.000000</td>\n",
       "      <td>585.000000</td>\n",
       "      <td>585.000000</td>\n",
       "      <td>672.000000</td>\n",
       "      <td>2.800000e+04</td>\n",
       "      <td>2.183600e+04</td>\n",
       "      <td>2.205600e+04</td>\n",
       "      <td>0.000000</td>\n",
       "      <td>0.000000</td>\n",
       "    </tr>\n",
       "    <tr>\n",
       "      <th>max</th>\n",
       "      <td>15.000000</td>\n",
       "      <td>18.00000</td>\n",
       "      <td>62.000000</td>\n",
       "      <td>50.000000</td>\n",
       "      <td>101.000000</td>\n",
       "      <td>228.000000</td>\n",
       "      <td>738.000000</td>\n",
       "      <td>90.000000</td>\n",
       "      <td>98.000000</td>\n",
       "      <td>10.000000</td>\n",
       "      <td>...</td>\n",
       "      <td>698.000000</td>\n",
       "      <td>683.000000</td>\n",
       "      <td>586.000000</td>\n",
       "      <td>586.000000</td>\n",
       "      <td>683.000000</td>\n",
       "      <td>2.801935e+06</td>\n",
       "      <td>2.801935e+06</td>\n",
       "      <td>2.801935e+06</td>\n",
       "      <td>1.000000</td>\n",
       "      <td>1.000000</td>\n",
       "    </tr>\n",
       "  </tbody>\n",
       "</table>\n",
       "<p>8 rows × 187 columns</p>\n",
       "</div>"
      ],
      "text/plain": [
       "                nper           ccz         barrio        pesoano  \\\n",
       "count  118268.000000  118268.00000  118268.000000  118268.000000   \n",
       "mean        2.207749       3.37552      10.910686      29.535758   \n",
       "std         1.343722       5.23772      17.895304       6.263963   \n",
       "min         1.000000       0.00000       0.000000      10.000000   \n",
       "25%         1.000000       0.00000       0.000000      25.000000   \n",
       "50%         2.000000       0.00000       0.000000      30.000000   \n",
       "75%         3.000000       6.00000      18.000000      34.000000   \n",
       "max        15.000000      18.00000      62.000000      50.000000   \n",
       "\n",
       "             pesosem        pesotri        pesomen           e558  \\\n",
       "count  118268.000000  118268.000000  118268.000000  118268.000000   \n",
       "mean       29.536223     118.142025     354.403609       0.888896   \n",
       "std        30.514906      27.249899      90.123013       2.182706   \n",
       "min         0.000000      20.000000      52.000000       0.000000   \n",
       "25%         0.000000     100.000000     295.000000       0.000000   \n",
       "50%        29.000000     120.000000     356.000000       1.000000   \n",
       "75%        60.000000     137.000000     414.000000       1.000000   \n",
       "max       101.000000     228.000000     738.000000      90.000000   \n",
       "\n",
       "                 e27            e34  ...     indaceliac     indatuberc  \\\n",
       "count  118268.000000  118268.000000  ...  118268.000000  118268.000000   \n",
       "mean       38.736387       0.687802  ...     674.948228     584.551409   \n",
       "std        23.577532       0.899283  ...      32.140374      31.997071   \n",
       "min         0.000000       0.000000  ...     579.000000     550.000000   \n",
       "25%        18.000000       0.000000  ...     663.000000     578.000000   \n",
       "50%        38.000000       0.000000  ...     689.000000     580.000000   \n",
       "75%        57.000000       1.000000  ...     693.000000     585.000000   \n",
       "max        98.000000      10.000000  ...     698.000000     683.000000   \n",
       "\n",
       "          indaoncolo       indasida        indaucc           PT1  \\\n",
       "count  118268.000000  118268.000000  118268.000000  1.182680e+05   \n",
       "mean      576.391526     576.391526     647.470634  1.969790e+04   \n",
       "std        11.919400      11.919400      43.427110  3.000104e+04   \n",
       "min       550.000000     550.000000     545.000000  0.000000e+00   \n",
       "25%       578.000000     578.000000     662.000000  0.000000e+00   \n",
       "50%       580.000000     580.000000     665.000000  1.200950e+04   \n",
       "75%       585.000000     585.000000     672.000000  2.800000e+04   \n",
       "max       586.000000     586.000000     683.000000  2.801935e+06   \n",
       "\n",
       "                PT2           PT4        pobre06    indigente06  \n",
       "count  1.182680e+05  1.182680e+05  118268.000000  118268.000000  \n",
       "mean   1.352395e+04  1.445637e+04       0.071575       0.001268  \n",
       "std    2.695283e+04  2.885611e+04       0.257784       0.035591  \n",
       "min    0.000000e+00  0.000000e+00       0.000000       0.000000  \n",
       "25%    0.000000e+00  0.000000e+00       0.000000       0.000000  \n",
       "50%    0.000000e+00  0.000000e+00       0.000000       0.000000  \n",
       "75%    2.183600e+04  2.205600e+04       0.000000       0.000000  \n",
       "max    2.801935e+06  2.801935e+06       1.000000       1.000000  \n",
       "\n",
       "[8 rows x 187 columns]"
      ]
     },
     "execution_count": 3,
     "metadata": {},
     "output_type": "execute_result"
    }
   ],
   "source": [
    "dfP2017 = pd.read_spss(r'data/Base ECH 2017 formato SAV/P_2017_Terceros.sav')\n",
    "dfP2017.describe()"
   ]
  },
  {
   "cell_type": "markdown",
   "id": "429bd1c4",
   "metadata": {
    "id": "2c44fdb5"
   },
   "source": [
    "## Preparación de los datos"
   ]
  },
  {
   "cell_type": "code",
   "execution_count": 4,
   "id": "e763b0be",
   "metadata": {
    "id": "e49364b9"
   },
   "outputs": [],
   "source": [
    "df_ysos = pd.DataFrame()\n",
    "\n",
    "df_ysos['ysos_dep'] = dfP2017['g126_1'] + dfP2017['g126_2'] + dfP2017['g126_3'] \\\n",
    "    + dfP2017['g126_4'] + dfP2017['g134_1'] + dfP2017['g134_2'] \\\n",
    "    + dfP2017['g134_3'] + dfP2017['g134_4']\n",
    "\n",
    "df_ysos['edad'] = dfP2017['e27']\n",
    "df_ysos['sexo'] = dfP2017['e26']\n",
    "df_ysos['antiguedad'] = dfP2017['f88_2']\n",
    "df_ysos['categoria_ocup'] = dfP2017['f73']\n",
    "df_ysos['anios_educ'] = dfP2017['e51_2'] + dfP2017['e51_3'] + dfP2017['e51_4'] \\\n",
    "    + dfP2017['e51_5'] + dfP2017['e51_6'] + dfP2017['e51_7'] + dfP2017['e51_8'] \\\n",
    "    + dfP2017['e51_9'] + dfP2017['e51_10'] + dfP2017['e51_11']\n",
    "\n",
    "df_ysos = df_ysos[df_ysos['ysos_dep'] > 0]\n",
    "df_ysos = df_ysos.loc[(df_ysos['categoria_ocup'] == \"Asalariado/a privado/a\") | (df_ysos['categoria_ocup'] == \"Asalariado/a público/a\")]"
   ]
  },
  {
   "cell_type": "code",
   "execution_count": 5,
   "id": "892f0bbd",
   "metadata": {
    "id": "734c606f",
    "outputId": "85565424-9ada-4995-b026-78e8629d12a9"
   },
   "outputs": [
    {
     "data": {
      "text/html": [
       "<div>\n",
       "<style scoped>\n",
       "    .dataframe tbody tr th:only-of-type {\n",
       "        vertical-align: middle;\n",
       "    }\n",
       "\n",
       "    .dataframe tbody tr th {\n",
       "        vertical-align: top;\n",
       "    }\n",
       "\n",
       "    .dataframe thead th {\n",
       "        text-align: right;\n",
       "    }\n",
       "</style>\n",
       "<table border=\"1\" class=\"dataframe\">\n",
       "  <thead>\n",
       "    <tr style=\"text-align: right;\">\n",
       "      <th></th>\n",
       "      <th>edad</th>\n",
       "      <th>sexo</th>\n",
       "      <th>antiguedad</th>\n",
       "      <th>categoria_ocup</th>\n",
       "      <th>anios_educ</th>\n",
       "      <th>l_ysos_dep</th>\n",
       "    </tr>\n",
       "  </thead>\n",
       "  <tbody>\n",
       "    <tr>\n",
       "      <th>0</th>\n",
       "      <td>70.0</td>\n",
       "      <td>Hombre</td>\n",
       "      <td>7.0</td>\n",
       "      <td>Asalariado/a privado/a</td>\n",
       "      <td>6.0</td>\n",
       "      <td>9.798127</td>\n",
       "    </tr>\n",
       "    <tr>\n",
       "      <th>2</th>\n",
       "      <td>52.0</td>\n",
       "      <td>Hombre</td>\n",
       "      <td>32.0</td>\n",
       "      <td>Asalariado/a público/a</td>\n",
       "      <td>6.0</td>\n",
       "      <td>10.778956</td>\n",
       "    </tr>\n",
       "    <tr>\n",
       "      <th>5</th>\n",
       "      <td>42.0</td>\n",
       "      <td>Mujer</td>\n",
       "      <td>0.0</td>\n",
       "      <td>Asalariado/a privado/a</td>\n",
       "      <td>16.0</td>\n",
       "      <td>10.404263</td>\n",
       "    </tr>\n",
       "    <tr>\n",
       "      <th>7</th>\n",
       "      <td>29.0</td>\n",
       "      <td>Mujer</td>\n",
       "      <td>1.0</td>\n",
       "      <td>Asalariado/a privado/a</td>\n",
       "      <td>8.0</td>\n",
       "      <td>7.783224</td>\n",
       "    </tr>\n",
       "    <tr>\n",
       "      <th>8</th>\n",
       "      <td>37.0</td>\n",
       "      <td>Hombre</td>\n",
       "      <td>4.0</td>\n",
       "      <td>Asalariado/a privado/a</td>\n",
       "      <td>6.0</td>\n",
       "      <td>10.043249</td>\n",
       "    </tr>\n",
       "  </tbody>\n",
       "</table>\n",
       "</div>"
      ],
      "text/plain": [
       "   edad    sexo  antiguedad          categoria_ocup  anios_educ  l_ysos_dep\n",
       "0  70.0  Hombre         7.0  Asalariado/a privado/a         6.0    9.798127\n",
       "2  52.0  Hombre        32.0  Asalariado/a público/a         6.0   10.778956\n",
       "5  42.0   Mujer         0.0  Asalariado/a privado/a        16.0   10.404263\n",
       "7  29.0   Mujer         1.0  Asalariado/a privado/a         8.0    7.783224\n",
       "8  37.0  Hombre         4.0  Asalariado/a privado/a         6.0   10.043249"
      ]
     },
     "execution_count": 5,
     "metadata": {},
     "output_type": "execute_result"
    }
   ],
   "source": [
    "df_ysos['l_ysos_dep'] = np.log(df_ysos['ysos_dep'])\n",
    "df_l_ysos = df_ysos.drop(columns=['ysos_dep'])\n",
    "df_l_ysos.head()"
   ]
  },
  {
   "cell_type": "code",
   "execution_count": 6,
   "id": "f2875b04",
   "metadata": {
    "id": "f21ecf72",
    "outputId": "1922e4cd-a121-4eab-deed-4a0ac3beb565"
   },
   "outputs": [
    {
     "data": {
      "text/html": [
       "<div>\n",
       "<style scoped>\n",
       "    .dataframe tbody tr th:only-of-type {\n",
       "        vertical-align: middle;\n",
       "    }\n",
       "\n",
       "    .dataframe tbody tr th {\n",
       "        vertical-align: top;\n",
       "    }\n",
       "\n",
       "    .dataframe thead th {\n",
       "        text-align: right;\n",
       "    }\n",
       "</style>\n",
       "<table border=\"1\" class=\"dataframe\">\n",
       "  <thead>\n",
       "    <tr style=\"text-align: right;\">\n",
       "      <th></th>\n",
       "      <th>edad</th>\n",
       "      <th>anios_educ</th>\n",
       "      <th>antiguedad</th>\n",
       "      <th>sexo_Mujer</th>\n",
       "      <th>categoria_ocup_Asalariado/a público/a</th>\n",
       "      <th>l_ysos_dep</th>\n",
       "    </tr>\n",
       "  </thead>\n",
       "  <tbody>\n",
       "    <tr>\n",
       "      <th>0</th>\n",
       "      <td>2.291690</td>\n",
       "      <td>-1.207866</td>\n",
       "      <td>-0.164103</td>\n",
       "      <td>0.0</td>\n",
       "      <td>0.0</td>\n",
       "      <td>9.798127</td>\n",
       "    </tr>\n",
       "    <tr>\n",
       "      <th>1</th>\n",
       "      <td>0.896131</td>\n",
       "      <td>-1.207866</td>\n",
       "      <td>2.438510</td>\n",
       "      <td>0.0</td>\n",
       "      <td>1.0</td>\n",
       "      <td>10.778956</td>\n",
       "    </tr>\n",
       "    <tr>\n",
       "      <th>2</th>\n",
       "      <td>0.120821</td>\n",
       "      <td>0.966088</td>\n",
       "      <td>-0.892834</td>\n",
       "      <td>1.0</td>\n",
       "      <td>0.0</td>\n",
       "      <td>10.404263</td>\n",
       "    </tr>\n",
       "    <tr>\n",
       "      <th>3</th>\n",
       "      <td>-0.887083</td>\n",
       "      <td>-0.773075</td>\n",
       "      <td>-0.788730</td>\n",
       "      <td>1.0</td>\n",
       "      <td>0.0</td>\n",
       "      <td>7.783224</td>\n",
       "    </tr>\n",
       "    <tr>\n",
       "      <th>4</th>\n",
       "      <td>-0.266835</td>\n",
       "      <td>-1.207866</td>\n",
       "      <td>-0.476416</td>\n",
       "      <td>0.0</td>\n",
       "      <td>0.0</td>\n",
       "      <td>10.043249</td>\n",
       "    </tr>\n",
       "  </tbody>\n",
       "</table>\n",
       "</div>"
      ],
      "text/plain": [
       "       edad  anios_educ  antiguedad  sexo_Mujer  \\\n",
       "0  2.291690   -1.207866   -0.164103         0.0   \n",
       "1  0.896131   -1.207866    2.438510         0.0   \n",
       "2  0.120821    0.966088   -0.892834         1.0   \n",
       "3 -0.887083   -0.773075   -0.788730         1.0   \n",
       "4 -0.266835   -1.207866   -0.476416         0.0   \n",
       "\n",
       "   categoria_ocup_Asalariado/a público/a  l_ysos_dep  \n",
       "0                                    0.0    9.798127  \n",
       "1                                    1.0   10.778956  \n",
       "2                                    0.0   10.404263  \n",
       "3                                    0.0    7.783224  \n",
       "4                                    0.0   10.043249  "
      ]
     },
     "execution_count": 6,
     "metadata": {},
     "output_type": "execute_result"
    }
   ],
   "source": [
    "categorical_columns = ['sexo', 'categoria_ocup']\n",
    "numerical_columns = ['edad', 'anios_educ', 'antiguedad']\n",
    "\n",
    "column_transform = make_column_transformer(\n",
    "    (StandardScaler(), numerical_columns),\n",
    "    (OneHotEncoder(drop='if_binary'), categorical_columns),\n",
    "    remainder='passthrough',\n",
    "    verbose_feature_names_out=False)\n",
    "\n",
    "df_l_ysos_transf = pd.DataFrame(\n",
    "    column_transform.fit_transform(df_l_ysos), \n",
    "    columns=column_transform.get_feature_names_out()\n",
    ")\n",
    "df_l_ysos_transf.head()"
   ]
  },
  {
   "cell_type": "markdown",
   "id": "5e5cbfff",
   "metadata": {
    "id": "b364a3a2"
   },
   "source": [
    "## División del dataset en Train y Test"
   ]
  },
  {
   "cell_type": "code",
   "execution_count": 7,
   "id": "73220e19",
   "metadata": {
    "id": "f33ab3d9"
   },
   "outputs": [
    {
     "data": {
      "text/plain": [
       "((29908, 5), (7477, 5), (29908,), (7477,))"
      ]
     },
     "execution_count": 7,
     "metadata": {},
     "output_type": "execute_result"
    }
   ],
   "source": [
    "X_train, X_test, y_train, y_test = train_test_split(\n",
    "    df_l_ysos_transf[['edad', 'sexo_Mujer', 'anios_educ', 'antiguedad', 'categoria_ocup_Asalariado/a público/a']],\n",
    "    df_l_ysos_transf['l_ysos_dep'], \n",
    "    test_size=0.20, \n",
    "    random_state=1234\n",
    ")\n",
    "\n",
    "X_train.shape, X_test.shape, y_train.shape, y_test.shape"
   ]
  },
  {
   "cell_type": "markdown",
   "id": "24cf5f6b",
   "metadata": {
    "id": "e3d113ee"
   },
   "source": [
    "## Generación del Pipeline\n",
    "\n",
    "**¿Qué es un _pipeline_ en _machine learning_?**\n",
    "\n",
    "Los _pipelines_ de datos se caracterizan por definir el conjunto de pasos o fases y las tecnologías involucradas en un proceso de movimiento o procesamiento de datos."
   ]
  },
  {
   "cell_type": "code",
   "execution_count": 8,
   "id": "4a939135",
   "metadata": {
    "id": "bdd8f7a8"
   },
   "outputs": [
    {
     "name": "stdout",
     "output_type": "stream",
     "text": [
      "Model Error Train: 0.3702760646178663\n",
      "Model Error Test: 0.3736517352939237\n"
     ]
    }
   ],
   "source": [
    "pipeline = make_pipeline(StandardScaler(), LinearRegression())\n",
    "pipeline.fit(X_train, y_train)\n",
    "\n",
    "y_test_pred = pipeline.predict(X_test)\n",
    "y_train_pred = pipeline.predict(X_train)\n",
    "\n",
    "print(f'Model Error Train: {mean_squared_error(y_train, y_train_pred)}')\n",
    "print(f'Model Error Test: {mean_squared_error(y_test, y_test_pred)}')"
   ]
  },
  {
   "cell_type": "markdown",
   "id": "e4fe9c36",
   "metadata": {
    "id": "0df6a603"
   },
   "source": [
    "## Validación cruzada\n",
    "\n",
    "- Información de la función [`cross_val_score`](https://scikit-learn.org/stable/modules/generated/sklearn.model_selection.cross_val_score.html)\n",
    "\n",
    "- Información de [scoring](https://scikit-learn.org/stable/modules/model_evaluation.html)"
   ]
  },
  {
   "cell_type": "code",
   "execution_count": 9,
   "id": "ef744583",
   "metadata": {
    "id": "00a734b2",
    "outputId": "9e5945e2-2358-4fa5-da1b-78a463238b0c"
   },
   "outputs": [
    {
     "name": "stdout",
     "output_type": "stream",
     "text": [
      "CV Error for a 10 folds: \n",
      "[0.36184985 0.34843655 0.37479687 0.36835287 0.37265196 0.3570935\n",
      " 0.39058732 0.36250988 0.36535322 0.40296933]\n"
     ]
    }
   ],
   "source": [
    "k_folds = 10\n",
    "\n",
    "scores_cv = cross_val_score(pipeline, X = X_train, y = y_train, cv = k_folds, scoring='neg_mean_squared_error')\n",
    "print('CV Error for a %s folds: \\n%s' %(k_folds, -1*scores_cv))"
   ]
  },
  {
   "cell_type": "code",
   "execution_count": 10,
   "id": "16d34d4e",
   "metadata": {
    "id": "a0600e20"
   },
   "outputs": [
    {
     "name": "stdout",
     "output_type": "stream",
     "text": [
      "Model Error Train: 0.3702760646178663\n",
      "Model Error Test: 0.3736517352939237\n",
      "Model Error CV: 0.3704601334360113 ± 0.015222130830402362\n"
     ]
    }
   ],
   "source": [
    "error_train = mean_squared_error(y_train, y_train_pred)\n",
    "error_cv = -1 * np.mean(scores_cv)\n",
    "error_test = mean_squared_error(y_test, y_test_pred)\n",
    "\n",
    "print(f'Model Error Train: {error_train}')\n",
    "print(f'Model Error Test: {error_test}')\n",
    "print(f'Model Error CV: {error_cv} ± {np.std(scores_cv)}')"
   ]
  },
  {
   "cell_type": "markdown",
   "id": "fa4f01b1",
   "metadata": {
    "id": "ac92f5d8"
   },
   "source": [
    "**Tarea 2.6:** Incorporar más variables. Analizar los resultados para CV y conclusiones\n",
    "\n",
    "Para esta tarea, entonces, se pide agregar más variables del dataset original y\n",
    "repetir lo realizado en celdas anteriores, para lograr comparar el error\n",
    "obtenido en el proceso de _cross validation_. Para ello:"
   ]
  },
  {
   "cell_type": "code",
   "execution_count": 11,
   "id": "acc2dcbe",
   "metadata": {},
   "outputs": [
    {
     "data": {
      "text/html": [
       "<div>\n",
       "<style scoped>\n",
       "    .dataframe tbody tr th:only-of-type {\n",
       "        vertical-align: middle;\n",
       "    }\n",
       "\n",
       "    .dataframe tbody tr th {\n",
       "        vertical-align: top;\n",
       "    }\n",
       "\n",
       "    .dataframe thead th {\n",
       "        text-align: right;\n",
       "    }\n",
       "</style>\n",
       "<table border=\"1\" class=\"dataframe\">\n",
       "  <thead>\n",
       "    <tr style=\"text-align: right;\">\n",
       "      <th></th>\n",
       "      <th>edad</th>\n",
       "      <th>anios_educ</th>\n",
       "      <th>antiguedad</th>\n",
       "      <th>mto_cuota</th>\n",
       "      <th>mto_emer</th>\n",
       "      <th>mto_hogcon</th>\n",
       "      <th>mto_desay</th>\n",
       "      <th>mto_almue</th>\n",
       "      <th>mto_vacas</th>\n",
       "      <th>mto_oveja</th>\n",
       "      <th>...</th>\n",
       "      <th>pesoano</th>\n",
       "      <th>pesosem</th>\n",
       "      <th>pesotri</th>\n",
       "      <th>pesomen</th>\n",
       "      <th>indatuberc</th>\n",
       "      <th>indaoncolo</th>\n",
       "      <th>indasida</th>\n",
       "      <th>sexo_Mujer</th>\n",
       "      <th>categoria_ocup_Asalariado/a público/a</th>\n",
       "      <th>l_ysos_dep</th>\n",
       "    </tr>\n",
       "  </thead>\n",
       "  <tbody>\n",
       "    <tr>\n",
       "      <th>0</th>\n",
       "      <td>2.291690</td>\n",
       "      <td>-1.207866</td>\n",
       "      <td>-0.164103</td>\n",
       "      <td>-1.638654</td>\n",
       "      <td>0.774950</td>\n",
       "      <td>-3.245221</td>\n",
       "      <td>-3.245221</td>\n",
       "      <td>-3.245221</td>\n",
       "      <td>-0.088074</td>\n",
       "      <td>-0.709761</td>\n",
       "      <td>...</td>\n",
       "      <td>-0.221032</td>\n",
       "      <td>0.919763</td>\n",
       "      <td>-0.061062</td>\n",
       "      <td>-0.282238</td>\n",
       "      <td>0.005259</td>\n",
       "      <td>0.721739</td>\n",
       "      <td>0.721739</td>\n",
       "      <td>0.0</td>\n",
       "      <td>0.0</td>\n",
       "      <td>9.798127</td>\n",
       "    </tr>\n",
       "    <tr>\n",
       "      <th>1</th>\n",
       "      <td>0.896131</td>\n",
       "      <td>-1.207866</td>\n",
       "      <td>2.438510</td>\n",
       "      <td>-0.721851</td>\n",
       "      <td>-0.883782</td>\n",
       "      <td>0.308145</td>\n",
       "      <td>0.308145</td>\n",
       "      <td>0.308145</td>\n",
       "      <td>-1.050833</td>\n",
       "      <td>-0.709761</td>\n",
       "      <td>...</td>\n",
       "      <td>0.585064</td>\n",
       "      <td>1.238923</td>\n",
       "      <td>0.577820</td>\n",
       "      <td>1.174103</td>\n",
       "      <td>-0.210475</td>\n",
       "      <td>0.135379</td>\n",
       "      <td>0.135379</td>\n",
       "      <td>0.0</td>\n",
       "      <td>1.0</td>\n",
       "      <td>10.778956</td>\n",
       "    </tr>\n",
       "    <tr>\n",
       "      <th>2</th>\n",
       "      <td>0.120821</td>\n",
       "      <td>0.966088</td>\n",
       "      <td>-0.892834</td>\n",
       "      <td>-1.043536</td>\n",
       "      <td>0.965296</td>\n",
       "      <td>0.308145</td>\n",
       "      <td>0.308145</td>\n",
       "      <td>0.308145</td>\n",
       "      <td>-1.050833</td>\n",
       "      <td>-0.709761</td>\n",
       "      <td>...</td>\n",
       "      <td>-0.704690</td>\n",
       "      <td>0.664434</td>\n",
       "      <td>-0.775106</td>\n",
       "      <td>-0.722527</td>\n",
       "      <td>0.005259</td>\n",
       "      <td>0.721739</td>\n",
       "      <td>0.721739</td>\n",
       "      <td>1.0</td>\n",
       "      <td>0.0</td>\n",
       "      <td>10.404263</td>\n",
       "    </tr>\n",
       "    <tr>\n",
       "      <th>3</th>\n",
       "      <td>-0.887083</td>\n",
       "      <td>-0.773075</td>\n",
       "      <td>-0.788730</td>\n",
       "      <td>-0.947031</td>\n",
       "      <td>0.974360</td>\n",
       "      <td>0.308145</td>\n",
       "      <td>0.308145</td>\n",
       "      <td>0.308145</td>\n",
       "      <td>-1.050833</td>\n",
       "      <td>-0.709761</td>\n",
       "      <td>...</td>\n",
       "      <td>1.229940</td>\n",
       "      <td>1.462336</td>\n",
       "      <td>1.179120</td>\n",
       "      <td>0.970893</td>\n",
       "      <td>-0.148836</td>\n",
       "      <td>0.302910</td>\n",
       "      <td>0.302910</td>\n",
       "      <td>1.0</td>\n",
       "      <td>0.0</td>\n",
       "      <td>7.783224</td>\n",
       "    </tr>\n",
       "    <tr>\n",
       "      <th>4</th>\n",
       "      <td>-0.266835</td>\n",
       "      <td>-1.207866</td>\n",
       "      <td>-0.476416</td>\n",
       "      <td>-0.947031</td>\n",
       "      <td>0.974360</td>\n",
       "      <td>0.308145</td>\n",
       "      <td>0.308145</td>\n",
       "      <td>0.308145</td>\n",
       "      <td>-1.050833</td>\n",
       "      <td>-0.709761</td>\n",
       "      <td>...</td>\n",
       "      <td>1.229940</td>\n",
       "      <td>1.462336</td>\n",
       "      <td>1.179120</td>\n",
       "      <td>0.970893</td>\n",
       "      <td>-0.148836</td>\n",
       "      <td>0.302910</td>\n",
       "      <td>0.302910</td>\n",
       "      <td>0.0</td>\n",
       "      <td>0.0</td>\n",
       "      <td>10.043249</td>\n",
       "    </tr>\n",
       "  </tbody>\n",
       "</table>\n",
       "<p>5 rows × 27 columns</p>\n",
       "</div>"
      ],
      "text/plain": [
       "       edad  anios_educ  antiguedad  mto_cuota  mto_emer  mto_hogcon  \\\n",
       "0  2.291690   -1.207866   -0.164103  -1.638654  0.774950   -3.245221   \n",
       "1  0.896131   -1.207866    2.438510  -0.721851 -0.883782    0.308145   \n",
       "2  0.120821    0.966088   -0.892834  -1.043536  0.965296    0.308145   \n",
       "3 -0.887083   -0.773075   -0.788730  -0.947031  0.974360    0.308145   \n",
       "4 -0.266835   -1.207866   -0.476416  -0.947031  0.974360    0.308145   \n",
       "\n",
       "   mto_desay  mto_almue  mto_vacas  mto_oveja  ...   pesoano   pesosem  \\\n",
       "0  -3.245221  -3.245221  -0.088074  -0.709761  ... -0.221032  0.919763   \n",
       "1   0.308145   0.308145  -1.050833  -0.709761  ...  0.585064  1.238923   \n",
       "2   0.308145   0.308145  -1.050833  -0.709761  ... -0.704690  0.664434   \n",
       "3   0.308145   0.308145  -1.050833  -0.709761  ...  1.229940  1.462336   \n",
       "4   0.308145   0.308145  -1.050833  -0.709761  ...  1.229940  1.462336   \n",
       "\n",
       "    pesotri   pesomen  indatuberc  indaoncolo  indasida  sexo_Mujer  \\\n",
       "0 -0.061062 -0.282238    0.005259    0.721739  0.721739         0.0   \n",
       "1  0.577820  1.174103   -0.210475    0.135379  0.135379         0.0   \n",
       "2 -0.775106 -0.722527    0.005259    0.721739  0.721739         1.0   \n",
       "3  1.179120  0.970893   -0.148836    0.302910  0.302910         1.0   \n",
       "4  1.179120  0.970893   -0.148836    0.302910  0.302910         0.0   \n",
       "\n",
       "   categoria_ocup_Asalariado/a público/a  l_ysos_dep  \n",
       "0                                    0.0    9.798127  \n",
       "1                                    1.0   10.778956  \n",
       "2                                    0.0   10.404263  \n",
       "3                                    0.0    7.783224  \n",
       "4                                    0.0   10.043249  \n",
       "\n",
       "[5 rows x 27 columns]"
      ]
     },
     "execution_count": 11,
     "metadata": {},
     "output_type": "execute_result"
    }
   ],
   "source": [
    "df_additional_columns = df_l_ysos.copy()\n",
    "columns_to_add = ['mto_cuota', 'mto_emer', 'mto_hogcon', 'mto_desay',\n",
    "                'mto_almue', 'mto_vacas', 'mto_oveja', 'mto_caball', \n",
    "                'indabajo', 'indaplomo', 'indadiabet', 'indarenal',\n",
    "                'indarendia', 'indaceliac', 'pesoano', 'pesosem', 'pesotri',\n",
    "                'pesomen', 'indatuberc', 'indaoncolo', 'indasida']\n",
    "\n",
    "for column in columns_to_add:\n",
    "    df_additional_columns[column] = dfP2017[column]\n",
    "\n",
    "additional_column_transform = make_column_transformer(\n",
    "    (StandardScaler(), numerical_columns + columns_to_add),\n",
    "    (OneHotEncoder(drop='if_binary'), categorical_columns),\n",
    "    remainder='passthrough',\n",
    "    verbose_feature_names_out=False)\n",
    "\n",
    "df_additional_columns_t = pd.DataFrame(\n",
    "    additional_column_transform.fit_transform(df_additional_columns), \n",
    "    columns=additional_column_transform.get_feature_names_out()\n",
    ")\n",
    "df_additional_columns_t.head()"
   ]
  },
  {
   "cell_type": "code",
   "execution_count": 12,
   "id": "afd3a7fe",
   "metadata": {},
   "outputs": [
    {
     "data": {
      "text/plain": [
       "((29908, 26), (7477, 26), (29908,), (7477,))"
      ]
     },
     "execution_count": 12,
     "metadata": {},
     "output_type": "execute_result"
    }
   ],
   "source": [
    "X_train_a, X_test_a, y_train_a, y_test_a =  train_test_split(\n",
    "    df_additional_columns_t.drop('l_ysos_dep', axis=1),\n",
    "    df_additional_columns_t['l_ysos_dep'], \n",
    "    test_size=0.20, \n",
    "    random_state=1234\n",
    ")\n",
    "\n",
    "X_train_a.shape, X_test_a.shape, y_train_a.shape, y_test_a.shape"
   ]
  },
  {
   "cell_type": "code",
   "execution_count": 31,
   "id": "353654ea",
   "metadata": {},
   "outputs": [
    {
     "name": "stdout",
     "output_type": "stream",
     "text": [
      "CV Error for a 10 folds: \n",
      "[0.35454656 0.34449619 0.36903326 0.36311118 0.36751582 0.35343479\n",
      " 0.38298373 0.35626569 0.35674611 0.39719864]\n",
      "\n",
      "Model Error Train: 0.36398525086559286\n",
      "Model Error Test: 0.3692238964005467\n",
      "Model Error CV: 0.3645331957817406 ± 0.014805409327388701\n"
     ]
    }
   ],
   "source": [
    "k_folds = 10\n",
    "\n",
    "pipeline.fit(X_train_a, y_train_a)\n",
    "scores_cv_a = cross_val_score(pipeline, X = X_train_a, y = y_train_a, cv = k_folds, scoring='neg_mean_squared_error')\n",
    "print('CV Error for a %s folds: \\n%s\\n' %(k_folds, -1 * scores_cv_a))\n",
    "\n",
    "error_train_a = mean_squared_error(y_train_a, pipeline.predict(X_train_a))\n",
    "error_test_a = mean_squared_error(y_test_a, pipeline.predict(X_test_a))\n",
    "error_cv_a = -1 * np.mean(scores_cv_a)\n",
    "\n",
    "print(f'Model Error Train: {error_train_a}')\n",
    "print(f'Model Error Test: {error_test_a}')\n",
    "print(f'Model Error CV: {error_cv_a} ± {np.std(scores_cv_a)}')"
   ]
  },
  {
   "cell_type": "markdown",
   "id": "def95272",
   "metadata": {},
   "source": [
    "En cuanto a los resultados/errores obtenidos luego de incorporar estas nuevas columnas,\n",
    "y en particular con respecto a (como pide la propuesta), el valor calculado para\n",
    "el error de _cross validation_, podemos observar que este ha disminuido\n",
    "levemente en cuanto su valor medio, si bien esta disminución es menor a la\n",
    "desviación estándar para el mismo.\n",
    "\n",
    "Esto puede indicar que las columnas agregadas tal cual podrían no ser valiosas\n",
    "como variables predictoras de la variable objetivo en este caso, pudiéndose\n",
    "entonces considerar agregar otras o alguna transformación de datos adicional que\n",
    "pueda resultar más beneficiosa de acuerdo al modelo de _machine learning_\n",
    "seleccionado y a las características concretas del problema."
   ]
  },
  {
   "cell_type": "markdown",
   "id": "919248b3",
   "metadata": {
    "id": "07f51512"
   },
   "source": [
    "## Realizamos implementación de CV con varias fórmulas (sesgos inductivos)\n",
    "\n",
    "* Aprovechamos salida de `sm.OLS`, por lo que agregamos una constante al _dataset_ de _train_\n",
    "* Luego debemos descartar (o no incluir) la constante en el _dataset_ de _train_ al utilizar la función `cross_validate`\n",
    "* [Por qué `neg_mean_squared_error`](https://stackoverflow.com/questions/48244219/is-sklearn-metrics-mean-squared-error-the-larger-the-better-negated)"
   ]
  },
  {
   "cell_type": "code",
   "execution_count": 14,
   "id": "bf889172",
   "metadata": {
    "id": "6c743f7f"
   },
   "outputs": [],
   "source": [
    "import statsmodels.api as sm\n",
    "import matplotlib.pyplot as plt\n",
    "from sklearn.model_selection import cross_validate"
   ]
  },
  {
   "cell_type": "code",
   "execution_count": 15,
   "id": "dfb1009f",
   "metadata": {
    "id": "57cdc204",
    "outputId": "70289d68-9ae0-46d5-e0a3-0aac39112d2f"
   },
   "outputs": [
    {
     "data": {
      "text/plain": [
       "<matplotlib.legend.Legend at 0x131d58d50>"
      ]
     },
     "execution_count": 15,
     "metadata": {},
     "output_type": "execute_result"
    },
    {
     "data": {
      "image/png": "[encoded data removed]",
      "text/plain": [
       "<Figure size 640x480 with 1 Axes>"
      ]
     },
     "metadata": {},
     "output_type": "display_data"
    }
   ],
   "source": [
    "model = LinearRegression()\n",
    "\n",
    "independent_1 = ['anios_educ']\n",
    "independent_2 = ['antiguedad']\n",
    "independent_3 = ['edad', 'sexo_Mujer', 'anios_educ']\n",
    "independent_4 = ['edad', 'sexo_Mujer', 'anios_educ', 'antiguedad', 'categoria_ocup_Asalariado/a público/a']\n",
    "\n",
    "CV_1_X_train = sm.add_constant(X_train[independent_1])\n",
    "CV_2_X_train = sm.add_constant(X_train[independent_2])\n",
    "CV_3_X_train = sm.add_constant(X_train[independent_3])\n",
    "CV_4_X_train = sm.add_constant(X_train[independent_4])\n",
    "\n",
    "CV_1_X_test = sm.add_constant(X_test[independent_1])\n",
    "CV_2_X_test = sm.add_constant(X_test[independent_2])\n",
    "CV_3_X_test = sm.add_constant(X_test[independent_3])\n",
    "CV_4_X_test = sm.add_constant(X_test[independent_4])\n",
    "\n",
    "modCV_1 = sm.OLS(y_train, CV_1_X_train).fit()\n",
    "modCV_2 = sm.OLS(y_train, CV_2_X_train).fit()\n",
    "modCV_3 = sm.OLS(y_train, CV_3_X_train).fit()\n",
    "modCV_4 = sm.OLS(y_train, CV_4_X_train).fit()\n",
    "\n",
    "CV_1_y_train_pred = modCV_1.predict(CV_1_X_train)\n",
    "CV_2_y_train_pred = modCV_2.predict(CV_2_X_train)\n",
    "CV_3_y_train_pred = modCV_3.predict(CV_3_X_train)\n",
    "CV_4_y_train_pred = modCV_4.predict(CV_4_X_train)\n",
    "\n",
    "CV_1_y_test_pred = modCV_1.predict(CV_1_X_test)\n",
    "CV_2_y_test_pred = modCV_2.predict(CV_2_X_test)\n",
    "CV_3_y_test_pred = modCV_3.predict(CV_3_X_test)\n",
    "CV_4_y_test_pred = modCV_4.predict(CV_4_X_test)\n",
    "\n",
    "CV_1_mse_train = mean_squared_error(y_train, CV_1_y_train_pred)\n",
    "CV_2_mse_train = mean_squared_error(y_train, CV_2_y_train_pred)\n",
    "CV_3_mse_train = mean_squared_error(y_train, CV_3_y_train_pred)\n",
    "CV_4_mse_train = mean_squared_error(y_train, CV_4_y_train_pred)\n",
    "\n",
    "CV_1_mse_test = mean_squared_error(y_test, CV_1_y_test_pred)\n",
    "CV_2_mse_test = mean_squared_error(y_test, CV_2_y_test_pred)\n",
    "CV_3_mse_test = mean_squared_error(y_test, CV_3_y_test_pred)\n",
    "CV_4_mse_test = mean_squared_error(y_test, CV_4_y_test_pred)\n",
    "\n",
    "CV_1_mse_cv = -cross_validate(model, X_train[independent_1], y_train, cv=5, scoring=('neg_mean_squared_error'))['test_score'].mean()\n",
    "CV_2_mse_cv = -cross_validate(model, X_train[independent_2], y_train, cv=5, scoring=('neg_mean_squared_error'))['test_score'].mean()\n",
    "CV_3_mse_cv = -cross_validate(model, X_train[independent_3], y_train, cv=5, scoring=('neg_mean_squared_error'))['test_score'].mean()\n",
    "CV_4_mse_cv = -cross_validate(model, X_train[independent_4], y_train, cv=5, scoring=('neg_mean_squared_error'))['test_score'].mean()\n",
    "\n",
    "evaluate = pd.DataFrame(            \n",
    "    {'mod': pd.Series(['CV_1', 'CV_2', 'CV_3', 'CV_4']).astype('category'),\n",
    "     'mse_train': pd.Series([CV_1_mse_train, CV_2_mse_train, CV_3_mse_train, CV_4_mse_train]).astype('float64'),\n",
    "     'mse_test': pd.Series([CV_1_mse_test, CV_2_mse_test, CV_3_mse_test, CV_4_mse_test]).astype('float64'),\n",
    "     'mse_cv': pd.Series([CV_1_mse_cv, CV_2_mse_cv, CV_3_mse_cv, CV_4_mse_cv]).astype('float64')    \n",
    "    }\n",
    ")\n",
    "\n",
    "plt.plot(evaluate['mod'], evaluate['mse_train'], label = 'mse_train')\n",
    "plt.plot(evaluate['mod'], evaluate['mse_test'], label = 'mse_test')\n",
    "plt.plot(evaluate['mod'], evaluate['mse_cv'], label = 'mse_cv')\n",
    "plt.legend(loc=\"upper right\")"
   ]
  },
  {
   "cell_type": "code",
   "execution_count": 16,
   "id": "224b17ad",
   "metadata": {
    "id": "4c27a779",
    "outputId": "dd6f0206-b865-4b35-e943-0b907e22994e"
   },
   "outputs": [
    {
     "data": {
      "text/html": [
       "<div>\n",
       "<style scoped>\n",
       "    .dataframe tbody tr th:only-of-type {\n",
       "        vertical-align: middle;\n",
       "    }\n",
       "\n",
       "    .dataframe tbody tr th {\n",
       "        vertical-align: top;\n",
       "    }\n",
       "\n",
       "    .dataframe thead th {\n",
       "        text-align: right;\n",
       "    }\n",
       "</style>\n",
       "<table border=\"1\" class=\"dataframe\">\n",
       "  <thead>\n",
       "    <tr style=\"text-align: right;\">\n",
       "      <th></th>\n",
       "      <th>mod</th>\n",
       "      <th>mse_train</th>\n",
       "      <th>mse_test</th>\n",
       "      <th>mse_cv</th>\n",
       "    </tr>\n",
       "  </thead>\n",
       "  <tbody>\n",
       "    <tr>\n",
       "      <th>0</th>\n",
       "      <td>CV_1</td>\n",
       "      <td>0.484009</td>\n",
       "      <td>0.483428</td>\n",
       "      <td>0.484063</td>\n",
       "    </tr>\n",
       "    <tr>\n",
       "      <th>1</th>\n",
       "      <td>CV_2</td>\n",
       "      <td>0.466348</td>\n",
       "      <td>0.468965</td>\n",
       "      <td>0.466375</td>\n",
       "    </tr>\n",
       "    <tr>\n",
       "      <th>2</th>\n",
       "      <td>CV_3</td>\n",
       "      <td>0.410643</td>\n",
       "      <td>0.413290</td>\n",
       "      <td>0.410748</td>\n",
       "    </tr>\n",
       "    <tr>\n",
       "      <th>3</th>\n",
       "      <td>CV_4</td>\n",
       "      <td>0.370276</td>\n",
       "      <td>0.373652</td>\n",
       "      <td>0.370442</td>\n",
       "    </tr>\n",
       "  </tbody>\n",
       "</table>\n",
       "</div>"
      ],
      "text/plain": [
       "    mod  mse_train  mse_test    mse_cv\n",
       "0  CV_1   0.484009  0.483428  0.484063\n",
       "1  CV_2   0.466348  0.468965  0.466375\n",
       "2  CV_3   0.410643  0.413290  0.410748\n",
       "3  CV_4   0.370276  0.373652  0.370442"
      ]
     },
     "execution_count": 16,
     "metadata": {},
     "output_type": "execute_result"
    }
   ],
   "source": [
    "evaluate"
   ]
  },
  {
   "cell_type": "markdown",
   "id": "10fd6cc9",
   "metadata": {
    "id": "77a08191"
   },
   "source": [
    "## Regularización\n",
    "\n",
    "- [Información de la función `linear_model.Lasso()`](https://scikit-learn.org/stable/modules/generated/sklearn.linear_model.Lasso.html)\n",
    "\n",
    "- [Información de la función `linear_model.Ridge()`](https://scikit-learn.org/stable/modules/generated/sklearn.linear_model.Ridge.html)\n",
    "\n",
    "- Utilizamos todas las variables independientes"
   ]
  },
  {
   "cell_type": "code",
   "execution_count": 35,
   "id": "b8ac67c8",
   "metadata": {
    "id": "9e717073"
   },
   "outputs": [
    {
     "name": "stdout",
     "output_type": "stream",
     "text": [
      "CV error for a 10 folds:\n",
      "[0.36184985 0.34843655 0.37479687 0.36835287 0.37265196 0.3570935\n",
      " 0.39058732 0.36250988 0.36535322 0.40296933]\n",
      "\n",
      "CV error for a 10 folds and Lasso:\n",
      "[0.54047742 0.51983601 0.54680093 0.54502584 0.56659792 0.53170517\n",
      " 0.58762435 0.5532353  0.57257552 0.57738057]\n",
      "\n",
      "Model Score CV and Lasso: 0.5541259025636237 ± 0.02039826452296217\n"
     ]
    }
   ],
   "source": [
    "lasso = Lasso()\n",
    "scores_cv_lasso = cross_val_score(lasso, X = X_train, y = y_train, cv = k_folds, scoring='neg_mean_squared_error')\n",
    "\n",
    "print(f'CV error for a {k_folds} folds:\\n{-1 * scores_cv}\\n')\n",
    "print(f'CV error for a {k_folds} folds and Lasso:\\n{-1 * scores_cv_lasso}\\n')\n",
    "\n",
    "print(f'Model Score CV and Lasso: {-1*np.mean(scores_cv_lasso)} ± {np.std(scores_cv_lasso)}')"
   ]
  },
  {
   "cell_type": "code",
   "execution_count": 30,
   "id": "06973e53",
   "metadata": {
    "id": "6a8e480b"
   },
   "outputs": [
    {
     "data": {
      "text/html": [
       "<div>\n",
       "<style scoped>\n",
       "    .dataframe tbody tr th:only-of-type {\n",
       "        vertical-align: middle;\n",
       "    }\n",
       "\n",
       "    .dataframe tbody tr th {\n",
       "        vertical-align: top;\n",
       "    }\n",
       "\n",
       "    .dataframe thead th {\n",
       "        text-align: right;\n",
       "    }\n",
       "</style>\n",
       "<table border=\"1\" class=\"dataframe\">\n",
       "  <thead>\n",
       "    <tr style=\"text-align: right;\">\n",
       "      <th></th>\n",
       "      <th>Error Train</th>\n",
       "      <th>Error CV</th>\n",
       "      <th>Error CV Lasso</th>\n",
       "      <th>Error Test</th>\n",
       "    </tr>\n",
       "  </thead>\n",
       "  <tbody>\n",
       "    <tr>\n",
       "      <th>0</th>\n",
       "      <td>0.370276</td>\n",
       "      <td>0.37046</td>\n",
       "      <td>0.554126</td>\n",
       "      <td>0.373652</td>\n",
       "    </tr>\n",
       "  </tbody>\n",
       "</table>\n",
       "</div>"
      ],
      "text/plain": [
       "   Error Train  Error CV  Error CV Lasso  Error Test\n",
       "0     0.370276   0.37046        0.554126    0.373652"
      ]
     },
     "execution_count": 30,
     "metadata": {},
     "output_type": "execute_result"
    }
   ],
   "source": [
    "pd.DataFrame({\n",
    "    \"Error Train\": [error_train],\n",
    "    \"Error CV\": [error_cv],\n",
    "    \"Error CV Lasso\": [-1 * np.mean(scores_cv_lasso)],\n",
    "    \"Error Test\": [error_test],\n",
    "})"
   ]
  },
  {
   "cell_type": "markdown",
   "id": "91e00d77",
   "metadata": {
    "id": "bf09d583"
   },
   "source": [
    "**Tarea 2.7:** Incorporar más variables y aplicar la regularización utilizando\n",
    "`Ridge` y `Lasso`, y comparar los resultados. ¿Qué conclusiones puede obtener?\n",
    "\n",
    "Recurriendo el _dataset_ con variables adicionales utilizado para partes\n",
    "anteriores, y aplicando el procedimiento anterior para los algoritmos de\n",
    "regularización mencionados, se obtiene:"
   ]
  },
  {
   "cell_type": "markdown",
   "id": "d01f00a4",
   "metadata": {},
   "source": [
    "**Lasso:**"
   ]
  },
  {
   "cell_type": "code",
   "execution_count": 39,
   "id": "a669ae4a",
   "metadata": {},
   "outputs": [
    {
     "name": "stdout",
     "output_type": "stream",
     "text": [
      "CV error for a 10 folds:\n",
      "[0.35454656 0.34449619 0.36903326 0.36311118 0.36751582 0.35343479\n",
      " 0.38298373 0.35626569 0.35674611 0.39719864]\n",
      "\n",
      "CV error for a 10 folds and Lasso:\n",
      "[0.54047742 0.51983601 0.54680093 0.54502584 0.56659792 0.53170517\n",
      " 0.58762435 0.5532353  0.57257552 0.57738057]\n",
      "\n",
      "Model Score CV and Lasso: 0.5541259025636237 ± 0.02039826452296217\n"
     ]
    }
   ],
   "source": [
    "lasso_a = Lasso()\n",
    "scores_cv_lasso_a = cross_val_score(lasso_a, X = X_train_a, y = y_train_a, cv = k_folds, scoring='neg_mean_squared_error')\n",
    "\n",
    "print(f'CV error for a {k_folds} folds:\\n{-1 * scores_cv_a}\\n')\n",
    "print(f'CV error for a {k_folds} folds and Lasso:\\n{-1 * scores_cv_lasso_a}\\n')\n",
    "\n",
    "print(f'Model Score CV and Lasso: {-1*np.mean(scores_cv_lasso_a)} ± {np.std(scores_cv_lasso_a)}')"
   ]
  },
  {
   "cell_type": "markdown",
   "id": "3df4b1ee",
   "metadata": {},
   "source": [
    "**Ridge:**"
   ]
  },
  {
   "cell_type": "code",
   "execution_count": 40,
   "id": "1431ccb1",
   "metadata": {},
   "outputs": [
    {
     "name": "stdout",
     "output_type": "stream",
     "text": [
      "CV error for a 10 folds:\n",
      "[0.35454656 0.34449619 0.36903326 0.36311118 0.36751582 0.35343479\n",
      " 0.38298373 0.35626569 0.35674611 0.39719864]\n",
      "\n",
      "CV error for a 10 folds and Lasso:\n",
      "[0.35453652 0.34449719 0.36903281 0.36301248 0.36751883 0.35343284\n",
      " 0.38297715 0.35623734 0.35675518 0.39718142]\n",
      "\n",
      "Model Score CV and Lasso: 0.3645181758219463 ± 0.014803608365999674\n"
     ]
    }
   ],
   "source": [
    "ridge_a = Ridge()\n",
    "scores_cv_ridge_a = cross_val_score(ridge_a, X = X_train_a, y = y_train_a, cv = k_folds, scoring='neg_mean_squared_error')\n",
    "\n",
    "print(f'CV error for a {k_folds} folds:\\n{-1 * scores_cv_a}\\n')\n",
    "print(f'CV error for a {k_folds} folds and Lasso:\\n{-1 * scores_cv_ridge_a}\\n')\n",
    "\n",
    "print(f'Model Score CV and Lasso: {-1*np.mean(scores_cv_ridge_a)} ± {np.std(scores_cv_ridge_a)}')"
   ]
  },
  {
   "cell_type": "code",
   "execution_count": 41,
   "id": "7ee21435",
   "metadata": {},
   "outputs": [
    {
     "data": {
      "text/html": [
       "<div>\n",
       "<style scoped>\n",
       "    .dataframe tbody tr th:only-of-type {\n",
       "        vertical-align: middle;\n",
       "    }\n",
       "\n",
       "    .dataframe tbody tr th {\n",
       "        vertical-align: top;\n",
       "    }\n",
       "\n",
       "    .dataframe thead th {\n",
       "        text-align: right;\n",
       "    }\n",
       "</style>\n",
       "<table border=\"1\" class=\"dataframe\">\n",
       "  <thead>\n",
       "    <tr style=\"text-align: right;\">\n",
       "      <th></th>\n",
       "      <th>Error Train</th>\n",
       "      <th>Error CV</th>\n",
       "      <th>Error CV Lasso</th>\n",
       "      <th>Error CV Ridge</th>\n",
       "      <th>Error Test</th>\n",
       "    </tr>\n",
       "  </thead>\n",
       "  <tbody>\n",
       "    <tr>\n",
       "      <th>0</th>\n",
       "      <td>0.363985</td>\n",
       "      <td>0.364533</td>\n",
       "      <td>0.554126</td>\n",
       "      <td>0.364518</td>\n",
       "      <td>0.369224</td>\n",
       "    </tr>\n",
       "  </tbody>\n",
       "</table>\n",
       "</div>"
      ],
      "text/plain": [
       "   Error Train  Error CV  Error CV Lasso  Error CV Ridge  Error Test\n",
       "0     0.363985  0.364533        0.554126        0.364518    0.369224"
      ]
     },
     "execution_count": 41,
     "metadata": {},
     "output_type": "execute_result"
    }
   ],
   "source": [
    "pd.DataFrame({\n",
    "    \"Error Train\": [error_train_a],\n",
    "    \"Error CV\": [error_cv_a],\n",
    "    \"Error CV Lasso\": [-1 * np.mean(scores_cv_lasso_a)],\n",
    "    \"Error CV Ridge\": [-1 * np.mean(scores_cv_ridge_a)],\n",
    "    \"Error Test\": [error_test_a],\n",
    "})"
   ]
  },
  {
   "cell_type": "markdown",
   "id": "c803b73c",
   "metadata": {},
   "source": [
    "En cuanto a los resultados obtenidos es posible observar que el error de\n",
    "_cross validation_ aumenta para la utilización de `Lasso`, y disminuye, si bien\n",
    "de manera apenas apreciable, para la utilización de `Ridge`. Esto puede indicar,\n",
    "aunque en este caso dados los valores obtenidos no parece muy probable (puesto\n",
    "que los errores de _train_ y _test_ son bastante cercanos),que el modelo\n",
    "original sufriera de sobreajuste, y por tanto poder ser positivo el uso de\n",
    "técnicas de regularización para contrarrestar esto.\n",
    "\n",
    "Por otro lado, el que el uso de `Ridge` fuera el que trajo esa mejora, puede\n",
    "indicar que, dentro de las variables seleccionadas, no resulta un factor decisivo\n",
    "en la performance del modelo un subconjunto de variables predictoras con alta\n",
    "correlación, sino la relación entre ellas en conjunto como forma de dar el valor\n",
    "de la variable objetivo. Dado que `Lasso` penaliza individualmente las variables,\n",
    "tendiendo a 0 las _features_ menos valiosas, mientras que `Ridge` lo hace \n",
    "reduciendo o limitando los pesos de todas ellas en general, esta situación\n",
    "podría explicar los resultados dispares obtenidos al aplicar estas dos técnicas."
   ]
  },
  {
   "cell_type": "markdown",
   "id": "ca268a44",
   "metadata": {
    "id": "c2911174"
   },
   "source": [
    "### Determinación de coeficiente de regularización con CV"
   ]
  },
  {
   "cell_type": "markdown",
   "id": "04c22863",
   "metadata": {},
   "source": [
    "* Mejor coeficiente de regularización (en _cross validation_)"
   ]
  },
  {
   "cell_type": "code",
   "execution_count": 45,
   "id": "4c5cfe62",
   "metadata": {
    "id": "9ded4704",
    "outputId": "3f45248c-7833-4a64-c32e-43cf5826a306"
   },
   "outputs": [
    {
     "data": {
      "text/plain": [
       "0.0002966004675454342"
      ]
     },
     "execution_count": 45,
     "metadata": {},
     "output_type": "execute_result"
    }
   ],
   "source": [
    "mod_lassoCV = LassoCV().fit(X_train, y_train)\n",
    "mod_lassoCV.alpha_"
   ]
  },
  {
   "cell_type": "markdown",
   "id": "901a9de8",
   "metadata": {},
   "source": [
    "* Ajuste del modelo con regularización, con el mejor coeficiente"
   ]
  },
  {
   "cell_type": "code",
   "execution_count": 46,
   "id": "79f0562e",
   "metadata": {
    "id": "3691f1f5",
    "outputId": "ca12208b-b2ed-43df-d096-89cb3a989c7c"
   },
   "outputs": [
    {
     "data": {
      "text/plain": [
       "0.37044343250528555"
      ]
     },
     "execution_count": 46,
     "metadata": {},
     "output_type": "execute_result"
    }
   ],
   "source": [
    "las = Lasso(alpha=mod_lassoCV.alpha_)\n",
    "mod_lasso = las.fit(X_train, y_train)\n",
    "mse_lasso = cross_val_score(las, X_train, y_train, scoring=\"neg_mean_squared_error\")\n",
    "np.abs(np.mean(mse_lasso))"
   ]
  },
  {
   "cell_type": "markdown",
   "id": "6e708776",
   "metadata": {},
   "source": [
    "* Observamos coeficientes (beta)"
   ]
  },
  {
   "cell_type": "code",
   "execution_count": 47,
   "id": "999a7f56",
   "metadata": {
    "id": "dd821683",
    "outputId": "d0ac4005-0469-40d2-8f1c-475abc9e2876"
   },
   "outputs": [
    {
     "name": "stdout",
     "output_type": "stream",
     "text": [
      "[ 0.06970953 -0.37775463  0.27575222  0.2115702   0.13531883]\n",
      "10.119057125017573\n"
     ]
    }
   ],
   "source": [
    "print(mod_lasso.coef_)\n",
    "print(mod_lasso.intercept_)"
   ]
  },
  {
   "cell_type": "markdown",
   "id": "1edfa20c",
   "metadata": {},
   "source": [
    "* MSE en _Test_"
   ]
  },
  {
   "cell_type": "code",
   "execution_count": 48,
   "id": "57bd10c0",
   "metadata": {
    "id": "2f60a2f2",
    "outputId": "df50e3f0-dd21-452b-c6c5-7e7c14fb9cdf"
   },
   "outputs": [
    {
     "data": {
      "text/plain": [
       "0.3736611409978439"
      ]
     },
     "execution_count": 48,
     "metadata": {},
     "output_type": "execute_result"
    }
   ],
   "source": [
    "mod_lasso_y_test_pred = mod_lasso.predict(X_test)\n",
    "mean_squared_error(y_test, mod_lasso_y_test_pred)"
   ]
  },
  {
   "cell_type": "markdown",
   "id": "80d30045",
   "metadata": {
    "id": "66d3f55a"
   },
   "source": [
    "**Tarea 2.8:** ¿Qué conclusiones obtiene? ¿Se cumple la selección de variables al aplicar Lasso? Agregar más variables y comentar los resultados\n",
    "\n",
    "Nuevamente, recurriendo a la variante del _dataset_ con variables adicionales\n",
    "utilizada en las partes anteriores, los resultados obtenidos serían:"
   ]
  },
  {
   "cell_type": "markdown",
   "id": "c0c30e93",
   "metadata": {},
   "source": [
    "**Lasso:**"
   ]
  },
  {
   "cell_type": "code",
   "execution_count": 66,
   "id": "82d31602",
   "metadata": {},
   "outputs": [
    {
     "data": {
      "text/plain": [
       "0.0005959394479685095"
      ]
     },
     "execution_count": 66,
     "metadata": {},
     "output_type": "execute_result"
    }
   ],
   "source": [
    "mod_lassoCV_a = LassoCV().fit(X_train_a, y_train_a)\n",
    "mod_lassoCV_a.alpha_"
   ]
  },
  {
   "cell_type": "code",
   "execution_count": 67,
   "id": "42ec49e5",
   "metadata": {},
   "outputs": [
    {
     "name": "stdout",
     "output_type": "stream",
     "text": [
      "CV MSE Lasso Additional: 0.3644546617949095\n",
      "Coefficients: [ 6.31282245e-02  2.52647969e-01  2.09528745e-01  0.00000000e+00\n",
      "  8.13196301e-02 -3.64420785e-03 -3.81667496e-18 -3.45886168e-18\n",
      " -9.38500046e-03  1.38739091e-02  1.07686522e-02  8.86850954e-03\n",
      "  4.41380135e-18  0.00000000e+00 -1.16266268e-04 -1.31616976e-18\n",
      " -4.18781287e-18 -0.00000000e+00 -1.73868042e-03 -6.75748398e-03\n",
      " -2.82444541e-03 -3.22417309e-04  0.00000000e+00  0.00000000e+00\n",
      " -3.81097771e-01  1.48088698e-01]\n",
      "Intercept: 10.118065493559948\n",
      "Error Test: 0.36916222303401175\n"
     ]
    }
   ],
   "source": [
    "las_a = Lasso(alpha=mod_lassoCV_a.alpha_)\n",
    "mod_lasso_a = las_a.fit(X_train_a, y_train_a)\n",
    "mse_lasso_a = cross_val_score(las_a, X_train_a, y_train_a, scoring=\"neg_mean_squared_error\")\n",
    "\n",
    "print(f'CV MSE Lasso Additional: {np.abs(np.mean(mse_lasso_a))}')\n",
    "print(f'Coefficients: {mod_lasso_a.coef_}')\n",
    "print(f'Intercept: {mod_lasso_a.intercept_}')\n",
    "print(f'Error Test: {mean_squared_error(y_test_a, mod_lasso_a.predict(X_test_a))}')"
   ]
  },
  {
   "cell_type": "markdown",
   "id": "4b988e0b",
   "metadata": {},
   "source": [
    "En cuanto a los resultados que la aplicación de este proceso arroja en comparación\n",
    "con secciones anteriores, parecería ser que la utilización de este valor óprimo de\n",
    "`alpha`, obtenido mediante _cross validation_, como parámetro de regularización\n",
    "en `Lasso`, resulta en una mejor _performance_ del modelo. Concretamente, utilizándose\n",
    "tal valor el error en _test_ se reduce respecto al valor por defecto de este parámetro,\n",
    "lo cual es una métrica deseable.<br>\n",
    "Asimismo, en cuanto al funcionamiento de `Lasso` en sí, al imprimirse los coeficientes\n",
    "podemos observar algunos valores en 0, característica de esta técnica de regularización\n",
    "(tendencia a establecer en 0 coeficientes de _features_ con menor valor, conocida como\n",
    "_feature selection_).\n"
   ]
  },
  {
   "cell_type": "markdown",
   "id": "a9ae3bf7",
   "metadata": {},
   "source": [
    "**Tarea 2.9:** Ídem 2.8, pero utilizando Ridge\n",
    "\n",
    "Repitiendo el procedimiento realizado en las celdas superiores para el método de\n",
    "regularización de `Ridge`, se obtiene que:"
   ]
  },
  {
   "cell_type": "markdown",
   "id": "7ca8c5ff",
   "metadata": {},
   "source": [
    "**Ridge:**"
   ]
  },
  {
   "cell_type": "code",
   "execution_count": 72,
   "id": "073d8f66",
   "metadata": {},
   "outputs": [
    {
     "data": {
      "text/plain": [
       "10.0"
      ]
     },
     "execution_count": 72,
     "metadata": {},
     "output_type": "execute_result"
    }
   ],
   "source": [
    "mod_ridgeCV_a = RidgeCV().fit(X_train_a, y_train_a)\n",
    "mod_ridgeCV_a.alpha_"
   ]
  },
  {
   "cell_type": "code",
   "execution_count": 71,
   "id": "0c512cd8",
   "metadata": {},
   "outputs": [
    {
     "name": "stdout",
     "output_type": "stream",
     "text": [
      "CV MSE Ridge Additional: 0.3644938247013527\n",
      "Coefficients: [ 6.37283952e-02  2.53028615e-01  2.09079805e-01 -1.60872786e-04\n",
      "  8.19981798e-02 -2.08482315e-03 -2.08482315e-03 -2.08482315e-03\n",
      " -1.72397527e-02  2.21323123e-02  1.04922081e-02 -1.22985606e-03\n",
      " -1.22985606e-03  1.56695319e-02 -9.87349903e-04 -9.87349903e-04\n",
      " -9.87349903e-04  1.62510789e-03 -5.82655504e-03 -8.08153999e-03\n",
      " -2.91801163e-03  1.20341011e-03 -9.62443122e-05 -9.62443122e-05\n",
      " -3.83627719e-01  1.51475086e-01]\n",
      "Intercept: 10.118581899368564\n",
      "Error Test: 0.369221883168054\n"
     ]
    }
   ],
   "source": [
    "rid_a = Ridge(alpha=mod_ridgeCV_a.alpha_)\n",
    "mod_ridge_a = rid_a.fit(X_train_a, y_train_a)\n",
    "mse_ridge_a = cross_val_score(rid_a, X_train_a, y_train_a, scoring=\"neg_mean_squared_error\")\n",
    "\n",
    "print(f'CV MSE Ridge Additional: {np.abs(np.mean(mse_ridge_a))}')\n",
    "print(f'Coefficients: {mod_ridge_a.coef_}')\n",
    "print(f'Intercept: {mod_ridge_a.intercept_}')\n",
    "print(f'Error Test: {mean_squared_error(y_test_a, mod_ridge_a.predict(X_test_a))}')"
   ]
  },
  {
   "cell_type": "markdown",
   "id": "52c5f35d",
   "metadata": {},
   "source": [
    "En el caso de `Ridge`, también, se cumplen las observaciones realizadas para el\n",
    "anterior; concretamente, que a través de la utilización del parámetro `alpha`\n",
    "calculado se ha obtenido un modelo con mejor _performance_, entendida como\n",
    "menores valores en el error de _cross validation_ y, particularmente\n",
    "el error de _test_. En cuanto a los coeficientes hallados, también, se observa\n",
    "que ninguno adopta el valor 0, característica que es consistente con el\n",
    "comportamiento esperado para la técnica de regularización `Ridge`."
   ]
  }
 ],
 "metadata": {
  "colab": {
   "provenance": []
  },
  "kernelspec": {
   "display_name": "Python 3 (ipykernel)",
   "language": "python",
   "name": "python3"
  },
  "language_info": {
   "codemirror_mode": {
    "name": "ipython",
    "version": 3
   },
   "file_extension": ".py",
   "mimetype": "text/x-python",
   "name": "python",
   "nbconvert_exporter": "python",
   "pygments_lexer": "ipython3",
   "version": "3.11.3"
  }
 },
 "nbformat": 4,
 "nbformat_minor": 5
}

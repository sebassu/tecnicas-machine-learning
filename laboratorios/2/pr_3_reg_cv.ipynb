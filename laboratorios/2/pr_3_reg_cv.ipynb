{
 "cells": [
  {
   "cell_type": "markdown",
   "id": "d465df52",
   "metadata": {
    "id": "2023d4a5"
   },
   "source": [
    "# Práctico 3: Validación cruzada y Regularización"
   ]
  },
  {
   "cell_type": "markdown",
   "id": "399674f4",
   "metadata": {
    "id": "73311363"
   },
   "source": [
    "## Objetivos del trabajo\n",
    "\n",
    "* Objetivo general:\n",
    "    - introducir las técnicas de validación cruzada y regularización\n",
    "\n",
    "* Objetivos específicos:\n",
    "    - continuar el estudio del dataset de la ECH, en este caso con una variable de respuesta continua\n",
    "    - aplicar herramientas de análisis estadístico descriptivo adecuadas al caso\n",
    "    - aplicar las técnicas de validación cruzada y regularización\n",
    "\n",
    "    \n",
    "## Presentación del caso de estudio\n",
    "\n",
    "* Predicción del ingreso de las personas:\n",
    "    - queremos desarrollar un modelo de predicción de los ingresos de las porsonas por trabajo en relación de dependencia, a partir de los datos de la ECH\n",
    "    \n",
    "1. Objetivo:\n",
    "\n",
    "    * **Tarea (T)**: Predicción del ingreso de las personas por su trabajo en relación de dependencia, a partir de los datos de la ECH \n",
    "    * **Entrenamiento (E)**: Utilizamos los datos de la Encuesta Continua de Hogares del INE (ECH) de 2017        \n",
    "    * **Performance (P)**: buscamos minimizar el error de predicción definido como MSE (error cuadrático medio)   \n",
    "\n",
    "\n",
    "2. Links de referencia:\n",
    "\n",
    "    * [Encuesta Continua de Hogares 2017](https://anterior.ine.gub.uy/web/guest/encuesta-continua-de-hogares1) \n",
    "    * Datos a utilizar: [Bases ECH 2017 en formato sav](https://anterior.ine.gub.uy/c/document_library/get_file?uuid=e38ea53c-7253-4007-9f67-2f5f161eea91&groupId=10181)\n",
    "    * [Diccionario de variables ECH 2017](https://anterior.ine.gub.uy/c/document_library/get_file?uuid=b60f247b-03cb-4bb1-b84b-5d7328479fe2&groupId=10181)\n",
    "        \n",
    "    \n",
    "3. Entendimiento del caso:\n",
    "\n",
    "    * Lectura de la documentación de los datos de la ECH\n",
    "    * Análisis del diccionario de datos de la ECH\n",
    "    * ¿Cuál es la variable objetivo *Y*?\n",
    "    * Planteo inicial de hipótesis: Definición del enfoque de uso de variables (no existe receta)\n",
    "        - de menos a más: variable por variable, probando una hipótesis a la vez, utilizando combinaciones\n",
    "        - usar todas las variables de una vez"
   ]
  },
  {
   "cell_type": "markdown",
   "id": "e3ee89cb",
   "metadata": {},
   "source": [
    "## Setup"
   ]
  },
  {
   "cell_type": "markdown",
   "id": "55cfe781",
   "metadata": {
    "id": "33c7db26"
   },
   "source": [
    "* Importación de las librerías"
   ]
  },
  {
   "cell_type": "code",
   "execution_count": 1,
   "id": "140f7416",
   "metadata": {
    "id": "31393b06"
   },
   "outputs": [],
   "source": [
    "# import packages\n",
    "import os\n",
    "import numpy as np\n",
    "import pandas as pd\n",
    "from sklearn.linear_model import LinearRegression \n",
    "from sklearn.preprocessing import OneHotEncoder, StandardScaler\n",
    "from sklearn.pipeline import make_pipeline # Pipeline\n",
    "from sklearn.model_selection import train_test_split # Creating Train / Test Split\n",
    "from sklearn.compose import make_column_transformer\n",
    "from sklearn.metrics import mean_squared_error\n",
    "from sklearn import linear_model\n",
    "from sklearn.model_selection import cross_val_score # Usage of cross_val_score for computing cross-validation scores"
   ]
  },
  {
   "cell_type": "markdown",
   "id": "354ef5fa",
   "metadata": {},
   "source": [
    "* Seteo de directorio de trabajo"
   ]
  },
  {
   "cell_type": "code",
   "execution_count": 2,
   "id": "bc68439b",
   "metadata": {},
   "outputs": [],
   "source": [
    "os.chdir(r'/home/jovyan/work/pr_3')"
   ]
  },
  {
   "cell_type": "markdown",
   "id": "f7a835fb",
   "metadata": {
    "id": "efb292b6"
   },
   "source": [
    "## Importación de los datos"
   ]
  },
  {
   "cell_type": "code",
   "execution_count": 3,
   "id": "3e041082",
   "metadata": {
    "id": "8987ed34"
   },
   "outputs": [],
   "source": [
    "# import data\n",
    "dfP2017 = pd.read_spss(r'data/Base ECH 2017 formato SAV/P_2017_Terceros.sav')"
   ]
  },
  {
   "cell_type": "markdown",
   "id": "429bd1c4",
   "metadata": {
    "id": "2c44fdb5"
   },
   "source": [
    "## Preparación de los datos"
   ]
  },
  {
   "cell_type": "code",
   "execution_count": 4,
   "id": "e763b0be",
   "metadata": {
    "id": "e49364b9"
   },
   "outputs": [],
   "source": [
    "df_ysos = pd.DataFrame()\n",
    "\n",
    "# variable de respuesta\n",
    "df_ysos['ysos_dep'] = dfP2017['g126_1'] + dfP2017['g126_2'] + dfP2017['g126_3'] + dfP2017['g126_4'] \\\n",
    "                      + dfP2017['g134_1'] + dfP2017['g134_2'] + dfP2017['g134_3'] + dfP2017['g134_4']\n",
    "\n",
    "# atributos\n",
    "\n",
    "## caracteristicas personales\n",
    "df_ysos['edad'] = dfP2017['e27']\n",
    "df_ysos['sexo'] = dfP2017['e26']\n",
    "\n",
    "## educación\n",
    "df_ysos['anios_educ'] = dfP2017['e51_2'] + dfP2017['e51_3'] + dfP2017['e51_4'] + dfP2017['e51_5'] + dfP2017['e51_6'] \\\n",
    "                        + dfP2017['e51_7'] + dfP2017['e51_8'] + dfP2017['e51_9'] + dfP2017['e51_10'] + dfP2017['e51_11']\n",
    "\n",
    "## relación de empleo\n",
    "df_ysos['antiguedad'] = dfP2017['f88_2']\n",
    "df_ysos['categoria_ocup'] = dfP2017['f73']\n"
   ]
  },
  {
   "cell_type": "code",
   "execution_count": 5,
   "id": "950863b6",
   "metadata": {
    "id": "951f3203"
   },
   "outputs": [],
   "source": [
    "# podemos filtrar acá: como se respeta el índice, incluso podríamos considerar luego otras variables del dataset original\n",
    "df_ysos = df_ysos[df_ysos['ysos_dep'] > 0]"
   ]
  },
  {
   "cell_type": "code",
   "execution_count": 6,
   "id": "d2339e59",
   "metadata": {
    "id": "e87c77d6"
   },
   "outputs": [],
   "source": [
    "df_ysos = df_ysos.loc[(df_ysos['categoria_ocup'] == \"Asalariado/a privado/a\") | (df_ysos['categoria_ocup'] == \"Asalariado/a público/a\")]"
   ]
  },
  {
   "cell_type": "code",
   "execution_count": 7,
   "id": "892f0bbd",
   "metadata": {
    "id": "734c606f",
    "outputId": "85565424-9ada-4995-b026-78e8629d12a9"
   },
   "outputs": [
    {
     "data": {
      "text/html": [
       "<div>\n",
       "<style scoped>\n",
       "    .dataframe tbody tr th:only-of-type {\n",
       "        vertical-align: middle;\n",
       "    }\n",
       "\n",
       "    .dataframe tbody tr th {\n",
       "        vertical-align: top;\n",
       "    }\n",
       "\n",
       "    .dataframe thead th {\n",
       "        text-align: right;\n",
       "    }\n",
       "</style>\n",
       "<table border=\"1\" class=\"dataframe\">\n",
       "  <thead>\n",
       "    <tr style=\"text-align: right;\">\n",
       "      <th></th>\n",
       "      <th>edad</th>\n",
       "      <th>sexo</th>\n",
       "      <th>anios_educ</th>\n",
       "      <th>antiguedad</th>\n",
       "      <th>categoria_ocup</th>\n",
       "      <th>l_ysos_dep</th>\n",
       "    </tr>\n",
       "  </thead>\n",
       "  <tbody>\n",
       "    <tr>\n",
       "      <th>0</th>\n",
       "      <td>70.0</td>\n",
       "      <td>Hombre</td>\n",
       "      <td>6.0</td>\n",
       "      <td>7.0</td>\n",
       "      <td>Asalariado/a privado/a</td>\n",
       "      <td>9.798127</td>\n",
       "    </tr>\n",
       "    <tr>\n",
       "      <th>2</th>\n",
       "      <td>52.0</td>\n",
       "      <td>Hombre</td>\n",
       "      <td>6.0</td>\n",
       "      <td>32.0</td>\n",
       "      <td>Asalariado/a público/a</td>\n",
       "      <td>10.778956</td>\n",
       "    </tr>\n",
       "    <tr>\n",
       "      <th>5</th>\n",
       "      <td>42.0</td>\n",
       "      <td>Mujer</td>\n",
       "      <td>16.0</td>\n",
       "      <td>0.0</td>\n",
       "      <td>Asalariado/a privado/a</td>\n",
       "      <td>10.404263</td>\n",
       "    </tr>\n",
       "    <tr>\n",
       "      <th>7</th>\n",
       "      <td>29.0</td>\n",
       "      <td>Mujer</td>\n",
       "      <td>8.0</td>\n",
       "      <td>1.0</td>\n",
       "      <td>Asalariado/a privado/a</td>\n",
       "      <td>7.783224</td>\n",
       "    </tr>\n",
       "    <tr>\n",
       "      <th>8</th>\n",
       "      <td>37.0</td>\n",
       "      <td>Hombre</td>\n",
       "      <td>6.0</td>\n",
       "      <td>4.0</td>\n",
       "      <td>Asalariado/a privado/a</td>\n",
       "      <td>10.043249</td>\n",
       "    </tr>\n",
       "  </tbody>\n",
       "</table>\n",
       "</div>"
      ],
      "text/plain": [
       "   edad    sexo  anios_educ  antiguedad          categoria_ocup  l_ysos_dep\n",
       "0  70.0  Hombre         6.0         7.0  Asalariado/a privado/a    9.798127\n",
       "2  52.0  Hombre         6.0        32.0  Asalariado/a público/a   10.778956\n",
       "5  42.0   Mujer        16.0         0.0  Asalariado/a privado/a   10.404263\n",
       "7  29.0   Mujer         8.0         1.0  Asalariado/a privado/a    7.783224\n",
       "8  37.0  Hombre         6.0         4.0  Asalariado/a privado/a   10.043249"
      ]
     },
     "execution_count": 7,
     "metadata": {},
     "output_type": "execute_result"
    }
   ],
   "source": [
    "df_ysos['l_ysos_dep'] = np.log(df_ysos['ysos_dep'])\n",
    "df_l_ysos = df_ysos.drop(columns=['ysos_dep'])\n",
    "df_l_ysos.head()"
   ]
  },
  {
   "cell_type": "code",
   "execution_count": 8,
   "id": "c05630e7",
   "metadata": {
    "id": "70edb5c3"
   },
   "outputs": [],
   "source": [
    "categorical_columns = ['sexo', 'categoria_ocup']\n",
    "numerical_columns = ['edad', 'anios_educ', 'antiguedad']\n",
    "\n",
    "# función transformadora\n",
    "column_transform = make_column_transformer(\n",
    "    (OneHotEncoder(drop='if_binary'), categorical_columns), # cuando son dos categorías, elimina una\n",
    "    #(StandardScaler(), numerical_columns), # comentado mientras no se decida estandarizar\n",
    "    remainder='passthrough', # deja el resto de las columnas sin transformar\n",
    "    verbose_feature_names_out=False)"
   ]
  },
  {
   "cell_type": "code",
   "execution_count": 9,
   "id": "f2875b04",
   "metadata": {
    "id": "f21ecf72",
    "outputId": "1922e4cd-a121-4eab-deed-4a0ac3beb565"
   },
   "outputs": [
    {
     "data": {
      "text/html": [
       "<div>\n",
       "<style scoped>\n",
       "    .dataframe tbody tr th:only-of-type {\n",
       "        vertical-align: middle;\n",
       "    }\n",
       "\n",
       "    .dataframe tbody tr th {\n",
       "        vertical-align: top;\n",
       "    }\n",
       "\n",
       "    .dataframe thead th {\n",
       "        text-align: right;\n",
       "    }\n",
       "</style>\n",
       "<table border=\"1\" class=\"dataframe\">\n",
       "  <thead>\n",
       "    <tr style=\"text-align: right;\">\n",
       "      <th></th>\n",
       "      <th>sexo_Mujer</th>\n",
       "      <th>categoria_ocup_Asalariado/a público/a</th>\n",
       "      <th>edad</th>\n",
       "      <th>anios_educ</th>\n",
       "      <th>antiguedad</th>\n",
       "      <th>l_ysos_dep</th>\n",
       "    </tr>\n",
       "  </thead>\n",
       "  <tbody>\n",
       "    <tr>\n",
       "      <th>0</th>\n",
       "      <td>0.0</td>\n",
       "      <td>0.0</td>\n",
       "      <td>70.0</td>\n",
       "      <td>6.0</td>\n",
       "      <td>7.0</td>\n",
       "      <td>9.798127</td>\n",
       "    </tr>\n",
       "    <tr>\n",
       "      <th>1</th>\n",
       "      <td>0.0</td>\n",
       "      <td>1.0</td>\n",
       "      <td>52.0</td>\n",
       "      <td>6.0</td>\n",
       "      <td>32.0</td>\n",
       "      <td>10.778956</td>\n",
       "    </tr>\n",
       "    <tr>\n",
       "      <th>2</th>\n",
       "      <td>1.0</td>\n",
       "      <td>0.0</td>\n",
       "      <td>42.0</td>\n",
       "      <td>16.0</td>\n",
       "      <td>0.0</td>\n",
       "      <td>10.404263</td>\n",
       "    </tr>\n",
       "    <tr>\n",
       "      <th>3</th>\n",
       "      <td>1.0</td>\n",
       "      <td>0.0</td>\n",
       "      <td>29.0</td>\n",
       "      <td>8.0</td>\n",
       "      <td>1.0</td>\n",
       "      <td>7.783224</td>\n",
       "    </tr>\n",
       "    <tr>\n",
       "      <th>4</th>\n",
       "      <td>0.0</td>\n",
       "      <td>0.0</td>\n",
       "      <td>37.0</td>\n",
       "      <td>6.0</td>\n",
       "      <td>4.0</td>\n",
       "      <td>10.043249</td>\n",
       "    </tr>\n",
       "  </tbody>\n",
       "</table>\n",
       "</div>"
      ],
      "text/plain": [
       "   sexo_Mujer  categoria_ocup_Asalariado/a público/a  edad  anios_educ  \\\n",
       "0         0.0                                    0.0  70.0         6.0   \n",
       "1         0.0                                    1.0  52.0         6.0   \n",
       "2         1.0                                    0.0  42.0        16.0   \n",
       "3         1.0                                    0.0  29.0         8.0   \n",
       "4         0.0                                    0.0  37.0         6.0   \n",
       "\n",
       "   antiguedad  l_ysos_dep  \n",
       "0         7.0    9.798127  \n",
       "1        32.0   10.778956  \n",
       "2         0.0   10.404263  \n",
       "3         1.0    7.783224  \n",
       "4         4.0   10.043249  "
      ]
     },
     "execution_count": 9,
     "metadata": {},
     "output_type": "execute_result"
    }
   ],
   "source": [
    "df_l_ysos_transf = pd.DataFrame(\n",
    "    column_transform.fit_transform(df_l_ysos), \n",
    "    columns=column_transform.get_feature_names_out()\n",
    ")\n",
    "\n",
    "df_l_ysos_transf.head()"
   ]
  },
  {
   "cell_type": "markdown",
   "id": "5e5cbfff",
   "metadata": {
    "id": "b364a3a2"
   },
   "source": [
    "## División del dataset en Train y Test"
   ]
  },
  {
   "cell_type": "code",
   "execution_count": 10,
   "id": "73220e19",
   "metadata": {
    "id": "f33ab3d9"
   },
   "outputs": [],
   "source": [
    "X_train, X_test, y_train, y_test = train_test_split(df_l_ysos_transf[['edad', 'sexo_Mujer', 'anios_educ', 'antiguedad', 'categoria_ocup_Asalariado/a público/a']], \\\n",
    "                                                    df_l_ysos_transf['l_ysos_dep'], \n",
    "                                                    test_size=0.20, \n",
    "                                                    random_state=1234)"
   ]
  },
  {
   "cell_type": "code",
   "execution_count": 11,
   "id": "f52f255c",
   "metadata": {
    "id": "4bd197d5",
    "outputId": "579eacc0-126d-42c3-9c2a-a6d5e1bb2429"
   },
   "outputs": [
    {
     "data": {
      "text/plain": [
       "((29908, 5), (7477, 5), (29908,), (7477,))"
      ]
     },
     "execution_count": 11,
     "metadata": {},
     "output_type": "execute_result"
    }
   ],
   "source": [
    "X_train.shape, X_test.shape, y_train.shape, y_test.shape"
   ]
  },
  {
   "cell_type": "markdown",
   "id": "24cf5f6b",
   "metadata": {
    "id": "e3d113ee"
   },
   "source": [
    "## Generación del Pipeline\n",
    "\n",
    "**¿Qué es el pipeline en machine learning?** Los pipelines de datos se caracterizan por definir el conjunto de pasos o fases y las tecnologías involucradas en un proceso de movimiento o procesamiento de datos."
   ]
  },
  {
   "cell_type": "code",
   "execution_count": 12,
   "id": "1c0d1d9e",
   "metadata": {
    "id": "a7c42019"
   },
   "outputs": [],
   "source": [
    "pipeline = make_pipeline(StandardScaler(), LinearRegression())"
   ]
  },
  {
   "cell_type": "code",
   "execution_count": 13,
   "id": "4a939135",
   "metadata": {
    "id": "bdd8f7a8"
   },
   "outputs": [],
   "source": [
    "# creating a pipe using the make_pipeline method\n",
    "pipeline = make_pipeline(StandardScaler(),\n",
    "                         LinearRegression())\n",
    "  \n",
    "#fitting data into the model\n",
    "pipeline.fit(X_train, y_train)\n",
    "  \n",
    "# predicting values\n",
    "y_test_pred = pipeline.predict(X_test)\n",
    "y_train_pred = pipeline.predict(X_train)"
   ]
  },
  {
   "cell_type": "code",
   "execution_count": 14,
   "id": "d9aba2f8",
   "metadata": {
    "id": "3061848c",
    "outputId": "dd32731e-a986-4a3d-8187-5480c050ba88"
   },
   "outputs": [
    {
     "name": "stdout",
     "output_type": "stream",
     "text": [
      "Model Error Train: 0.3703\n",
      "Model Error Test: 0.3737\n"
     ]
    }
   ],
   "source": [
    "print('Model Error Train: %.4f' % mean_squared_error(y_train, y_train_pred))\n",
    "print('Model Error Test: %.4f' % mean_squared_error(y_test, y_test_pred))"
   ]
  },
  {
   "cell_type": "markdown",
   "id": "e4fe9c36",
   "metadata": {
    "id": "0df6a603"
   },
   "source": [
    "## Validación cruzada\n",
    "\n",
    "- Información de la función **cross_val_score**: https://scikit-learn.org/stable/modules/generated/sklearn.model_selection.cross_val_score.html\n",
    "\n",
    "- Información de scoring: https://scikit-learn.org/stable/modules/model_evaluation.html"
   ]
  },
  {
   "cell_type": "code",
   "execution_count": 15,
   "id": "f2e5c7aa",
   "metadata": {
    "id": "2b973dd1"
   },
   "outputs": [],
   "source": [
    "k_folds = 10"
   ]
  },
  {
   "cell_type": "code",
   "execution_count": 16,
   "id": "ef744583",
   "metadata": {
    "id": "00a734b2",
    "outputId": "9e5945e2-2358-4fa5-da1b-78a463238b0c"
   },
   "outputs": [
    {
     "name": "stdout",
     "output_type": "stream",
     "text": [
      "CV Error for a 10 folds: \n",
      "[0.36184985 0.34843655 0.37479687 0.36835287 0.37265196 0.3570935\n",
      " 0.39058732 0.36250988 0.36535322 0.40296933]\n"
     ]
    }
   ],
   "source": [
    "scores_cv = cross_val_score(pipeline, X = X_train, y = y_train, cv = k_folds, scoring='neg_mean_squared_error')\n",
    "print('CV Error for a %s folds: \\n%s' %(k_folds, -1*scores_cv))"
   ]
  },
  {
   "cell_type": "code",
   "execution_count": 17,
   "id": "637ce7a3",
   "metadata": {
    "id": "e19baa41",
    "outputId": "09c926ae-e23b-40c6-ad62-4057c53fc90a"
   },
   "outputs": [
    {
     "name": "stdout",
     "output_type": "stream",
     "text": [
      "Model Error CV: 0.370 +/- 0.015\n"
     ]
    }
   ],
   "source": [
    "print('Model Error CV: %.3f +/- %.3f' % (-1*np.mean(scores_cv),np.std(scores_cv)))"
   ]
  },
  {
   "cell_type": "code",
   "execution_count": 18,
   "id": "16d34d4e",
   "metadata": {
    "id": "a0600e20"
   },
   "outputs": [],
   "source": [
    "error_train = mean_squared_error(y_train, y_train_pred)\n",
    "error_test = mean_squared_error(y_test, y_test_pred)\n",
    "error_cv = -1*np.mean(scores_cv)"
   ]
  },
  {
   "cell_type": "code",
   "execution_count": 19,
   "id": "4507d154",
   "metadata": {
    "id": "138182df",
    "outputId": "ff177dec-8aa9-419f-c62f-abe3a00bb9ce"
   },
   "outputs": [
    {
     "name": "stdout",
     "output_type": "stream",
     "text": [
      "Model Error Train: 0.3703\n",
      "Model Error CV   : 0.3705\n",
      "Model Error Test : 0.3737\n"
     ]
    }
   ],
   "source": [
    "print('Model Error Train: %.4f' % error_train)\n",
    "print('Model Error CV   : %.4f' % error_cv)\n",
    "print('Model Error Test : %.4f' % error_test)"
   ]
  },
  {
   "cell_type": "markdown",
   "id": "fa4f01b1",
   "metadata": {
    "id": "ac92f5d8"
   },
   "source": [
    "**Tarea 2.6: Incorporar más variables. Analizar los resultados para CV y conclusiones**\n",
    "   - Respuesta 2.6: "
   ]
  },
  {
   "cell_type": "markdown",
   "id": "919248b3",
   "metadata": {
    "id": "07f51512"
   },
   "source": [
    "## Realizamos implementación de CV con varias fórmulas (sesgos inductivos)\n",
    "\n",
    "* aprovechamos salida de sm.OLS, por lo que agregamos una constante al dataset de train\n",
    "* luego debemos descartar (o no indluir) la constante en el dataset de train al utilizar la función cross_validate\n",
    "* por qué 'neg_mean_squared_error': https://stackoverflow.com/questions/48244219/is-sklearn-metrics-mean-squared-error-the-larger-the-better-negated"
   ]
  },
  {
   "cell_type": "code",
   "execution_count": 20,
   "id": "bf889172",
   "metadata": {
    "id": "6c743f7f"
   },
   "outputs": [],
   "source": [
    "import statsmodels.api as sm\n",
    "from sklearn.model_selection import cross_validate\n",
    "import matplotlib.pyplot as plt"
   ]
  },
  {
   "cell_type": "code",
   "execution_count": 21,
   "id": "a7c123ed",
   "metadata": {
    "id": "5a8b89b3"
   },
   "outputs": [],
   "source": [
    "model = LinearRegression()"
   ]
  },
  {
   "cell_type": "code",
   "execution_count": 22,
   "id": "dfb1009f",
   "metadata": {
    "id": "57cdc204",
    "outputId": "70289d68-9ae0-46d5-e0a3-0aac39112d2f"
   },
   "outputs": [
    {
     "data": {
      "text/plain": [
       "<matplotlib.legend.Legend at 0x7efc07a03210>"
      ]
     },
     "execution_count": 22,
     "metadata": {},
     "output_type": "execute_result"
    },
    {
     "data": {
      "image/png": "[encoded data removed]",
      "text/plain": [
       "<Figure size 432x288 with 1 Axes>"
      ]
     },
     "metadata": {
      "needs_background": "light"
     },
     "output_type": "display_data"
    }
   ],
   "source": [
    "# preparación de datasets X_train, X_test con distintas variables independientes\n",
    "independent_1 = ['anios_educ']\n",
    "independent_2 = ['antiguedad']\n",
    "independent_3 = ['edad', 'sexo_Mujer', 'anios_educ']\n",
    "independent_4 = ['edad', 'sexo_Mujer', 'anios_educ', 'antiguedad', 'categoria_ocup_Asalariado/a público/a']\n",
    "\n",
    "CV_1_X_train = sm.add_constant(X_train[independent_1])\n",
    "CV_2_X_train = sm.add_constant(X_train[independent_2])\n",
    "CV_3_X_train = sm.add_constant(X_train[independent_3])\n",
    "CV_4_X_train = sm.add_constant(X_train[independent_4])\n",
    "\n",
    "CV_1_X_test = sm.add_constant(X_test[independent_1])\n",
    "CV_2_X_test = sm.add_constant(X_test[independent_2])\n",
    "CV_3_X_test = sm.add_constant(X_test[independent_3])\n",
    "CV_4_X_test = sm.add_constant(X_test[independent_4])\n",
    "\n",
    "# ajuste en datos de entrenamiento\n",
    "modCV_1 = sm.OLS(y_train, CV_1_X_train).fit()\n",
    "modCV_2 = sm.OLS(y_train, CV_2_X_train).fit()\n",
    "modCV_3 = sm.OLS(y_train, CV_3_X_train).fit()\n",
    "modCV_4 = sm.OLS(y_train, CV_4_X_train).fit()\n",
    "\n",
    "# predicción en datos de entrenamiento\n",
    "CV_1_y_train_pred = modCV_1.predict(CV_1_X_train)\n",
    "CV_2_y_train_pred = modCV_2.predict(CV_2_X_train)\n",
    "CV_3_y_train_pred = modCV_3.predict(CV_3_X_train)\n",
    "CV_4_y_train_pred = modCV_4.predict(CV_4_X_train)\n",
    "\n",
    "# predicción en datos de test\n",
    "CV_1_y_test_pred = modCV_1.predict(CV_1_X_test)\n",
    "CV_2_y_test_pred = modCV_2.predict(CV_2_X_test)\n",
    "CV_3_y_test_pred = modCV_3.predict(CV_3_X_test)\n",
    "CV_4_y_test_pred = modCV_4.predict(CV_4_X_test)\n",
    "\n",
    "# MSE en train\n",
    "CV_1_mse_train = mean_squared_error(y_train, CV_1_y_train_pred)\n",
    "CV_2_mse_train = mean_squared_error(y_train, CV_2_y_train_pred)\n",
    "CV_3_mse_train = mean_squared_error(y_train, CV_3_y_train_pred)\n",
    "CV_4_mse_train = mean_squared_error(y_train, CV_4_y_train_pred)\n",
    "\n",
    "# MSE en test\n",
    "CV_1_mse_test = mean_squared_error(y_test, CV_1_y_test_pred)\n",
    "CV_2_mse_test = mean_squared_error(y_test, CV_2_y_test_pred)\n",
    "CV_3_mse_test = mean_squared_error(y_test, CV_3_y_test_pred)\n",
    "CV_4_mse_test = mean_squared_error(y_test, CV_4_y_test_pred)\n",
    "\n",
    "# MSE en Cross-validation: no incluimos la constante en X_train\n",
    "CV_1_mse_cv = -cross_validate(model, X_train[independent_1], y_train, cv=5, scoring=('neg_mean_squared_error'))['test_score'].mean()\n",
    "CV_2_mse_cv = -cross_validate(model, X_train[independent_2], y_train, cv=5, scoring=('neg_mean_squared_error'))['test_score'].mean()\n",
    "CV_3_mse_cv = -cross_validate(model, X_train[independent_3], y_train, cv=5, scoring=('neg_mean_squared_error'))['test_score'].mean()\n",
    "CV_4_mse_cv = -cross_validate(model, X_train[independent_4], y_train, cv=5, scoring=('neg_mean_squared_error'))['test_score'].mean()\n",
    "\n",
    "# dataset para evaluación (comparación de MSE en train, test y CV)\n",
    "evaluate = pd.DataFrame(            \n",
    "    {'mod': pd.Series(['CV_1', 'CV_2', 'CV_3', 'CV_4']).astype('category'),\n",
    "     'mse_train': pd.Series([CV_1_mse_train, CV_2_mse_train, CV_3_mse_train, CV_4_mse_train]).astype('float64'),\n",
    "     'mse_test': pd.Series([CV_1_mse_test, CV_2_mse_test, CV_3_mse_test, CV_4_mse_test]).astype('float64'),\n",
    "     'mse_cv': pd.Series([CV_1_mse_cv, CV_2_mse_cv, CV_3_mse_cv, CV_4_mse_cv]).astype('float64')    \n",
    "    }\n",
    ")\n",
    "\n",
    "# plot para evaluación\n",
    "plt.plot(evaluate['mod'], evaluate['mse_train'], label = 'mse_train')\n",
    "plt.plot(evaluate['mod'], evaluate['mse_test'], label = 'mse_test')\n",
    "plt.plot(evaluate['mod'], evaluate['mse_cv'], label = 'mse_cv')\n",
    "plt.legend(loc=\"upper right\")"
   ]
  },
  {
   "cell_type": "code",
   "execution_count": 23,
   "id": "224b17ad",
   "metadata": {
    "id": "4c27a779",
    "outputId": "dd6f0206-b865-4b35-e943-0b907e22994e"
   },
   "outputs": [
    {
     "data": {
      "text/html": [
       "<div>\n",
       "<style scoped>\n",
       "    .dataframe tbody tr th:only-of-type {\n",
       "        vertical-align: middle;\n",
       "    }\n",
       "\n",
       "    .dataframe tbody tr th {\n",
       "        vertical-align: top;\n",
       "    }\n",
       "\n",
       "    .dataframe thead th {\n",
       "        text-align: right;\n",
       "    }\n",
       "</style>\n",
       "<table border=\"1\" class=\"dataframe\">\n",
       "  <thead>\n",
       "    <tr style=\"text-align: right;\">\n",
       "      <th></th>\n",
       "      <th>mod</th>\n",
       "      <th>mse_train</th>\n",
       "      <th>mse_test</th>\n",
       "      <th>mse_cv</th>\n",
       "    </tr>\n",
       "  </thead>\n",
       "  <tbody>\n",
       "    <tr>\n",
       "      <th>0</th>\n",
       "      <td>CV_1</td>\n",
       "      <td>0.484009</td>\n",
       "      <td>0.483428</td>\n",
       "      <td>0.484063</td>\n",
       "    </tr>\n",
       "    <tr>\n",
       "      <th>1</th>\n",
       "      <td>CV_2</td>\n",
       "      <td>0.466348</td>\n",
       "      <td>0.468965</td>\n",
       "      <td>0.466375</td>\n",
       "    </tr>\n",
       "    <tr>\n",
       "      <th>2</th>\n",
       "      <td>CV_3</td>\n",
       "      <td>0.410643</td>\n",
       "      <td>0.413290</td>\n",
       "      <td>0.410748</td>\n",
       "    </tr>\n",
       "    <tr>\n",
       "      <th>3</th>\n",
       "      <td>CV_4</td>\n",
       "      <td>0.370276</td>\n",
       "      <td>0.373652</td>\n",
       "      <td>0.370442</td>\n",
       "    </tr>\n",
       "  </tbody>\n",
       "</table>\n",
       "</div>"
      ],
      "text/plain": [
       "    mod  mse_train  mse_test    mse_cv\n",
       "0  CV_1   0.484009  0.483428  0.484063\n",
       "1  CV_2   0.466348  0.468965  0.466375\n",
       "2  CV_3   0.410643  0.413290  0.410748\n",
       "3  CV_4   0.370276  0.373652  0.370442"
      ]
     },
     "execution_count": 23,
     "metadata": {},
     "output_type": "execute_result"
    }
   ],
   "source": [
    "evaluate"
   ]
  },
  {
   "cell_type": "markdown",
   "id": "10fd6cc9",
   "metadata": {
    "id": "77a08191"
   },
   "source": [
    "## Regularización\n",
    "\n",
    "- Información de la función **linear_model.Lasso()**: https://scikit-learn.org/stable/modules/generated/sklearn.linear_model.Lasso.html\n",
    "\n",
    "- Información de la función **linear_model.Lasso()**: https://scikit-learn.org/stable/modules/generated/sklearn.linear_model.Ridge.html\n",
    "\n",
    "- UTILIZAMOS TODAS LAS VARIABLES INDEPENDIENTES"
   ]
  },
  {
   "cell_type": "code",
   "execution_count": 24,
   "id": "1df02ec3",
   "metadata": {
    "id": "87f302af"
   },
   "outputs": [],
   "source": [
    "lasso = linear_model.Lasso()\n",
    "scores_cv_lasso = cross_val_score(lasso, X = X_train, y = y_train, cv = k_folds, scoring='neg_mean_squared_error')"
   ]
  },
  {
   "cell_type": "code",
   "execution_count": 25,
   "id": "b8ac67c8",
   "metadata": {
    "id": "9e717073"
   },
   "outputs": [
    {
     "name": "stdout",
     "output_type": "stream",
     "text": [
      "CV error for a 10 folds: \n",
      "[0.36184985 0.34843655 0.37479687 0.36835287 0.37265196 0.3570935\n",
      " 0.39058732 0.36250988 0.36535322 0.40296933]\n",
      "\n",
      "CV error for a 10 folds and Lasso: \n",
      "[0.45061068 0.43126365 0.45969986 0.45530294 0.47501679 0.44370767\n",
      " 0.49245923 0.46153468 0.47790196 0.48010763]\n"
     ]
    }
   ],
   "source": [
    "print('CV error for a %s folds: \\n%s' %(k_folds, -1*scores_cv))\n",
    "print('\\nCV error for a %s folds and Lasso: \\n%s' %(k_folds, -1*scores_cv_lasso))"
   ]
  },
  {
   "cell_type": "code",
   "execution_count": 26,
   "id": "73bf9289",
   "metadata": {
    "id": "c860fd9d"
   },
   "outputs": [
    {
     "name": "stdout",
     "output_type": "stream",
     "text": [
      "Model Score CV and Lasso: 0.463 +/- 0.018\n"
     ]
    }
   ],
   "source": [
    "print('Model Score CV and Lasso: %.3f +/- %.3f' % (-1*np.mean(scores_cv_lasso),np.std(scores_cv_lasso)))"
   ]
  },
  {
   "cell_type": "code",
   "execution_count": 27,
   "id": "9e106f49",
   "metadata": {
    "id": "b08e8979"
   },
   "outputs": [],
   "source": [
    "error_cv_lasso = -1*np.mean(scores_cv_lasso)"
   ]
  },
  {
   "cell_type": "code",
   "execution_count": 28,
   "id": "bf1e8cf4",
   "metadata": {
    "id": "216d5183"
   },
   "outputs": [],
   "source": [
    "data = {'Error Train':[error_train], \n",
    "        'Error CV':[error_cv],\n",
    "        'Error CV Lasso':[error_cv_lasso],\n",
    "        'Error Test':[error_test]}"
   ]
  },
  {
   "cell_type": "code",
   "execution_count": 29,
   "id": "06973e53",
   "metadata": {
    "id": "6a8e480b"
   },
   "outputs": [
    {
     "data": {
      "text/html": [
       "<div>\n",
       "<style scoped>\n",
       "    .dataframe tbody tr th:only-of-type {\n",
       "        vertical-align: middle;\n",
       "    }\n",
       "\n",
       "    .dataframe tbody tr th {\n",
       "        vertical-align: top;\n",
       "    }\n",
       "\n",
       "    .dataframe thead th {\n",
       "        text-align: right;\n",
       "    }\n",
       "</style>\n",
       "<table border=\"1\" class=\"dataframe\">\n",
       "  <thead>\n",
       "    <tr style=\"text-align: right;\">\n",
       "      <th></th>\n",
       "      <th>Error Train</th>\n",
       "      <th>Error CV</th>\n",
       "      <th>Error CV Lasso</th>\n",
       "      <th>Error Test</th>\n",
       "    </tr>\n",
       "  </thead>\n",
       "  <tbody>\n",
       "    <tr>\n",
       "      <th>0</th>\n",
       "      <td>0.370276</td>\n",
       "      <td>0.37046</td>\n",
       "      <td>0.462761</td>\n",
       "      <td>0.373652</td>\n",
       "    </tr>\n",
       "  </tbody>\n",
       "</table>\n",
       "</div>"
      ],
      "text/plain": [
       "   Error Train  Error CV  Error CV Lasso  Error Test\n",
       "0     0.370276   0.37046        0.462761    0.373652"
      ]
     },
     "execution_count": 29,
     "metadata": {},
     "output_type": "execute_result"
    }
   ],
   "source": [
    "error = pd.DataFrame(data)\n",
    "error"
   ]
  },
  {
   "cell_type": "markdown",
   "id": "91e00d77",
   "metadata": {
    "id": "bf09d583"
   },
   "source": [
    "**Tarea 2.7: Incorporar más variables y aplicar la regularización utilizando Ridge y Lasso y comparar los resultados. ¿Qué conclusiones puede obtener?**\n",
    " - Respuesta 2.7:"
   ]
  },
  {
   "cell_type": "markdown",
   "id": "ca268a44",
   "metadata": {
    "id": "c2911174"
   },
   "source": [
    "### Determinación de coeficiente de regularización con CV"
   ]
  },
  {
   "cell_type": "code",
   "execution_count": 30,
   "id": "feb3c4f4",
   "metadata": {
    "id": "5f20bf46"
   },
   "outputs": [],
   "source": [
    "from sklearn.linear_model import Lasso, Ridge, LassoCV, RidgeCV\n",
    "from sklearn.model_selection import GridSearchCV, KFold, RepeatedKFold"
   ]
  },
  {
   "cell_type": "markdown",
   "id": "04c22863",
   "metadata": {},
   "source": [
    "* Mejor coeficiente de regularización (en Cross-validation)"
   ]
  },
  {
   "cell_type": "code",
   "execution_count": 31,
   "id": "4c5cfe62",
   "metadata": {
    "id": "9ded4704",
    "outputId": "3f45248c-7833-4a64-c32e-43cf5826a306"
   },
   "outputs": [
    {
     "data": {
      "text/plain": [
       "0.0028490642875097236"
      ]
     },
     "execution_count": 31,
     "metadata": {},
     "output_type": "execute_result"
    }
   ],
   "source": [
    "mod_lassoCV = LassoCV().fit(X_train,y_train)\n",
    "mod_lassoCV.alpha_"
   ]
  },
  {
   "cell_type": "markdown",
   "id": "901a9de8",
   "metadata": {},
   "source": [
    "* Ajuste del modelo con regularización, con el mejor coeficiente"
   ]
  },
  {
   "cell_type": "code",
   "execution_count": 32,
   "id": "79f0562e",
   "metadata": {
    "id": "3691f1f5",
    "outputId": "ca12208b-b2ed-43df-d096-89cb3a989c7c"
   },
   "outputs": [
    {
     "data": {
      "text/plain": [
       "0.37053743315571686"
      ]
     },
     "execution_count": 32,
     "metadata": {},
     "output_type": "execute_result"
    }
   ],
   "source": [
    "las = Lasso(alpha=mod_lassoCV.alpha_)\n",
    "mod_lasso = las.fit(X_train,y_train)\n",
    "mse_lasso = cross_val_score(las,X_train,y_train,scoring='neg_mean_squared_error')\n",
    "np.abs(np.mean(mse_lasso))"
   ]
  },
  {
   "cell_type": "markdown",
   "id": "6e708776",
   "metadata": {},
   "source": [
    "* Observamos coeficientes (beta)"
   ]
  },
  {
   "cell_type": "code",
   "execution_count": 33,
   "id": "999a7f56",
   "metadata": {
    "id": "dd821683",
    "outputId": "d0ac4005-0469-40d2-8f1c-475abc9e2876"
   },
   "outputs": [
    {
     "name": "stdout",
     "output_type": "stream",
     "text": [
      "[ 0.00532443 -0.36633646  0.06001084  0.02240291  0.11636845]\n",
      "9.016691784702987\n"
     ]
    }
   ],
   "source": [
    "print(mod_lasso.coef_)\n",
    "print(mod_lasso.intercept_)"
   ]
  },
  {
   "cell_type": "markdown",
   "id": "1edfa20c",
   "metadata": {},
   "source": [
    "* MSE en Test"
   ]
  },
  {
   "cell_type": "code",
   "execution_count": 34,
   "id": "57bd10c0",
   "metadata": {
    "id": "2f60a2f2",
    "outputId": "df50e3f0-dd21-452b-c6c5-7e7c14fb9cdf"
   },
   "outputs": [
    {
     "data": {
      "text/plain": [
       "0.3739180241743624"
      ]
     },
     "execution_count": 34,
     "metadata": {},
     "output_type": "execute_result"
    }
   ],
   "source": [
    "mod_lasso_y_test_pred = mod_lasso.predict(X_test)\n",
    "mod_lasso_mse_test = mean_squared_error(y_test, mod_lasso_y_test_pred)\n",
    "mod_lasso_mse_test"
   ]
  },
  {
   "cell_type": "markdown",
   "id": "80d30045",
   "metadata": {
    "id": "66d3f55a"
   },
   "source": [
    "**Tarea 2.8: ¿Qué conclusiones obtiene? ¿Se cumple la selección de variables al aplicar Lasso? Agregar más variables y comentar los resultados**\n",
    " - Respuesta 2.8:"
   ]
  },
  {
   "cell_type": "markdown",
   "id": "a9ae3bf7",
   "metadata": {},
   "source": [
    "#### Tarea 2.9: Ídem 2.8, pero utilizando Ridge\n",
    "- Respuesta 2.9:"
   ]
  }
 ],
 "metadata": {
  "colab": {
   "provenance": []
  },
  "kernelspec": {
   "display_name": "Python 3 (ipykernel)",
   "language": "python",
   "name": "python3"
  },
  "language_info": {
   "codemirror_mode": {
    "name": "ipython",
    "version": 3
   },
   "file_extension": ".py",
   "mimetype": "text/x-python",
   "name": "python",
   "nbconvert_exporter": "python",
   "pygments_lexer": "ipython3",
   "version": "3.7.12"
  }
 },
 "nbformat": 4,
 "nbformat_minor": 5
}

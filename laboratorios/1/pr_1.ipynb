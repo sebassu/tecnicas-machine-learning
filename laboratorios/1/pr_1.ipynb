{
 "cells": [
  {
   "cell_type": "markdown",
   "id": "4e1285bd",
   "metadata": {},
   "source": [
    "# Práctico 1"
   ]
  },
  {
   "cell_type": "markdown",
   "id": "8a0fe0c0",
   "metadata": {},
   "source": [
    "## Objetivo general del práctico:\n",
    "\n",
    "* realizar una primera aproximación a python y al documento-herramienta notebook (.ipynb)\n",
    "* presentar un proceso de aprendizaje a partir de un caso con datos de la realidad\n",
    "\n",
    "## Caso de estudio:\n",
    "\n",
    "1. Objetivo:\n",
    "\n",
    "    * **Tarea (T)**: Predecir si la persona asiste o no a un establecimiento de enseñanza\n",
    "    * **Entrenamiento (E)**: Utilizamos los datos de la Encuesta Continua de Hogares del INE (ECH)\n",
    "        * *Atención: no se debe utilizar ninguna otra variable del bloque E.3 de la ECH (Educación)*\n",
    "    * **Performance (P)**: buscamos minimizar el error de clasificación   \n",
    "\n",
    "\n",
    "2. Links de referencia:\n",
    "\n",
    "    * [Encuesta Continua de Hogares](https://anterior.ine.gub.uy/web/guest/encuesta-continua-de-hogares1) \n",
    "    * datos a utilizar: [Bases ECH semestre 1](https://anterior.ine.gub.uy/c/document_library/get_file?uuid=48bf8f9d-ddaf-4b17-92cb-de4348925954&groupId=10181)\n",
    "        * ATENCIÓN: utilizamos el archivo ECH_01_22.csv\n",
    "        \n",
    "    \n",
    "3. Entendimiento del caso:\n",
    "\n",
    "    * Lectura de la documentación de los datos de la ECH\n",
    "    * Análisis del diccionario de datos de la ECH\n",
    "    * ¿Cuál es la variable objetivo *Y*?\n",
    "    * Planteo inicial de hipótesis: \n",
    "        * Sesgo inductivo: tomamos como referencia \"¿Qué es un ave?\", vista en la primera sesión\n",
    "        * ¿Cuáles atributos podríamos incluir como variables independientes *X*?\n",
    "\n"
   ]
  },
  {
   "cell_type": "markdown",
   "id": "50c679af",
   "metadata": {},
   "source": [
    "## Setup"
   ]
  },
  {
   "cell_type": "markdown",
   "id": "d419abd0",
   "metadata": {},
   "source": [
    "* Importación de librerías"
   ]
  },
  {
   "cell_type": "code",
   "execution_count": 1,
   "id": "da29f772",
   "metadata": {},
   "outputs": [],
   "source": [
    "# Setup\n",
    "import os # Obtener directorios de trabajo \n",
    "\n",
    "# Data munging\n",
    "import numpy as np # Scientific computing (arreglos, matrices, funciones)\n",
    "import pandas as pd # Análisis y manipulación de datos\n",
    "import seaborn as sns # Visualización"
   ]
  },
  {
   "cell_type": "markdown",
   "id": "36472aaa",
   "metadata": {},
   "source": [
    "* Seteo de directorio de trabajo\n",
    "    - facilita el trabajo con direcciones relativas al directorio elegido\n",
    "    - una buena práctica es setearlo en la raíz del proyecto que estamos trabajando, luego es fácil moverse a partir de allí"
   ]
  },
  {
   "cell_type": "code",
   "execution_count": 2,
   "id": "9ecd143e",
   "metadata": {},
   "outputs": [
    {
     "data": {
      "text/plain": [
       "'/home/jovyan/work/ech/src'"
      ]
     },
     "execution_count": 2,
     "metadata": {},
     "output_type": "execute_result"
    }
   ],
   "source": [
    "# obtengo el directorio de trabajo actual\n",
    "os.getcwd()"
   ]
  },
  {
   "cell_type": "code",
   "execution_count": 3,
   "id": "3400ed6d",
   "metadata": {},
   "outputs": [
    {
     "name": "stdout",
     "output_type": "stream",
     "text": [
      "El nuevo -actual- directorio de trabajo es:  /home/jovyan/work/ech\n"
     ]
    }
   ],
   "source": [
    "# seteo y verifico el directorio de trabajo en la raíz del proyecto\n",
    "os.chdir(r'/home/jovyan/work/ech') # se incluye 'r' antes de la dirección para atender adecuadamente a los caracteres especiales\n",
    "\n",
    "print('El nuevo -actual- directorio de trabajo es: ', os.getcwd())"
   ]
  },
  {
   "cell_type": "markdown",
   "id": "a78f0e79",
   "metadata": {},
   "source": [
    "## Adquisición de los datos"
   ]
  },
  {
   "cell_type": "markdown",
   "id": "304c4317",
   "metadata": {},
   "source": [
    "* para este caso, por ser de una sola vez, se realiza la descarga y guardado manual de los datos"
   ]
  },
  {
   "cell_type": "markdown",
   "id": "78ff7eac",
   "metadata": {},
   "source": [
    "## Importación de los datos"
   ]
  },
  {
   "cell_type": "code",
   "execution_count": 4,
   "id": "71c5a47b",
   "metadata": {},
   "outputs": [],
   "source": [
    "# import data (evitamos importar columna de índice del dataset original; el dataset tiene 143 columnas)\n",
    "df = pd.read_csv(r'data/ECH_01_22.csv', usecols = [i for i in range(1, 143)])"
   ]
  },
  {
   "cell_type": "markdown",
   "id": "4e39ca1f",
   "metadata": {},
   "source": [
    "## Análisis Exploratorio (EDA) y Transformación de variables"
   ]
  },
  {
   "cell_type": "markdown",
   "id": "9523be15",
   "metadata": {},
   "source": [
    "* Vemos los datos"
   ]
  },
  {
   "cell_type": "code",
   "execution_count": 5,
   "id": "afa0c5b2",
   "metadata": {},
   "outputs": [
    {
     "data": {
      "text/html": [
       "<div>\n",
       "<style scoped>\n",
       "    .dataframe tbody tr th:only-of-type {\n",
       "        vertical-align: middle;\n",
       "    }\n",
       "\n",
       "    .dataframe tbody tr th {\n",
       "        vertical-align: top;\n",
       "    }\n",
       "\n",
       "    .dataframe thead th {\n",
       "        text-align: right;\n",
       "    }\n",
       "</style>\n",
       "<table border=\"1\" class=\"dataframe\">\n",
       "  <thead>\n",
       "    <tr style=\"text-align: right;\">\n",
       "      <th></th>\n",
       "      <th>ID</th>\n",
       "      <th>nper</th>\n",
       "      <th>anio</th>\n",
       "      <th>mes</th>\n",
       "      <th>GR</th>\n",
       "      <th>region</th>\n",
       "      <th>region_4</th>\n",
       "      <th>dpto</th>\n",
       "      <th>barrio</th>\n",
       "      <th>ccz</th>\n",
       "      <th>...</th>\n",
       "      <th>f123</th>\n",
       "      <th>f124_1</th>\n",
       "      <th>f124_2</th>\n",
       "      <th>f124_3</th>\n",
       "      <th>f124_5</th>\n",
       "      <th>POBPCOAC</th>\n",
       "      <th>SUBEMPLEO</th>\n",
       "      <th>niv_edu</th>\n",
       "      <th>w</th>\n",
       "      <th>ola</th>\n",
       "    </tr>\n",
       "  </thead>\n",
       "  <tbody>\n",
       "    <tr>\n",
       "      <th>0</th>\n",
       "      <td>1899</td>\n",
       "      <td>1</td>\n",
       "      <td>2022</td>\n",
       "      <td>1</td>\n",
       "      <td>2</td>\n",
       "      <td>1</td>\n",
       "      <td>1</td>\n",
       "      <td>1</td>\n",
       "      <td>1</td>\n",
       "      <td>1</td>\n",
       "      <td>...</td>\n",
       "      <td>0</td>\n",
       "      <td>1</td>\n",
       "      <td>2</td>\n",
       "      <td>2</td>\n",
       "      <td>2</td>\n",
       "      <td>10</td>\n",
       "      <td>0</td>\n",
       "      <td>2. CB completo o EMS incomp</td>\n",
       "      <td>102</td>\n",
       "      <td>6</td>\n",
       "    </tr>\n",
       "    <tr>\n",
       "      <th>1</th>\n",
       "      <td>1899</td>\n",
       "      <td>2</td>\n",
       "      <td>2022</td>\n",
       "      <td>1</td>\n",
       "      <td>2</td>\n",
       "      <td>1</td>\n",
       "      <td>1</td>\n",
       "      <td>1</td>\n",
       "      <td>1</td>\n",
       "      <td>1</td>\n",
       "      <td>...</td>\n",
       "      <td>0</td>\n",
       "      <td>2</td>\n",
       "      <td>2</td>\n",
       "      <td>2</td>\n",
       "      <td>1</td>\n",
       "      <td>6</td>\n",
       "      <td>0</td>\n",
       "      <td>1. CB incompleto o menos</td>\n",
       "      <td>102</td>\n",
       "      <td>6</td>\n",
       "    </tr>\n",
       "    <tr>\n",
       "      <th>2</th>\n",
       "      <td>1900</td>\n",
       "      <td>1</td>\n",
       "      <td>2022</td>\n",
       "      <td>1</td>\n",
       "      <td>2</td>\n",
       "      <td>1</td>\n",
       "      <td>1</td>\n",
       "      <td>1</td>\n",
       "      <td>1</td>\n",
       "      <td>1</td>\n",
       "      <td>...</td>\n",
       "      <td>0</td>\n",
       "      <td>2</td>\n",
       "      <td>2</td>\n",
       "      <td>2</td>\n",
       "      <td>1</td>\n",
       "      <td>2</td>\n",
       "      <td>0</td>\n",
       "      <td>4. Terciario completo o posgrado</td>\n",
       "      <td>218</td>\n",
       "      <td>6</td>\n",
       "    </tr>\n",
       "    <tr>\n",
       "      <th>3</th>\n",
       "      <td>1900</td>\n",
       "      <td>2</td>\n",
       "      <td>2022</td>\n",
       "      <td>1</td>\n",
       "      <td>2</td>\n",
       "      <td>1</td>\n",
       "      <td>1</td>\n",
       "      <td>1</td>\n",
       "      <td>1</td>\n",
       "      <td>1</td>\n",
       "      <td>...</td>\n",
       "      <td>0</td>\n",
       "      <td>2</td>\n",
       "      <td>2</td>\n",
       "      <td>2</td>\n",
       "      <td>2</td>\n",
       "      <td>2</td>\n",
       "      <td>0</td>\n",
       "      <td>4. Terciario completo o posgrado</td>\n",
       "      <td>218</td>\n",
       "      <td>6</td>\n",
       "    </tr>\n",
       "    <tr>\n",
       "      <th>4</th>\n",
       "      <td>3847</td>\n",
       "      <td>1</td>\n",
       "      <td>2022</td>\n",
       "      <td>1</td>\n",
       "      <td>3</td>\n",
       "      <td>1</td>\n",
       "      <td>1</td>\n",
       "      <td>1</td>\n",
       "      <td>1</td>\n",
       "      <td>1</td>\n",
       "      <td>...</td>\n",
       "      <td>0</td>\n",
       "      <td>2</td>\n",
       "      <td>2</td>\n",
       "      <td>2</td>\n",
       "      <td>2</td>\n",
       "      <td>2</td>\n",
       "      <td>0</td>\n",
       "      <td>3. Sec. completa o terciaria incomp</td>\n",
       "      <td>235</td>\n",
       "      <td>5</td>\n",
       "    </tr>\n",
       "  </tbody>\n",
       "</table>\n",
       "<p>5 rows × 142 columns</p>\n",
       "</div>"
      ],
      "text/plain": [
       "     ID  nper  anio  mes  GR  region  region_4  dpto  barrio  ccz  ...  f123  \\\n",
       "0  1899     1  2022    1   2       1         1     1       1    1  ...     0   \n",
       "1  1899     2  2022    1   2       1         1     1       1    1  ...     0   \n",
       "2  1900     1  2022    1   2       1         1     1       1    1  ...     0   \n",
       "3  1900     2  2022    1   2       1         1     1       1    1  ...     0   \n",
       "4  3847     1  2022    1   3       1         1     1       1    1  ...     0   \n",
       "\n",
       "   f124_1  f124_2  f124_3  f124_5  POBPCOAC  SUBEMPLEO  \\\n",
       "0       1       2       2       2        10          0   \n",
       "1       2       2       2       1         6          0   \n",
       "2       2       2       2       1         2          0   \n",
       "3       2       2       2       2         2          0   \n",
       "4       2       2       2       2         2          0   \n",
       "\n",
       "                               niv_edu    w  ola  \n",
       "0          2. CB completo o EMS incomp  102    6  \n",
       "1             1. CB incompleto o menos  102    6  \n",
       "2     4. Terciario completo o posgrado  218    6  \n",
       "3     4. Terciario completo o posgrado  218    6  \n",
       "4  3. Sec. completa o terciaria incomp  235    5  \n",
       "\n",
       "[5 rows x 142 columns]"
      ]
     },
     "execution_count": 5,
     "metadata": {},
     "output_type": "execute_result"
    }
   ],
   "source": [
    "df.head()"
   ]
  },
  {
   "cell_type": "code",
   "execution_count": 6,
   "id": "18051bde",
   "metadata": {},
   "outputs": [
    {
     "name": "stdout",
     "output_type": "stream",
     "text": [
      "['ID', 'nper', 'anio', 'mes', 'GR', 'region', 'region_4', 'dpto', 'barrio', 'ccz', 'estred13', 'loc_agr_13', 'h2_cv', 'h4_1_cv', 'd23', 'd24', 'd25', 'e0_cv', 'e01_cv', 'e1_cv', 'e557', 'e558', 'e26', 'e27', 'e29_1', 'e29_2', 'e29_3', 'e29_4', 'e29_5', 'e29_5_1', 'e29_6', 'e49', 'e51_1', 'e51_2', 'e197_1', 'e51_3', 'e51_4_a', 'e201_1a', 'e51_4_b', 'e201_1b', 'e51_5', 'e201_1c', 'e51_6', 'e201_1d', 'e209_1', 'e51_6a', 'e51_6b', 'e214_1', 'e51_8', 'e215_1', 'e217_1', 'e51_9', 'e218_1', 'e220_1', 'e51_10', 'e221_1', 'e223_1', 'e51_11', 'e224_1', 'e226_1', 'f269', 'f270', 'f271', 'f272', 'f273', 'f69', 'f69_1', 'f274', 'f275', 'f275_1', 'f276', 'f277', 'f70', 'f304', 'f302', 'f303', 'f71_2', 'f72_2', 'f73', 'f82', 'f305', 'f306', 'f284_1', 'f284_2', 'f284_3', 'f284_4', 'f284_5', 'f284_6', 'f284_7', 'f85', 'f311', 'f309', 'f310', 'f90_2', 'f91_2', 'f92', 'f296_1', 'f296_2', 'f296_3', 'f296_4', 'f296_5', 'f296_6', 'f296_7', 'f98', 'f99', 'f100', 'f101', 'f102', 'f103', 'f297', 'f298', 'f104', 'f299', 'f110', 'f111', 'f113', 'f114', 'f115', 'f300', 'f108', 'f108_1', 'f301', 'f106', 'f116', 'f117', 'f118', 'f118_1', 'f118_2', 'f122', 'f119_2', 'f120_2', 'f121', 'f123', 'f124_1', 'f124_2', 'f124_3', 'f124_5', 'POBPCOAC', 'SUBEMPLEO', 'niv_edu', 'w', 'ola']\n"
     ]
    }
   ],
   "source": [
    "columns = df.columns.values.tolist()\n",
    "print(columns)"
   ]
  },
  {
   "cell_type": "markdown",
   "id": "4605eb95",
   "metadata": {},
   "source": [
    "* Vemos bajo qué tipo de objeto tenemos al dataset, nos interesa utilizar las funcionalidades de los DataFrame de pandas"
   ]
  },
  {
   "cell_type": "code",
   "execution_count": 7,
   "id": "fbc5208c",
   "metadata": {},
   "outputs": [
    {
     "data": {
      "text/plain": [
       "pandas.core.frame.DataFrame"
      ]
     },
     "execution_count": 7,
     "metadata": {},
     "output_type": "execute_result"
    }
   ],
   "source": [
    "type(df)"
   ]
  },
  {
   "cell_type": "code",
   "execution_count": 8,
   "id": "5e639e9a",
   "metadata": {},
   "outputs": [
    {
     "name": "stdout",
     "output_type": "stream",
     "text": [
      "En un DataFrame, podemos obtener la cantidad de filas con la función len() - 19588 - o con .shape[] - 19588 -.\n"
     ]
    }
   ],
   "source": [
    "# cantidad de filas del dataset, lo usaremos para ver proporciones\n",
    "print('En un DataFrame, podemos obtener la cantidad de filas con la función len()',\n",
    "      '-',\n",
    "      len(df),\n",
    "      '-',\n",
    "      'o con .shape[]',\n",
    "      '-',\n",
    "      df.shape[0],\n",
    "      '-.'\n",
    "     )"
   ]
  },
  {
   "cell_type": "code",
   "execution_count": 9,
   "id": "69e0e5fb",
   "metadata": {},
   "outputs": [
    {
     "name": "stdout",
     "output_type": "stream",
     "text": [
      "En un DataFrame, podemos obtener la cantidad de columnas con la función len() combinada con .columns - 142 - o con .shape[] - 142 -.\n"
     ]
    }
   ],
   "source": [
    "# cantidad de columnas del dataset\n",
    "print('En un DataFrame, podemos obtener la cantidad de columnas con la función len() combinada con .columns',\n",
    "      '-',\n",
    "      len(df.columns),\n",
    "      '-',\n",
    "      'o con .shape[]',\n",
    "      '-',\n",
    "      df.shape[1],\n",
    "      '-.'\n",
    "     )"
   ]
  },
  {
   "cell_type": "markdown",
   "id": "906eb49e",
   "metadata": {},
   "source": [
    "* Correspondencia entre observaciones e individuos (personas)"
   ]
  },
  {
   "cell_type": "code",
   "execution_count": 10,
   "id": "2fd39617",
   "metadata": {},
   "outputs": [
    {
     "data": {
      "text/html": [
       "<div>\n",
       "<style scoped>\n",
       "    .dataframe tbody tr th:only-of-type {\n",
       "        vertical-align: middle;\n",
       "    }\n",
       "\n",
       "    .dataframe tbody tr th {\n",
       "        vertical-align: top;\n",
       "    }\n",
       "\n",
       "    .dataframe thead th {\n",
       "        text-align: right;\n",
       "    }\n",
       "</style>\n",
       "<table border=\"1\" class=\"dataframe\">\n",
       "  <thead>\n",
       "    <tr style=\"text-align: right;\">\n",
       "      <th></th>\n",
       "      <th>id_persona</th>\n",
       "    </tr>\n",
       "  </thead>\n",
       "  <tbody>\n",
       "    <tr>\n",
       "      <th>count</th>\n",
       "      <td>19588</td>\n",
       "    </tr>\n",
       "    <tr>\n",
       "      <th>unique</th>\n",
       "      <td>19588</td>\n",
       "    </tr>\n",
       "    <tr>\n",
       "      <th>top</th>\n",
       "      <td>18991</td>\n",
       "    </tr>\n",
       "    <tr>\n",
       "      <th>freq</th>\n",
       "      <td>1</td>\n",
       "    </tr>\n",
       "  </tbody>\n",
       "</table>\n",
       "</div>"
      ],
      "text/plain": [
       "       id_persona\n",
       "count       19588\n",
       "unique      19588\n",
       "top         18991\n",
       "freq            1"
      ]
     },
     "execution_count": 10,
     "metadata": {},
     "output_type": "execute_result"
    }
   ],
   "source": [
    "# creamos un nuevo objeto para analizar correspondencia entre observaciones e individuos (personas)\n",
    "df_personas = pd.DataFrame()\n",
    "df_personas['id_persona'] = df['ID'].astype(str) + df['nper'].astype(str)\n",
    "df_personas.describe()"
   ]
  },
  {
   "cell_type": "code",
   "execution_count": 11,
   "id": "4e7ddc49",
   "metadata": {},
   "outputs": [
    {
     "name": "stdout",
     "output_type": "stream",
     "text": [
      "Cada observación corresponde a una persona\n"
     ]
    }
   ],
   "source": [
    "# ¿Cada observación corresponde a una persona?\n",
    "if df_personas['id_persona'].count() == df_personas['id_persona'].nunique():\n",
    "    print(\"Cada observación corresponde a una persona\")\n",
    "else:\n",
    "    print(\"Revisar\")\n",
    "\n",
    "# borramos objeto de prueba    \n",
    "del(df_personas)"
   ]
  },
  {
   "cell_type": "markdown",
   "id": "f6dff6d4",
   "metadata": {},
   "source": [
    "* Selección de variables de interés (a partir del Entendimiento del caso)"
   ]
  },
  {
   "cell_type": "code",
   "execution_count": 12,
   "id": "fd1915c7",
   "metadata": {},
   "outputs": [],
   "source": [
    "# selección de variables sobre educación (según diccionario)\n",
    "\n",
    "# selección de columnas por nombre; creamos copia para no afectar al original\n",
    "df_educ = df[['e49', 'e27', 'e26', 'f269']].copy()\n",
    "df_educ.columns = ['asiste', 'edad', 'sexo', 'trabajo']"
   ]
  },
  {
   "cell_type": "code",
   "execution_count": 13,
   "id": "df049883",
   "metadata": {},
   "outputs": [
    {
     "data": {
      "text/html": [
       "<div>\n",
       "<style scoped>\n",
       "    .dataframe tbody tr th:only-of-type {\n",
       "        vertical-align: middle;\n",
       "    }\n",
       "\n",
       "    .dataframe tbody tr th {\n",
       "        vertical-align: top;\n",
       "    }\n",
       "\n",
       "    .dataframe thead th {\n",
       "        text-align: right;\n",
       "    }\n",
       "</style>\n",
       "<table border=\"1\" class=\"dataframe\">\n",
       "  <thead>\n",
       "    <tr style=\"text-align: right;\">\n",
       "      <th></th>\n",
       "      <th>asiste</th>\n",
       "      <th>edad</th>\n",
       "      <th>sexo</th>\n",
       "      <th>trabajo</th>\n",
       "    </tr>\n",
       "  </thead>\n",
       "  <tbody>\n",
       "    <tr>\n",
       "      <th>0</th>\n",
       "      <td>1.0</td>\n",
       "      <td>81</td>\n",
       "      <td>1</td>\n",
       "      <td>2</td>\n",
       "    </tr>\n",
       "    <tr>\n",
       "      <th>1</th>\n",
       "      <td>1.0</td>\n",
       "      <td>73</td>\n",
       "      <td>1</td>\n",
       "      <td>2</td>\n",
       "    </tr>\n",
       "    <tr>\n",
       "      <th>2</th>\n",
       "      <td>1.0</td>\n",
       "      <td>32</td>\n",
       "      <td>2</td>\n",
       "      <td>1</td>\n",
       "    </tr>\n",
       "    <tr>\n",
       "      <th>3</th>\n",
       "      <td>1.0</td>\n",
       "      <td>30</td>\n",
       "      <td>1</td>\n",
       "      <td>1</td>\n",
       "    </tr>\n",
       "    <tr>\n",
       "      <th>4</th>\n",
       "      <td>1.0</td>\n",
       "      <td>33</td>\n",
       "      <td>1</td>\n",
       "      <td>2</td>\n",
       "    </tr>\n",
       "  </tbody>\n",
       "</table>\n",
       "</div>"
      ],
      "text/plain": [
       "   asiste  edad  sexo  trabajo\n",
       "0     1.0    81     1        2\n",
       "1     1.0    73     1        2\n",
       "2     1.0    32     2        1\n",
       "3     1.0    30     1        1\n",
       "4     1.0    33     1        2"
      ]
     },
     "execution_count": 13,
     "metadata": {},
     "output_type": "execute_result"
    }
   ],
   "source": [
    "df_educ.head()"
   ]
  },
  {
   "cell_type": "code",
   "execution_count": 14,
   "id": "269dc2b1",
   "metadata": {},
   "outputs": [
    {
     "data": {
      "text/plain": [
       "139848859782800"
      ]
     },
     "execution_count": 14,
     "metadata": {},
     "output_type": "execute_result"
    }
   ],
   "source": [
    "id(df)"
   ]
  },
  {
   "cell_type": "code",
   "execution_count": 15,
   "id": "7c01d069",
   "metadata": {},
   "outputs": [
    {
     "data": {
      "text/plain": [
       "139856286565904"
      ]
     },
     "execution_count": 15,
     "metadata": {},
     "output_type": "execute_result"
    }
   ],
   "source": [
    "id(df_educ)"
   ]
  },
  {
   "cell_type": "code",
   "execution_count": 16,
   "id": "2d6c96ba",
   "metadata": {},
   "outputs": [],
   "source": [
    "# alternativa: creamos un DataFrame asignando el nuevo nombre de la columna a una Serie (cada columna del dataset original)\n",
    "df_educ_alt = pd.DataFrame({'asiste': df['e49'],\n",
    "                            'edad': df['e27'],\n",
    "                            'sexo': df['e26'],\n",
    "                            'trabajo': df['f269']})"
   ]
  },
  {
   "cell_type": "code",
   "execution_count": 17,
   "id": "bd63a72b",
   "metadata": {},
   "outputs": [
    {
     "data": {
      "text/html": [
       "<div>\n",
       "<style scoped>\n",
       "    .dataframe tbody tr th:only-of-type {\n",
       "        vertical-align: middle;\n",
       "    }\n",
       "\n",
       "    .dataframe tbody tr th {\n",
       "        vertical-align: top;\n",
       "    }\n",
       "\n",
       "    .dataframe thead th {\n",
       "        text-align: right;\n",
       "    }\n",
       "</style>\n",
       "<table border=\"1\" class=\"dataframe\">\n",
       "  <thead>\n",
       "    <tr style=\"text-align: right;\">\n",
       "      <th></th>\n",
       "      <th>asiste</th>\n",
       "      <th>edad</th>\n",
       "      <th>sexo</th>\n",
       "      <th>trabajo</th>\n",
       "    </tr>\n",
       "  </thead>\n",
       "  <tbody>\n",
       "    <tr>\n",
       "      <th>0</th>\n",
       "      <td>1.0</td>\n",
       "      <td>81</td>\n",
       "      <td>1</td>\n",
       "      <td>2</td>\n",
       "    </tr>\n",
       "    <tr>\n",
       "      <th>1</th>\n",
       "      <td>1.0</td>\n",
       "      <td>73</td>\n",
       "      <td>1</td>\n",
       "      <td>2</td>\n",
       "    </tr>\n",
       "    <tr>\n",
       "      <th>2</th>\n",
       "      <td>1.0</td>\n",
       "      <td>32</td>\n",
       "      <td>2</td>\n",
       "      <td>1</td>\n",
       "    </tr>\n",
       "    <tr>\n",
       "      <th>3</th>\n",
       "      <td>1.0</td>\n",
       "      <td>30</td>\n",
       "      <td>1</td>\n",
       "      <td>1</td>\n",
       "    </tr>\n",
       "    <tr>\n",
       "      <th>4</th>\n",
       "      <td>1.0</td>\n",
       "      <td>33</td>\n",
       "      <td>1</td>\n",
       "      <td>2</td>\n",
       "    </tr>\n",
       "  </tbody>\n",
       "</table>\n",
       "</div>"
      ],
      "text/plain": [
       "   asiste  edad  sexo  trabajo\n",
       "0     1.0    81     1        2\n",
       "1     1.0    73     1        2\n",
       "2     1.0    32     2        1\n",
       "3     1.0    30     1        1\n",
       "4     1.0    33     1        2"
      ]
     },
     "execution_count": 17,
     "metadata": {},
     "output_type": "execute_result"
    }
   ],
   "source": [
    "df_educ_alt.head()"
   ]
  },
  {
   "cell_type": "code",
   "execution_count": 18,
   "id": "a8ae14e1",
   "metadata": {},
   "outputs": [],
   "source": [
    "# alternativa: función .loc, Slice Notation (start:stop:step); con la función .iloc seleccionamos según posiciones\n",
    "df_educ_alt = df.loc[:,['e49', 'e27', 'e26', 'f269']]\n",
    "df_educ_alt.columns = ['asiste', 'edad', 'sexo', 'trabajo']"
   ]
  },
  {
   "cell_type": "code",
   "execution_count": 19,
   "id": "6f107c95",
   "metadata": {},
   "outputs": [
    {
     "data": {
      "text/html": [
       "<div>\n",
       "<style scoped>\n",
       "    .dataframe tbody tr th:only-of-type {\n",
       "        vertical-align: middle;\n",
       "    }\n",
       "\n",
       "    .dataframe tbody tr th {\n",
       "        vertical-align: top;\n",
       "    }\n",
       "\n",
       "    .dataframe thead th {\n",
       "        text-align: right;\n",
       "    }\n",
       "</style>\n",
       "<table border=\"1\" class=\"dataframe\">\n",
       "  <thead>\n",
       "    <tr style=\"text-align: right;\">\n",
       "      <th></th>\n",
       "      <th>asiste</th>\n",
       "      <th>edad</th>\n",
       "      <th>sexo</th>\n",
       "      <th>trabajo</th>\n",
       "    </tr>\n",
       "  </thead>\n",
       "  <tbody>\n",
       "    <tr>\n",
       "      <th>0</th>\n",
       "      <td>1.0</td>\n",
       "      <td>81</td>\n",
       "      <td>1</td>\n",
       "      <td>2</td>\n",
       "    </tr>\n",
       "    <tr>\n",
       "      <th>1</th>\n",
       "      <td>1.0</td>\n",
       "      <td>73</td>\n",
       "      <td>1</td>\n",
       "      <td>2</td>\n",
       "    </tr>\n",
       "    <tr>\n",
       "      <th>2</th>\n",
       "      <td>1.0</td>\n",
       "      <td>32</td>\n",
       "      <td>2</td>\n",
       "      <td>1</td>\n",
       "    </tr>\n",
       "    <tr>\n",
       "      <th>3</th>\n",
       "      <td>1.0</td>\n",
       "      <td>30</td>\n",
       "      <td>1</td>\n",
       "      <td>1</td>\n",
       "    </tr>\n",
       "    <tr>\n",
       "      <th>4</th>\n",
       "      <td>1.0</td>\n",
       "      <td>33</td>\n",
       "      <td>1</td>\n",
       "      <td>2</td>\n",
       "    </tr>\n",
       "  </tbody>\n",
       "</table>\n",
       "</div>"
      ],
      "text/plain": [
       "   asiste  edad  sexo  trabajo\n",
       "0     1.0    81     1        2\n",
       "1     1.0    73     1        2\n",
       "2     1.0    32     2        1\n",
       "3     1.0    30     1        1\n",
       "4     1.0    33     1        2"
      ]
     },
     "execution_count": 19,
     "metadata": {},
     "output_type": "execute_result"
    }
   ],
   "source": [
    "df_educ_alt.head()"
   ]
  },
  {
   "cell_type": "code",
   "execution_count": 20,
   "id": "a3e79afe",
   "metadata": {},
   "outputs": [
    {
     "data": {
      "text/plain": [
       "139848858030352"
      ]
     },
     "execution_count": 20,
     "metadata": {},
     "output_type": "execute_result"
    }
   ],
   "source": [
    "id(df_educ_alt)"
   ]
  },
  {
   "cell_type": "code",
   "execution_count": 21,
   "id": "1b023c6b",
   "metadata": {},
   "outputs": [],
   "source": [
    "del(df_educ_alt)"
   ]
  },
  {
   "cell_type": "code",
   "execution_count": 22,
   "id": "ff672403",
   "metadata": {},
   "outputs": [
    {
     "name": "stdout",
     "output_type": "stream",
     "text": [
      "<class 'pandas.core.frame.DataFrame'>\n",
      "RangeIndex: 19588 entries, 0 to 19587\n",
      "Data columns (total 4 columns):\n",
      " #   Column   Non-Null Count  Dtype  \n",
      "---  ------   --------------  -----  \n",
      " 0   asiste   19585 non-null  float64\n",
      " 1   edad     19588 non-null  int64  \n",
      " 2   sexo     19588 non-null  int64  \n",
      " 3   trabajo  19588 non-null  int64  \n",
      "dtypes: float64(1), int64(3)\n",
      "memory usage: 612.2 KB\n"
     ]
    }
   ],
   "source": [
    "df_educ.info()"
   ]
  },
  {
   "cell_type": "markdown",
   "id": "e60e3213",
   "metadata": {},
   "source": [
    "* Datos faltantes"
   ]
  },
  {
   "cell_type": "code",
   "execution_count": 23,
   "id": "d58f967d",
   "metadata": {},
   "outputs": [
    {
     "data": {
      "text/plain": [
       "asiste     0.000153\n",
       "edad       0.000000\n",
       "sexo       0.000000\n",
       "trabajo    0.000000\n",
       "dtype: float64"
      ]
     },
     "execution_count": 23,
     "metadata": {},
     "output_type": "execute_result"
    }
   ],
   "source": [
    "# proporción de datos faltantes\n",
    "df_educ.isnull().mean()"
   ]
  },
  {
   "cell_type": "markdown",
   "id": "e190e792",
   "metadata": {},
   "source": [
    "* Asignación de tipo adecuado de variable (si corresponde)"
   ]
  },
  {
   "cell_type": "code",
   "execution_count": 24,
   "id": "7d0412fa",
   "metadata": {},
   "outputs": [
    {
     "name": "stdout",
     "output_type": "stream",
     "text": [
      "<class 'pandas.core.frame.DataFrame'>\n",
      "RangeIndex: 19588 entries, 0 to 19587\n",
      "Data columns (total 4 columns):\n",
      " #   Column   Non-Null Count  Dtype   \n",
      "---  ------   --------------  -----   \n",
      " 0   asiste   19585 non-null  category\n",
      " 1   edad     19588 non-null  int64   \n",
      " 2   sexo     19588 non-null  category\n",
      " 3   trabajo  19588 non-null  category\n",
      "dtypes: category(3), int64(1)\n",
      "memory usage: 211.0 KB\n"
     ]
    }
   ],
   "source": [
    "df_educ['asiste'] = df_educ['asiste'].astype('category')\n",
    "df_educ['sexo'] = df_educ['sexo'].astype('category')\n",
    "df_educ['trabajo'] = df_educ['trabajo'].astype('category')\n",
    "df_educ.info()"
   ]
  },
  {
   "cell_type": "markdown",
   "id": "e05a4fd6",
   "metadata": {},
   "source": [
    "* Análisis de la variable objetivo\n",
    "    * Complementamos herramientas de pandas con entendimiento del diccionario de variables para decidir una transformación"
   ]
  },
  {
   "cell_type": "code",
   "execution_count": 25,
   "id": "b4b53a76",
   "metadata": {},
   "outputs": [
    {
     "data": {
      "text/plain": [
       "count     19585.0\n",
       "unique        4.0\n",
       "top           1.0\n",
       "freq      16439.0\n",
       "Name: asiste, dtype: float64"
      ]
     },
     "execution_count": 25,
     "metadata": {},
     "output_type": "execute_result"
    }
   ],
   "source": [
    "df_educ['asiste'].describe()"
   ]
  },
  {
   "cell_type": "code",
   "execution_count": 26,
   "id": "782d4b14",
   "metadata": {},
   "outputs": [
    {
     "data": {
      "text/plain": [
       "1.0    16439\n",
       "3.0     2982\n",
       "2.0      154\n",
       "0.0       10\n",
       "Name: asiste, dtype: int64"
      ]
     },
     "execution_count": 26,
     "metadata": {},
     "output_type": "execute_result"
    }
   ],
   "source": [
    "df_educ['asiste'].value_counts()"
   ]
  },
  {
   "cell_type": "code",
   "execution_count": 27,
   "id": "a720f53c",
   "metadata": {},
   "outputs": [
    {
     "data": {
      "text/plain": [
       "count     19588\n",
       "unique        2\n",
       "top       False\n",
       "freq      19585\n",
       "Name: asiste, dtype: object"
      ]
     },
     "execution_count": 27,
     "metadata": {},
     "output_type": "execute_result"
    }
   ],
   "source": [
    "pd.isnull(df_educ['asiste']).describe()"
   ]
  },
  {
   "cell_type": "markdown",
   "id": "db9d82d2",
   "metadata": {},
   "source": [
    "* Transformación de la variable objetivo\n",
    "    * Una alternativa para resolver nuestro problema puede ser transformar variables categóricas en booleanas, siempre que la variable tenga dos categorías o que se quiera reducir la cantidad de categorías a dos (y que esto sea adecuado al objetivo del problema).\n",
    "    * Optamos por mantener la variable original y crear una nueva variable auxiliar transformada."
   ]
  },
  {
   "cell_type": "code",
   "execution_count": 28,
   "id": "5824b7f7",
   "metadata": {},
   "outputs": [
    {
     "data": {
      "text/plain": [
       "count     19585\n",
       "unique        2\n",
       "top       False\n",
       "freq      16603\n",
       "Name: aux_asiste, dtype: object"
      ]
     },
     "execution_count": 28,
     "metadata": {},
     "output_type": "execute_result"
    }
   ],
   "source": [
    "df_educ['aux_asiste'] = df_educ['asiste'].transform((lambda x: True if x == 3 else False))\n",
    "df_educ['aux_asiste'].describe()"
   ]
  },
  {
   "cell_type": "code",
   "execution_count": 29,
   "id": "5667ff22",
   "metadata": {},
   "outputs": [
    {
     "data": {
      "text/html": [
       "<div>\n",
       "<style scoped>\n",
       "    .dataframe tbody tr th:only-of-type {\n",
       "        vertical-align: middle;\n",
       "    }\n",
       "\n",
       "    .dataframe tbody tr th {\n",
       "        vertical-align: top;\n",
       "    }\n",
       "\n",
       "    .dataframe thead th {\n",
       "        text-align: right;\n",
       "    }\n",
       "</style>\n",
       "<table border=\"1\" class=\"dataframe\">\n",
       "  <thead>\n",
       "    <tr style=\"text-align: right;\">\n",
       "      <th></th>\n",
       "      <th>aux_asiste</th>\n",
       "    </tr>\n",
       "  </thead>\n",
       "  <tbody>\n",
       "    <tr>\n",
       "      <th>0</th>\n",
       "      <td>False</td>\n",
       "    </tr>\n",
       "    <tr>\n",
       "      <th>1</th>\n",
       "      <td>False</td>\n",
       "    </tr>\n",
       "    <tr>\n",
       "      <th>2</th>\n",
       "      <td>False</td>\n",
       "    </tr>\n",
       "    <tr>\n",
       "      <th>3</th>\n",
       "      <td>False</td>\n",
       "    </tr>\n",
       "    <tr>\n",
       "      <th>4</th>\n",
       "      <td>False</td>\n",
       "    </tr>\n",
       "    <tr>\n",
       "      <th>...</th>\n",
       "      <td>...</td>\n",
       "    </tr>\n",
       "    <tr>\n",
       "      <th>19583</th>\n",
       "      <td>True</td>\n",
       "    </tr>\n",
       "    <tr>\n",
       "      <th>19584</th>\n",
       "      <td>False</td>\n",
       "    </tr>\n",
       "    <tr>\n",
       "      <th>19585</th>\n",
       "      <td>False</td>\n",
       "    </tr>\n",
       "    <tr>\n",
       "      <th>19586</th>\n",
       "      <td>False</td>\n",
       "    </tr>\n",
       "    <tr>\n",
       "      <th>19587</th>\n",
       "      <td>False</td>\n",
       "    </tr>\n",
       "  </tbody>\n",
       "</table>\n",
       "<p>19588 rows × 1 columns</p>\n",
       "</div>"
      ],
      "text/plain": [
       "       aux_asiste\n",
       "0           False\n",
       "1           False\n",
       "2           False\n",
       "3           False\n",
       "4           False\n",
       "...           ...\n",
       "19583        True\n",
       "19584       False\n",
       "19585       False\n",
       "19586       False\n",
       "19587       False\n",
       "\n",
       "[19588 rows x 1 columns]"
      ]
     },
     "execution_count": 29,
     "metadata": {},
     "output_type": "execute_result"
    }
   ],
   "source": [
    "#boolean indexing: permite hacer lo mismo de arriba, sin usar función\n",
    "df_pba = pd.DataFrame()\n",
    "df_pba['aux_asiste'] = df_educ['asiste'] == 3\n",
    "df_pba"
   ]
  },
  {
   "cell_type": "code",
   "execution_count": 30,
   "id": "c967fdab",
   "metadata": {},
   "outputs": [],
   "source": [
    "del(df_pba)"
   ]
  },
  {
   "cell_type": "markdown",
   "id": "99ea45e6",
   "metadata": {},
   "source": [
    "* Visualización de la variable objetivo y variables independientes categóricas\n",
    "    * Trabajamos con proporciones"
   ]
  },
  {
   "cell_type": "code",
   "execution_count": 31,
   "id": "a9ead8a1",
   "metadata": {},
   "outputs": [
    {
     "data": {
      "text/plain": [
       "sexo  aux_asiste\n",
       "1     False         0.390086\n",
       "      True          0.063764\n",
       "2     False         0.457525\n",
       "      True          0.088473\n",
       "Name: asiste, dtype: float64"
      ]
     },
     "execution_count": 31,
     "metadata": {},
     "output_type": "execute_result"
    }
   ],
   "source": [
    "df_educ.groupby(['sexo', 'aux_asiste'])['asiste'].count()/len(df_educ.index)"
   ]
  },
  {
   "cell_type": "code",
   "execution_count": 32,
   "id": "90ec59d6",
   "metadata": {},
   "outputs": [
    {
     "data": {
      "text/plain": [
       "<AxesSubplot:xlabel='sexo'>"
      ]
     },
     "execution_count": 32,
     "metadata": {},
     "output_type": "execute_result"
    },
    {
     "data": {
      "image/png": "[encoded data removed]",
      "text/plain": [
       "<Figure size 432x288 with 1 Axes>"
      ]
     },
     "metadata": {
      "needs_background": "light"
     },
     "output_type": "display_data"
    }
   ],
   "source": [
    "sexo_prop = pd.crosstab(df_educ.sexo, df_educ.aux_asiste)/len(df_educ)\n",
    "sexo_prop.plot(kind='bar', stacked=True)"
   ]
  },
  {
   "cell_type": "code",
   "execution_count": 33,
   "id": "cd62d524",
   "metadata": {},
   "outputs": [
    {
     "data": {
      "text/plain": [
       "<AxesSubplot:xlabel='sexo'>"
      ]
     },
     "execution_count": 33,
     "metadata": {},
     "output_type": "execute_result"
    },
    {
     "data": {
      "image/png": "[encoded data removed]",
      "text/plain": [
       "<Figure size 432x288 with 1 Axes>"
      ]
     },
     "metadata": {
      "needs_background": "light"
     },
     "output_type": "display_data"
    }
   ],
   "source": [
    "sexo_prop_relat = sexo_prop.div(sexo_prop.sum(1).astype(float), axis=0)\n",
    "sexo_prop_relat.plot(kind='bar', stacked=True)"
   ]
  },
  {
   "cell_type": "code",
   "execution_count": 34,
   "id": "5afebcb4",
   "metadata": {},
   "outputs": [
    {
     "data": {
      "text/plain": [
       "<AxesSubplot:xlabel='trabajo'>"
      ]
     },
     "execution_count": 34,
     "metadata": {},
     "output_type": "execute_result"
    },
    {
     "data": {
      "image/png": "[encoded data removed]",
      "text/plain": [
       "<Figure size 432x288 with 1 Axes>"
      ]
     },
     "metadata": {
      "needs_background": "light"
     },
     "output_type": "display_data"
    }
   ],
   "source": [
    "trabajo_prop = pd.crosstab(df_educ.trabajo, df_educ.aux_asiste)/len(df_educ)\n",
    "trabajo_prop.plot(kind='bar', stacked=True)"
   ]
  },
  {
   "cell_type": "code",
   "execution_count": 35,
   "id": "e1f3a83c",
   "metadata": {},
   "outputs": [
    {
     "data": {
      "text/plain": [
       "<AxesSubplot:xlabel='trabajo'>"
      ]
     },
     "execution_count": 35,
     "metadata": {},
     "output_type": "execute_result"
    },
    {
     "data": {
      "image/png": "[encoded data removed]",
      "text/plain": [
       "<Figure size 432x288 with 1 Axes>"
      ]
     },
     "metadata": {
      "needs_background": "light"
     },
     "output_type": "display_data"
    }
   ],
   "source": [
    "trabajo_prop_relat = trabajo_prop.div(trabajo_prop.sum(1).astype(float), axis=0)\n",
    "trabajo_prop_relat.plot(kind='bar', stacked=True)"
   ]
  },
  {
   "cell_type": "markdown",
   "id": "d2991e5f",
   "metadata": {},
   "source": [
    "* Visualización de la variable objetivo y variables independientes continuas"
   ]
  },
  {
   "cell_type": "code",
   "execution_count": 36,
   "id": "1bd5f681",
   "metadata": {},
   "outputs": [
    {
     "data": {
      "text/html": [
       "<div>\n",
       "<style scoped>\n",
       "    .dataframe tbody tr th:only-of-type {\n",
       "        vertical-align: middle;\n",
       "    }\n",
       "\n",
       "    .dataframe tbody tr th {\n",
       "        vertical-align: top;\n",
       "    }\n",
       "\n",
       "    .dataframe thead tr th {\n",
       "        text-align: left;\n",
       "    }\n",
       "\n",
       "    .dataframe thead tr:last-of-type th {\n",
       "        text-align: right;\n",
       "    }\n",
       "</style>\n",
       "<table border=\"1\" class=\"dataframe\">\n",
       "  <thead>\n",
       "    <tr>\n",
       "      <th></th>\n",
       "      <th colspan=\"3\" halign=\"left\">edad</th>\n",
       "    </tr>\n",
       "    <tr>\n",
       "      <th></th>\n",
       "      <th>min</th>\n",
       "      <th>median</th>\n",
       "      <th>max</th>\n",
       "    </tr>\n",
       "    <tr>\n",
       "      <th>aux_asiste</th>\n",
       "      <th></th>\n",
       "      <th></th>\n",
       "      <th></th>\n",
       "    </tr>\n",
       "  </thead>\n",
       "  <tbody>\n",
       "    <tr>\n",
       "      <th>False</th>\n",
       "      <td>14</td>\n",
       "      <td>53.0</td>\n",
       "      <td>110</td>\n",
       "    </tr>\n",
       "    <tr>\n",
       "      <th>True</th>\n",
       "      <td>14</td>\n",
       "      <td>19.0</td>\n",
       "      <td>77</td>\n",
       "    </tr>\n",
       "  </tbody>\n",
       "</table>\n",
       "</div>"
      ],
      "text/plain": [
       "           edad            \n",
       "            min median  max\n",
       "aux_asiste                 \n",
       "False        14   53.0  110\n",
       "True         14   19.0   77"
      ]
     },
     "execution_count": 36,
     "metadata": {},
     "output_type": "execute_result"
    }
   ],
   "source": [
    "df_educ.groupby(\"aux_asiste\").aggregate(func=[\"min\", \"median\", \"max\"])"
   ]
  },
  {
   "cell_type": "code",
   "execution_count": 37,
   "id": "2d4cc8ba",
   "metadata": {},
   "outputs": [
    {
     "data": {
      "text/plain": [
       "<AxesSubplot:title={'center':'edad'}, xlabel='[aux_asiste]'>"
      ]
     },
     "execution_count": 37,
     "metadata": {},
     "output_type": "execute_result"
    },
    {
     "data": {
      "image/png": "[encoded data removed]",
      "text/plain": [
       "<Figure size 432x288 with 1 Axes>"
      ]
     },
     "metadata": {
      "needs_background": "light"
     },
     "output_type": "display_data"
    }
   ],
   "source": [
    "df_educ.boxplot(column=['edad'], by=['aux_asiste'])"
   ]
  },
  {
   "cell_type": "markdown",
   "id": "3536c3b0",
   "metadata": {},
   "source": [
    "* Transformaciones de variables independientes\n",
    "\n",
    "    * Una alternativa para resolver nuestro problema puede ser transformar variables categóricas en booleanas, siempre que la variable tenga dos categorías o que se quiera reducir la cantidad de categorías a dos (nota: con más de dos categorías, también tenemos la posibilidad de realizar la transformación One-Hot, que veremos en futuros prácticos).\n",
    "    * Optamos por mantener las variables originales y crear nuevas variables auxiliares transformadas."
   ]
  },
  {
   "cell_type": "code",
   "execution_count": 38,
   "id": "a47fb684",
   "metadata": {},
   "outputs": [],
   "source": [
    "df_educ['sexo_mujer'] = np.where(df_educ['sexo'] == 2, True, False)\n",
    "df_educ['no_trabaja'] = np.where(df_educ['trabajo'] == 2, True, False)"
   ]
  },
  {
   "cell_type": "code",
   "execution_count": 39,
   "id": "a47b8e89",
   "metadata": {},
   "outputs": [
    {
     "data": {
      "text/html": [
       "<div>\n",
       "<style scoped>\n",
       "    .dataframe tbody tr th:only-of-type {\n",
       "        vertical-align: middle;\n",
       "    }\n",
       "\n",
       "    .dataframe tbody tr th {\n",
       "        vertical-align: top;\n",
       "    }\n",
       "\n",
       "    .dataframe thead th {\n",
       "        text-align: right;\n",
       "    }\n",
       "</style>\n",
       "<table border=\"1\" class=\"dataframe\">\n",
       "  <thead>\n",
       "    <tr style=\"text-align: right;\">\n",
       "      <th></th>\n",
       "      <th>asiste</th>\n",
       "      <th>edad</th>\n",
       "      <th>sexo</th>\n",
       "      <th>trabajo</th>\n",
       "      <th>aux_asiste</th>\n",
       "      <th>sexo_mujer</th>\n",
       "      <th>no_trabaja</th>\n",
       "    </tr>\n",
       "  </thead>\n",
       "  <tbody>\n",
       "    <tr>\n",
       "      <th>0</th>\n",
       "      <td>1.0</td>\n",
       "      <td>81</td>\n",
       "      <td>1</td>\n",
       "      <td>2</td>\n",
       "      <td>False</td>\n",
       "      <td>False</td>\n",
       "      <td>True</td>\n",
       "    </tr>\n",
       "    <tr>\n",
       "      <th>1</th>\n",
       "      <td>1.0</td>\n",
       "      <td>73</td>\n",
       "      <td>1</td>\n",
       "      <td>2</td>\n",
       "      <td>False</td>\n",
       "      <td>False</td>\n",
       "      <td>True</td>\n",
       "    </tr>\n",
       "    <tr>\n",
       "      <th>2</th>\n",
       "      <td>1.0</td>\n",
       "      <td>32</td>\n",
       "      <td>2</td>\n",
       "      <td>1</td>\n",
       "      <td>False</td>\n",
       "      <td>True</td>\n",
       "      <td>False</td>\n",
       "    </tr>\n",
       "    <tr>\n",
       "      <th>3</th>\n",
       "      <td>1.0</td>\n",
       "      <td>30</td>\n",
       "      <td>1</td>\n",
       "      <td>1</td>\n",
       "      <td>False</td>\n",
       "      <td>False</td>\n",
       "      <td>False</td>\n",
       "    </tr>\n",
       "    <tr>\n",
       "      <th>4</th>\n",
       "      <td>1.0</td>\n",
       "      <td>33</td>\n",
       "      <td>1</td>\n",
       "      <td>2</td>\n",
       "      <td>False</td>\n",
       "      <td>False</td>\n",
       "      <td>True</td>\n",
       "    </tr>\n",
       "  </tbody>\n",
       "</table>\n",
       "</div>"
      ],
      "text/plain": [
       "  asiste  edad sexo trabajo aux_asiste  sexo_mujer  no_trabaja\n",
       "0    1.0    81    1       2      False       False        True\n",
       "1    1.0    73    1       2      False       False        True\n",
       "2    1.0    32    2       1      False        True       False\n",
       "3    1.0    30    1       1      False       False       False\n",
       "4    1.0    33    1       2      False       False        True"
      ]
     },
     "execution_count": 39,
     "metadata": {},
     "output_type": "execute_result"
    }
   ],
   "source": [
    "df_educ.head()"
   ]
  },
  {
   "cell_type": "code",
   "execution_count": 40,
   "id": "649c1976",
   "metadata": {},
   "outputs": [
    {
     "data": {
      "text/plain": [
       "Index(['asiste', 'edad', 'sexo', 'trabajo', 'aux_asiste', 'sexo_mujer',\n",
       "       'no_trabaja'],\n",
       "      dtype='object')"
      ]
     },
     "execution_count": 40,
     "metadata": {},
     "output_type": "execute_result"
    }
   ],
   "source": [
    "df_educ.columns"
   ]
  },
  {
   "cell_type": "code",
   "execution_count": 41,
   "id": "0a249af7",
   "metadata": {},
   "outputs": [
    {
     "data": {
      "text/html": [
       "<div>\n",
       "<style scoped>\n",
       "    .dataframe tbody tr th:only-of-type {\n",
       "        vertical-align: middle;\n",
       "    }\n",
       "\n",
       "    .dataframe tbody tr th {\n",
       "        vertical-align: top;\n",
       "    }\n",
       "\n",
       "    .dataframe thead th {\n",
       "        text-align: right;\n",
       "    }\n",
       "</style>\n",
       "<table border=\"1\" class=\"dataframe\">\n",
       "  <thead>\n",
       "    <tr style=\"text-align: right;\">\n",
       "      <th></th>\n",
       "      <th>edad</th>\n",
       "    </tr>\n",
       "  </thead>\n",
       "  <tbody>\n",
       "    <tr>\n",
       "      <th>count</th>\n",
       "      <td>19588.000000</td>\n",
       "    </tr>\n",
       "    <tr>\n",
       "      <th>mean</th>\n",
       "      <td>47.805289</td>\n",
       "    </tr>\n",
       "    <tr>\n",
       "      <th>std</th>\n",
       "      <td>20.321829</td>\n",
       "    </tr>\n",
       "    <tr>\n",
       "      <th>min</th>\n",
       "      <td>14.000000</td>\n",
       "    </tr>\n",
       "    <tr>\n",
       "      <th>25%</th>\n",
       "      <td>30.000000</td>\n",
       "    </tr>\n",
       "    <tr>\n",
       "      <th>50%</th>\n",
       "      <td>48.000000</td>\n",
       "    </tr>\n",
       "    <tr>\n",
       "      <th>75%</th>\n",
       "      <td>64.000000</td>\n",
       "    </tr>\n",
       "    <tr>\n",
       "      <th>max</th>\n",
       "      <td>110.000000</td>\n",
       "    </tr>\n",
       "  </tbody>\n",
       "</table>\n",
       "</div>"
      ],
      "text/plain": [
       "               edad\n",
       "count  19588.000000\n",
       "mean      47.805289\n",
       "std       20.321829\n",
       "min       14.000000\n",
       "25%       30.000000\n",
       "50%       48.000000\n",
       "75%       64.000000\n",
       "max      110.000000"
      ]
     },
     "execution_count": 41,
     "metadata": {},
     "output_type": "execute_result"
    }
   ],
   "source": [
    "df_educ.describe()"
   ]
  },
  {
   "cell_type": "code",
   "execution_count": 42,
   "id": "4207c672",
   "metadata": {},
   "outputs": [
    {
     "data": {
      "text/plain": [
       "count     19585\n",
       "unique        2\n",
       "top       False\n",
       "freq      16603\n",
       "Name: aux_asiste, dtype: object"
      ]
     },
     "execution_count": 42,
     "metadata": {},
     "output_type": "execute_result"
    }
   ],
   "source": [
    "df_educ['aux_asiste'].describe()"
   ]
  },
  {
   "cell_type": "code",
   "execution_count": 43,
   "id": "4b484121",
   "metadata": {},
   "outputs": [
    {
     "data": {
      "text/plain": [
       "count     19588\n",
       "unique        2\n",
       "top        True\n",
       "freq      10696\n",
       "Name: sexo_mujer, dtype: object"
      ]
     },
     "execution_count": 43,
     "metadata": {},
     "output_type": "execute_result"
    }
   ],
   "source": [
    "df_educ['sexo_mujer'].describe()"
   ]
  },
  {
   "cell_type": "code",
   "execution_count": 44,
   "id": "3fd517d0",
   "metadata": {},
   "outputs": [
    {
     "data": {
      "text/plain": [
       "count     19588\n",
       "unique        2\n",
       "top        True\n",
       "freq      11800\n",
       "Name: no_trabaja, dtype: object"
      ]
     },
     "execution_count": 44,
     "metadata": {},
     "output_type": "execute_result"
    }
   ],
   "source": [
    "df_educ['no_trabaja'].describe()"
   ]
  },
  {
   "cell_type": "markdown",
   "id": "4181d6f9",
   "metadata": {},
   "source": [
    "## Construcción del Concepto: Entrenamiento\n",
    "\n",
    "* Definimos y aplicamos sesgo inductivo e hipótesis para cumplir con la Tarea\n",
    "* Entrenamiento: utilizamos todos las observaciones del dataset"
   ]
  },
  {
   "cell_type": "code",
   "execution_count": 56,
   "id": "39477a50",
   "metadata": {},
   "outputs": [],
   "source": [
    "# dataframe vacío para crear hipótesis\n",
    "H = pd.DataFrame()\n",
    "H['aux_asiste'] = df_educ['aux_asiste']"
   ]
  },
  {
   "cell_type": "code",
   "execution_count": 58,
   "id": "faf62547",
   "metadata": {},
   "outputs": [],
   "source": [
    "# primeras hipótesis\n",
    "H['h_1'] = np.where(df_educ['edad'] < 25, True, False) # con función np.where\n",
    "H['h_1.1'] = df_educ['edad'] < 25 # boolean indexing\n",
    "\n",
    "# operadores lógicos and, or\n",
    "H['h_2'] = np.where((df_educ['edad'] < 25) & (df_educ['sexo_mujer'] == True), True, False)\n",
    "H['h_2.1'] = (df_educ['edad'] < 25) & (df_educ['sexo_mujer'] == True)\n",
    "\n",
    "H['h_3'] = np.where((df_educ['edad'] < 25) | (df_educ['sexo_mujer'] == True), True, False)\n",
    "\n",
    "# alternativa: np.logical_and, np.logical_or\n",
    "H['h_2.2'] = np.where(np.logical_and(df_educ['edad'] < 25, df_educ['sexo_mujer'] == True), True, False)\n",
    "H['h_3.1'] = np.where(np.logical_or(df_educ['edad'] < 25, df_educ['sexo_mujer'] == True), True, False)\n",
    "\n",
    "H['h_4'] = np.where((df_educ['edad'] < 25) & (df_educ['no_trabaja'] == False), True, False)"
   ]
  },
  {
   "cell_type": "code",
   "execution_count": 59,
   "id": "511d28e0",
   "metadata": {},
   "outputs": [
    {
     "data": {
      "text/html": [
       "<div>\n",
       "<style scoped>\n",
       "    .dataframe tbody tr th:only-of-type {\n",
       "        vertical-align: middle;\n",
       "    }\n",
       "\n",
       "    .dataframe tbody tr th {\n",
       "        vertical-align: top;\n",
       "    }\n",
       "\n",
       "    .dataframe thead th {\n",
       "        text-align: right;\n",
       "    }\n",
       "</style>\n",
       "<table border=\"1\" class=\"dataframe\">\n",
       "  <thead>\n",
       "    <tr style=\"text-align: right;\">\n",
       "      <th></th>\n",
       "      <th>aux_asiste</th>\n",
       "      <th>h_1</th>\n",
       "      <th>h_1.1</th>\n",
       "      <th>h_2</th>\n",
       "      <th>h_2.1</th>\n",
       "      <th>h_3</th>\n",
       "      <th>h_2.2</th>\n",
       "      <th>h_3.1</th>\n",
       "      <th>h_4</th>\n",
       "    </tr>\n",
       "  </thead>\n",
       "  <tbody>\n",
       "    <tr>\n",
       "      <th>0</th>\n",
       "      <td>False</td>\n",
       "      <td>False</td>\n",
       "      <td>False</td>\n",
       "      <td>False</td>\n",
       "      <td>False</td>\n",
       "      <td>False</td>\n",
       "      <td>False</td>\n",
       "      <td>False</td>\n",
       "      <td>False</td>\n",
       "    </tr>\n",
       "    <tr>\n",
       "      <th>1</th>\n",
       "      <td>False</td>\n",
       "      <td>False</td>\n",
       "      <td>False</td>\n",
       "      <td>False</td>\n",
       "      <td>False</td>\n",
       "      <td>False</td>\n",
       "      <td>False</td>\n",
       "      <td>False</td>\n",
       "      <td>False</td>\n",
       "    </tr>\n",
       "    <tr>\n",
       "      <th>2</th>\n",
       "      <td>False</td>\n",
       "      <td>False</td>\n",
       "      <td>False</td>\n",
       "      <td>False</td>\n",
       "      <td>False</td>\n",
       "      <td>True</td>\n",
       "      <td>False</td>\n",
       "      <td>True</td>\n",
       "      <td>False</td>\n",
       "    </tr>\n",
       "    <tr>\n",
       "      <th>3</th>\n",
       "      <td>False</td>\n",
       "      <td>False</td>\n",
       "      <td>False</td>\n",
       "      <td>False</td>\n",
       "      <td>False</td>\n",
       "      <td>False</td>\n",
       "      <td>False</td>\n",
       "      <td>False</td>\n",
       "      <td>False</td>\n",
       "    </tr>\n",
       "    <tr>\n",
       "      <th>4</th>\n",
       "      <td>False</td>\n",
       "      <td>False</td>\n",
       "      <td>False</td>\n",
       "      <td>False</td>\n",
       "      <td>False</td>\n",
       "      <td>False</td>\n",
       "      <td>False</td>\n",
       "      <td>False</td>\n",
       "      <td>False</td>\n",
       "    </tr>\n",
       "  </tbody>\n",
       "</table>\n",
       "</div>"
      ],
      "text/plain": [
       "  aux_asiste    h_1  h_1.1    h_2  h_2.1    h_3  h_2.2  h_3.1    h_4\n",
       "0      False  False  False  False  False  False  False  False  False\n",
       "1      False  False  False  False  False  False  False  False  False\n",
       "2      False  False  False  False  False   True  False   True  False\n",
       "3      False  False  False  False  False  False  False  False  False\n",
       "4      False  False  False  False  False  False  False  False  False"
      ]
     },
     "execution_count": 59,
     "metadata": {},
     "output_type": "execute_result"
    }
   ],
   "source": [
    "H.head()"
   ]
  },
  {
   "cell_type": "markdown",
   "id": "26d25ee6",
   "metadata": {},
   "source": [
    "## Construcción del Concepto: Performance"
   ]
  },
  {
   "cell_type": "code",
   "execution_count": 61,
   "id": "dc90b9c6",
   "metadata": {},
   "outputs": [],
   "source": [
    "H['error_1'] = np.where(H['aux_asiste'] != H['h_1'], True, False)\n",
    "H['error_1.1'] = np.where(H['aux_asiste'] != H['h_1.1'], True, False)\n",
    "H['error_2'] = np.where(H['aux_asiste'] != H['h_2'], True, False)\n",
    "H['error_2.1'] = np.where(H['aux_asiste'] != H['h_2.1'], True, False)\n",
    "H['error_2.2'] = np.where(H['aux_asiste'] != H['h_2.2'], True, False)\n",
    "H['error_3'] = np.where(H['aux_asiste'] != H['h_3'], True, False)\n",
    "H['error_3.1'] = np.where(H['aux_asiste'] != H['h_3.1'], True, False)\n",
    "H['error_4'] = np.where(H['aux_asiste'] != H['h_4'], True, False)"
   ]
  },
  {
   "cell_type": "code",
   "execution_count": 62,
   "id": "7ac64afa",
   "metadata": {},
   "outputs": [
    {
     "data": {
      "text/html": [
       "<div>\n",
       "<style scoped>\n",
       "    .dataframe tbody tr th:only-of-type {\n",
       "        vertical-align: middle;\n",
       "    }\n",
       "\n",
       "    .dataframe tbody tr th {\n",
       "        vertical-align: top;\n",
       "    }\n",
       "\n",
       "    .dataframe thead th {\n",
       "        text-align: right;\n",
       "    }\n",
       "</style>\n",
       "<table border=\"1\" class=\"dataframe\">\n",
       "  <thead>\n",
       "    <tr style=\"text-align: right;\">\n",
       "      <th></th>\n",
       "      <th>aux_asiste</th>\n",
       "      <th>h_1</th>\n",
       "      <th>h_1.1</th>\n",
       "      <th>h_2</th>\n",
       "      <th>h_2.1</th>\n",
       "      <th>h_3</th>\n",
       "      <th>h_2.2</th>\n",
       "      <th>h_3.1</th>\n",
       "      <th>h_4</th>\n",
       "      <th>error_1</th>\n",
       "      <th>error_2</th>\n",
       "      <th>error_3</th>\n",
       "      <th>error_4</th>\n",
       "      <th>error_1.1</th>\n",
       "      <th>error_2.1</th>\n",
       "      <th>error_2.2</th>\n",
       "      <th>error_3.1</th>\n",
       "    </tr>\n",
       "  </thead>\n",
       "  <tbody>\n",
       "    <tr>\n",
       "      <th>0</th>\n",
       "      <td>False</td>\n",
       "      <td>False</td>\n",
       "      <td>False</td>\n",
       "      <td>False</td>\n",
       "      <td>False</td>\n",
       "      <td>False</td>\n",
       "      <td>False</td>\n",
       "      <td>False</td>\n",
       "      <td>False</td>\n",
       "      <td>False</td>\n",
       "      <td>False</td>\n",
       "      <td>False</td>\n",
       "      <td>False</td>\n",
       "      <td>False</td>\n",
       "      <td>False</td>\n",
       "      <td>False</td>\n",
       "      <td>False</td>\n",
       "    </tr>\n",
       "    <tr>\n",
       "      <th>1</th>\n",
       "      <td>False</td>\n",
       "      <td>False</td>\n",
       "      <td>False</td>\n",
       "      <td>False</td>\n",
       "      <td>False</td>\n",
       "      <td>False</td>\n",
       "      <td>False</td>\n",
       "      <td>False</td>\n",
       "      <td>False</td>\n",
       "      <td>False</td>\n",
       "      <td>False</td>\n",
       "      <td>False</td>\n",
       "      <td>False</td>\n",
       "      <td>False</td>\n",
       "      <td>False</td>\n",
       "      <td>False</td>\n",
       "      <td>False</td>\n",
       "    </tr>\n",
       "    <tr>\n",
       "      <th>2</th>\n",
       "      <td>False</td>\n",
       "      <td>False</td>\n",
       "      <td>False</td>\n",
       "      <td>False</td>\n",
       "      <td>False</td>\n",
       "      <td>True</td>\n",
       "      <td>False</td>\n",
       "      <td>True</td>\n",
       "      <td>False</td>\n",
       "      <td>False</td>\n",
       "      <td>False</td>\n",
       "      <td>True</td>\n",
       "      <td>False</td>\n",
       "      <td>False</td>\n",
       "      <td>False</td>\n",
       "      <td>False</td>\n",
       "      <td>True</td>\n",
       "    </tr>\n",
       "    <tr>\n",
       "      <th>3</th>\n",
       "      <td>False</td>\n",
       "      <td>False</td>\n",
       "      <td>False</td>\n",
       "      <td>False</td>\n",
       "      <td>False</td>\n",
       "      <td>False</td>\n",
       "      <td>False</td>\n",
       "      <td>False</td>\n",
       "      <td>False</td>\n",
       "      <td>False</td>\n",
       "      <td>False</td>\n",
       "      <td>False</td>\n",
       "      <td>False</td>\n",
       "      <td>False</td>\n",
       "      <td>False</td>\n",
       "      <td>False</td>\n",
       "      <td>False</td>\n",
       "    </tr>\n",
       "    <tr>\n",
       "      <th>4</th>\n",
       "      <td>False</td>\n",
       "      <td>False</td>\n",
       "      <td>False</td>\n",
       "      <td>False</td>\n",
       "      <td>False</td>\n",
       "      <td>False</td>\n",
       "      <td>False</td>\n",
       "      <td>False</td>\n",
       "      <td>False</td>\n",
       "      <td>False</td>\n",
       "      <td>False</td>\n",
       "      <td>False</td>\n",
       "      <td>False</td>\n",
       "      <td>False</td>\n",
       "      <td>False</td>\n",
       "      <td>False</td>\n",
       "      <td>False</td>\n",
       "    </tr>\n",
       "  </tbody>\n",
       "</table>\n",
       "</div>"
      ],
      "text/plain": [
       "  aux_asiste    h_1  h_1.1    h_2  h_2.1    h_3  h_2.2  h_3.1    h_4  error_1  \\\n",
       "0      False  False  False  False  False  False  False  False  False    False   \n",
       "1      False  False  False  False  False  False  False  False  False    False   \n",
       "2      False  False  False  False  False   True  False   True  False    False   \n",
       "3      False  False  False  False  False  False  False  False  False    False   \n",
       "4      False  False  False  False  False  False  False  False  False    False   \n",
       "\n",
       "   error_2  error_3  error_4  error_1.1  error_2.1  error_2.2  error_3.1  \n",
       "0    False    False    False      False      False      False      False  \n",
       "1    False    False    False      False      False      False      False  \n",
       "2    False     True    False      False      False      False       True  \n",
       "3    False    False    False      False      False      False      False  \n",
       "4    False    False    False      False      False      False      False  "
      ]
     },
     "execution_count": 62,
     "metadata": {},
     "output_type": "execute_result"
    }
   ],
   "source": [
    "H.head()"
   ]
  },
  {
   "cell_type": "code",
   "execution_count": 63,
   "id": "c0c95e1a",
   "metadata": {},
   "outputs": [
    {
     "data": {
      "text/plain": [
       "0.09847866040432918"
      ]
     },
     "execution_count": 63,
     "metadata": {},
     "output_type": "execute_result"
    }
   ],
   "source": [
    "# como True es igual a 1, False es 0:\n",
    "H['error_1'].mean()"
   ]
  },
  {
   "cell_type": "code",
   "execution_count": 64,
   "id": "d62566c4",
   "metadata": {},
   "outputs": [
    {
     "data": {
      "text/plain": [
       "0.09847866040432918"
      ]
     },
     "execution_count": 64,
     "metadata": {},
     "output_type": "execute_result"
    }
   ],
   "source": [
    "H['error_1.1'].mean()"
   ]
  },
  {
   "cell_type": "code",
   "execution_count": 65,
   "id": "62933040",
   "metadata": {},
   "outputs": [
    {
     "data": {
      "text/plain": [
       "0.114815192975291"
      ]
     },
     "execution_count": 65,
     "metadata": {},
     "output_type": "execute_result"
    }
   ],
   "source": [
    "H['error_2'].mean()"
   ]
  },
  {
   "cell_type": "code",
   "execution_count": 66,
   "id": "4573bc67",
   "metadata": {},
   "outputs": [
    {
     "data": {
      "text/plain": [
       "0.114815192975291"
      ]
     },
     "execution_count": 66,
     "metadata": {},
     "output_type": "execute_result"
    }
   ],
   "source": [
    "H['error_2.1'].mean()"
   ]
  },
  {
   "cell_type": "code",
   "execution_count": 67,
   "id": "6e0fab74",
   "metadata": {},
   "outputs": [
    {
     "data": {
      "text/plain": [
       "0.114815192975291"
      ]
     },
     "execution_count": 67,
     "metadata": {},
     "output_type": "execute_result"
    }
   ],
   "source": [
    "H['error_2.2'].mean()"
   ]
  },
  {
   "cell_type": "code",
   "execution_count": 68,
   "id": "2aa6ad8c",
   "metadata": {},
   "outputs": [
    {
     "data": {
      "text/plain": [
       "0.5051051664284255"
      ]
     },
     "execution_count": 68,
     "metadata": {},
     "output_type": "execute_result"
    }
   ],
   "source": [
    "H['error_3'].mean()"
   ]
  },
  {
   "cell_type": "code",
   "execution_count": 69,
   "id": "50cf8937",
   "metadata": {},
   "outputs": [
    {
     "data": {
      "text/plain": [
       "0.5051051664284255"
      ]
     },
     "execution_count": 69,
     "metadata": {},
     "output_type": "execute_result"
    }
   ],
   "source": [
    "H['error_3.1'].mean()"
   ]
  },
  {
   "cell_type": "code",
   "execution_count": 70,
   "id": "7215face",
   "metadata": {},
   "outputs": [
    {
     "data": {
      "text/plain": [
       "0.16765366550949562"
      ]
     },
     "execution_count": 70,
     "metadata": {},
     "output_type": "execute_result"
    }
   ],
   "source": [
    "H['error_4'].mean()"
   ]
  }
 ],
 "metadata": {
  "kernelspec": {
   "display_name": "Python 3 (ipykernel)",
   "language": "python",
   "name": "python3"
  },
  "language_info": {
   "codemirror_mode": {
    "name": "ipython",
    "version": 3
   },
   "file_extension": ".py",
   "mimetype": "text/x-python",
   "name": "python",
   "nbconvert_exporter": "python",
   "pygments_lexer": "ipython3",
   "version": "3.7.12"
  }
 },
 "nbformat": 4,
 "nbformat_minor": 5
}

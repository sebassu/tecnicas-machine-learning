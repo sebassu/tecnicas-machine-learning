{
 "cells": [
  {
   "cell_type": "markdown",
   "id": "85593ab4",
   "metadata": {
    "id": "5fef0619"
   },
   "source": [
    "# Práctico 5: Métricas de clasificación"
   ]
  },
  {
   "cell_type": "markdown",
   "id": "0ab144b2",
   "metadata": {
    "id": "36ec7168"
   },
   "source": [
    "## Objetivos del trabajo\n",
    "\n",
    "* Objetivo general:\n",
    "    - Aplicar métricas a dos técnicas de clasificación (Naïve Bayes y Regresión Logística)\n",
    "\n",
    "* Objetivos específicos:\n",
    "    - continuar el estudio del dataset de la ECH, en este caso con una variable de respuesta discreta\n",
    "    - aplicar herramientas de análisis estadístico descriptivo adecuadas al caso\n",
    "    - aplicar ambas técnicas de clasificación\n",
    "    \n",
    "    \n",
    "## Presentación del caso de estudio\n",
    "\n",
    "* Predicción del ingreso de las personas:\n",
    "    - queremos desarrollar un modelo de predicción del acceso a servicio de streaming en los hogares a partir de los datos de la ECH.\n",
    "    \n",
    "1. Objetivo:\n",
    "\n",
    "    * **Tarea (T)**: Predicción de acceso a servicio de streaming en el hogar (la ECH pregunta: \"Este hogar, ¿cuenta con acceso a servicio de streaming?\")\n",
    "    * **Entrenamiento (E)**: Utilizamos los datos de la Encuesta Continua de Hogares del INE (ECH) de 2022        \n",
    "    * **Performance (P)**: buscamos minimizar el error de clasificación: \n",
    "    \n",
    "    $$ E_{D}(l_{0-1}(h,(x, y)),$$ \n",
    "    \n",
    "    $$l_{0-1} (h,(x, y))=$$ \n",
    "    \n",
    "    \\begin{cases} 1 & h(x) \\neq y \\\\ 0 & h(x) = y  \\end{cases}\n",
    "\n",
    "2. Links de referencia:\n",
    "\n",
    "    * [Encuesta Continua de Hogares 2022](https://www.ine.gub.uy/Anda5/index.php/catalog/730/get-microdata) \n",
    "    * datos a utilizar: [Base anual ECH 2022](https://www.ine.gub.uy/Anda5/index.php/catalog/730/download/1143)\n",
    "    * [Diccionario de variables ECH 2022](https://www.ine.gub.uy/Anda5/index.php/catalog/730/data-dictionary)\n",
    "        \n",
    "    \n",
    "3. Entendimiento del caso:\n",
    "\n",
    "    * Lectura de la documentación de los datos de la ECH\n",
    "    * Análisis del diccionario de datos de la ECH\n",
    "    * ¿Cuál es la variable objetivo *Y*?\n",
    "    * Planteo inicial de hipótesis: Definición del enfoque de uso de variables (no existe receta)\n",
    "        - de menos a más: variable por variable, probando una hipótesis a la vez, utilizando combinaciones\n",
    "        - usar todas las variables de una vez"
   ]
  },
  {
   "cell_type": "markdown",
   "id": "13529dc4",
   "metadata": {
    "id": "ef6be0e8"
   },
   "source": [
    "## Setup"
   ]
  },
  {
   "cell_type": "code",
   "execution_count": 1,
   "id": "aeb2e7bd",
   "metadata": {
    "id": "a7f4f0f6"
   },
   "outputs": [],
   "source": [
    "#Importar librerías\n",
    "import pandas as pd\n",
    "import numpy as np\n",
    "import os\n",
    "from sklearn.model_selection import train_test_split # División del dataset\n",
    "import matplotlib.pyplot as plt # Plotear\n",
    "from sklearn.linear_model import LinearRegression # Modelo de ML\n",
    "from sklearn.preprocessing import OneHotEncoder, StandardScaler\n",
    "from sklearn.compose import make_column_transformer\n",
    "from sklearn import metrics\n",
    "from sklearn.metrics import precision_score, recall_score, f1_score, accuracy_score, confusion_matrix # Métricas"
   ]
  },
  {
   "cell_type": "markdown",
   "id": "838e6dcd",
   "metadata": {
    "id": "c9e8ef0e"
   },
   "source": [
    "## Importación del dataset  "
   ]
  },
  {
   "cell_type": "code",
   "execution_count": 2,
   "id": "b3cfc353",
   "metadata": {
    "id": "fee93b4d",
    "outputId": "69f644cb-a86b-4720-829c-bcf70175d5aa"
   },
   "outputs": [
    {
     "name": "stderr",
     "output_type": "stream",
     "text": [
      "C:\\Users\\epastor\\AppData\\Local\\Temp\\ipykernel_8036\\1851076909.py:2: DtypeWarning: Columns (84,179,278) have mixed types. Specify dtype option on import or set low_memory=False.\n",
      "  df = pd.read_csv(r'ECH_2022.csv')\n"
     ]
    }
   ],
   "source": [
    "#Importar data\n",
    "df = pd.read_csv(r'ECH_2022.csv')\n",
    "\n",
    "#df = pd.read_csv(r'ECH implantacion sem1 2022.csv', usecols = [i for i in range(1, 86)])"
   ]
  },
  {
   "cell_type": "code",
   "execution_count": 3,
   "id": "eac4a651",
   "metadata": {
    "id": "46c3e8fe",
    "outputId": "d2b67f7d-4068-4c9e-934d-da024f5cd8e3"
   },
   "outputs": [
    {
     "data": {
      "text/html": [
       "<div>\n",
       "<style scoped>\n",
       "    .dataframe tbody tr th:only-of-type {\n",
       "        vertical-align: middle;\n",
       "    }\n",
       "\n",
       "    .dataframe tbody tr th {\n",
       "        vertical-align: top;\n",
       "    }\n",
       "\n",
       "    .dataframe thead th {\n",
       "        text-align: right;\n",
       "    }\n",
       "</style>\n",
       "<table border=\"1\" class=\"dataframe\">\n",
       "  <thead>\n",
       "    <tr style=\"text-align: right;\">\n",
       "      <th></th>\n",
       "      <th>ID</th>\n",
       "      <th>nper</th>\n",
       "      <th>anio</th>\n",
       "      <th>mes</th>\n",
       "      <th>GR</th>\n",
       "      <th>region</th>\n",
       "      <th>region_4</th>\n",
       "      <th>dpto</th>\n",
       "      <th>ccz</th>\n",
       "      <th>secc</th>\n",
       "      <th>...</th>\n",
       "      <th>w_tri</th>\n",
       "      <th>w_sem</th>\n",
       "      <th>estred13</th>\n",
       "      <th>nom_dpto</th>\n",
       "      <th>g260</th>\n",
       "      <th>g261</th>\n",
       "      <th>g261_1</th>\n",
       "      <th>w_ano</th>\n",
       "      <th>Loc_agr_13</th>\n",
       "      <th>Nom_loc_agr_13</th>\n",
       "    </tr>\n",
       "  </thead>\n",
       "  <tbody>\n",
       "    <tr>\n",
       "      <th>0</th>\n",
       "      <td>11558</td>\n",
       "      <td>1</td>\n",
       "      <td>2022</td>\n",
       "      <td>1</td>\n",
       "      <td>7</td>\n",
       "      <td>1</td>\n",
       "      <td>1</td>\n",
       "      <td>1</td>\n",
       "      <td>1</td>\n",
       "      <td>4</td>\n",
       "      <td>...</td>\n",
       "      <td>175</td>\n",
       "      <td>87.5</td>\n",
       "      <td>4</td>\n",
       "      <td>MONTEVIDEO</td>\n",
       "      <td>NaN</td>\n",
       "      <td>NaN</td>\n",
       "      <td>NaN</td>\n",
       "      <td>38</td>\n",
       "      <td>1010</td>\n",
       "      <td>Montevideo</td>\n",
       "    </tr>\n",
       "    <tr>\n",
       "      <th>1</th>\n",
       "      <td>11559</td>\n",
       "      <td>1</td>\n",
       "      <td>2022</td>\n",
       "      <td>1</td>\n",
       "      <td>7</td>\n",
       "      <td>1</td>\n",
       "      <td>1</td>\n",
       "      <td>1</td>\n",
       "      <td>1</td>\n",
       "      <td>4</td>\n",
       "      <td>...</td>\n",
       "      <td>350</td>\n",
       "      <td>175.0</td>\n",
       "      <td>4</td>\n",
       "      <td>MONTEVIDEO</td>\n",
       "      <td>NaN</td>\n",
       "      <td>NaN</td>\n",
       "      <td>NaN</td>\n",
       "      <td>84</td>\n",
       "      <td>1010</td>\n",
       "      <td>Montevideo</td>\n",
       "    </tr>\n",
       "    <tr>\n",
       "      <th>2</th>\n",
       "      <td>11559</td>\n",
       "      <td>2</td>\n",
       "      <td>2022</td>\n",
       "      <td>1</td>\n",
       "      <td>7</td>\n",
       "      <td>1</td>\n",
       "      <td>1</td>\n",
       "      <td>1</td>\n",
       "      <td>1</td>\n",
       "      <td>4</td>\n",
       "      <td>...</td>\n",
       "      <td>350</td>\n",
       "      <td>175.0</td>\n",
       "      <td>4</td>\n",
       "      <td>MONTEVIDEO</td>\n",
       "      <td>NaN</td>\n",
       "      <td>NaN</td>\n",
       "      <td>NaN</td>\n",
       "      <td>84</td>\n",
       "      <td>1010</td>\n",
       "      <td>Montevideo</td>\n",
       "    </tr>\n",
       "    <tr>\n",
       "      <th>3</th>\n",
       "      <td>11560</td>\n",
       "      <td>1</td>\n",
       "      <td>2022</td>\n",
       "      <td>1</td>\n",
       "      <td>7</td>\n",
       "      <td>1</td>\n",
       "      <td>1</td>\n",
       "      <td>1</td>\n",
       "      <td>1</td>\n",
       "      <td>4</td>\n",
       "      <td>...</td>\n",
       "      <td>131</td>\n",
       "      <td>65.5</td>\n",
       "      <td>4</td>\n",
       "      <td>MONTEVIDEO</td>\n",
       "      <td>NaN</td>\n",
       "      <td>NaN</td>\n",
       "      <td>NaN</td>\n",
       "      <td>33</td>\n",
       "      <td>1010</td>\n",
       "      <td>Montevideo</td>\n",
       "    </tr>\n",
       "    <tr>\n",
       "      <th>4</th>\n",
       "      <td>11561</td>\n",
       "      <td>1</td>\n",
       "      <td>2022</td>\n",
       "      <td>1</td>\n",
       "      <td>7</td>\n",
       "      <td>1</td>\n",
       "      <td>1</td>\n",
       "      <td>1</td>\n",
       "      <td>1</td>\n",
       "      <td>4</td>\n",
       "      <td>...</td>\n",
       "      <td>131</td>\n",
       "      <td>65.5</td>\n",
       "      <td>4</td>\n",
       "      <td>MONTEVIDEO</td>\n",
       "      <td>NaN</td>\n",
       "      <td>NaN</td>\n",
       "      <td>NaN</td>\n",
       "      <td>33</td>\n",
       "      <td>1010</td>\n",
       "      <td>Montevideo</td>\n",
       "    </tr>\n",
       "  </tbody>\n",
       "</table>\n",
       "<p>5 rows × 528 columns</p>\n",
       "</div>"
      ],
      "text/plain": [
       "      ID  nper  anio  mes  GR  region  region_4  dpto  ccz  secc  ...  w_tri  \\\n",
       "0  11558     1  2022    1   7       1         1     1    1     4  ...    175   \n",
       "1  11559     1  2022    1   7       1         1     1    1     4  ...    350   \n",
       "2  11559     2  2022    1   7       1         1     1    1     4  ...    350   \n",
       "3  11560     1  2022    1   7       1         1     1    1     4  ...    131   \n",
       "4  11561     1  2022    1   7       1         1     1    1     4  ...    131   \n",
       "\n",
       "   w_sem  estred13    nom_dpto  g260  g261  g261_1  w_ano  Loc_agr_13  \\\n",
       "0   87.5         4  MONTEVIDEO   NaN   NaN     NaN     38        1010   \n",
       "1  175.0         4  MONTEVIDEO   NaN   NaN     NaN     84        1010   \n",
       "2  175.0         4  MONTEVIDEO   NaN   NaN     NaN     84        1010   \n",
       "3   65.5         4  MONTEVIDEO   NaN   NaN     NaN     33        1010   \n",
       "4   65.5         4  MONTEVIDEO   NaN   NaN     NaN     33        1010   \n",
       "\n",
       "   Nom_loc_agr_13  \n",
       "0      Montevideo  \n",
       "1      Montevideo  \n",
       "2      Montevideo  \n",
       "3      Montevideo  \n",
       "4      Montevideo  \n",
       "\n",
       "[5 rows x 528 columns]"
      ]
     },
     "execution_count": 3,
     "metadata": {},
     "output_type": "execute_result"
    }
   ],
   "source": [
    "df.head()"
   ]
  },
  {
   "cell_type": "code",
   "execution_count": 4,
   "id": "d78716c4",
   "metadata": {
    "id": "f3347758",
    "outputId": "43bbbc68-ed17-482d-e36b-62d3c1d015c5"
   },
   "outputs": [
    {
     "data": {
      "text/plain": [
       "pandas.core.frame.DataFrame"
      ]
     },
     "execution_count": 4,
     "metadata": {},
     "output_type": "execute_result"
    }
   ],
   "source": [
    "type(df)"
   ]
  },
  {
   "cell_type": "code",
   "execution_count": 5,
   "id": "a133d45f",
   "metadata": {
    "id": "ae4ba7b0",
    "outputId": "d0d7147b-6fb1-443f-e72d-6e9d5846f1b9"
   },
   "outputs": [
    {
     "name": "stdout",
     "output_type": "stream",
     "text": [
      "Características del dataset:\n",
      "                 ID          nper     anio           mes            GR  \\\n",
      "count  55056.000000  55056.000000  55056.0  55056.000000  55056.000000   \n",
      "mean   23000.805507      2.080918   2022.0      6.457897     12.457897   \n",
      "std     6654.507488      1.253577      0.0      3.454899      3.454899   \n",
      "min    11558.000000      1.000000   2022.0      1.000000      7.000000   \n",
      "25%    17210.750000      1.000000   2022.0      3.000000      9.000000   \n",
      "50%    22926.000000      2.000000   2022.0      6.000000     12.000000   \n",
      "75%    28787.000000      3.000000   2022.0      9.000000     15.000000   \n",
      "max    34503.000000     12.000000   2022.0     12.000000     18.000000   \n",
      "\n",
      "             region      region_4          dpto           ccz          secc  \\\n",
      "count  55056.000000  55056.000000  55056.000000  55056.000000  55056.000000   \n",
      "mean       1.811101      1.863503      6.152517      3.183413     13.243952   \n",
      "std        0.715584      0.828443      5.779517      5.073693     17.843581   \n",
      "min        1.000000      1.000000      1.000000      0.000000      0.000000   \n",
      "25%        1.000000      1.000000      1.000000      0.000000      2.000000   \n",
      "50%        2.000000      2.000000      3.000000      0.000000      9.000000   \n",
      "75%        2.000000      2.000000     11.000000      5.000000     17.000000   \n",
      "max        3.000000      4.000000     19.000000     18.000000     99.000000   \n",
      "\n",
      "       ...             lp            li         w_tri         w_sem  \\\n",
      "count  ...   55056.000000  55056.000000  55056.000000  55056.000000   \n",
      "mean   ...   37550.600844  14390.667012    258.281840    129.246776   \n",
      "std    ...   18253.722740   7148.243300    109.331737     54.206910   \n",
      "min    ...    7585.000000   3701.000000     22.000000     11.000000   \n",
      "25%    ...   22279.620000   9096.000000    174.000000     87.000000   \n",
      "50%    ...   33157.525389  13644.000000    258.000000    129.500000   \n",
      "75%    ...   47794.760000  18652.000000    329.000000    165.000000   \n",
      "max    ...  156527.616689  58104.000000    765.000000    392.000000   \n",
      "\n",
      "           estred13         g260         g261       g261_1         w_ano  \\\n",
      "count  55056.000000  4524.000000  4524.000000  4524.000000  55056.000000   \n",
      "mean       6.439280     0.043546     0.028957    27.508842     64.567023   \n",
      "std        3.159085     0.261131     0.228040   286.137460     26.433342   \n",
      "min        1.000000     0.000000     0.000000     0.000000      6.000000   \n",
      "25%        4.000000     0.000000     0.000000     0.000000     44.000000   \n",
      "50%        7.000000     0.000000     0.000000     0.000000     65.000000   \n",
      "75%        9.000000     0.000000     0.000000     0.000000     82.000000   \n",
      "max       12.000000     2.000000     2.000000  7000.000000    197.000000   \n",
      "\n",
      "         Loc_agr_13  \n",
      "count  55056.000000  \n",
      "mean   14036.014331  \n",
      "std    13717.527073  \n",
      "min     1010.000000  \n",
      "25%     1010.000000  \n",
      "50%    10020.000000  \n",
      "75%    30020.000000  \n",
      "max    36900.000000  \n",
      "\n",
      "[8 rows x 523 columns]\n"
     ]
    }
   ],
   "source": [
    "#Verificamos las características del dataset\n",
    "print('Características del dataset:')\n",
    "print(df.describe())"
   ]
  },
  {
   "cell_type": "code",
   "execution_count": 6,
   "id": "0444ebd2",
   "metadata": {
    "id": "7bce6e3e",
    "outputId": "0a4d3957-b8a0-436b-9ae0-782a182ec5a2"
   },
   "outputs": [
    {
     "name": "stdout",
     "output_type": "stream",
     "text": [
      "['ID', 'nper', 'anio', 'mes', 'GR', 'region', 'region_4', 'dpto', 'ccz', 'secc', 'segm', 'barrio', 'c1', 'c2', 'c3', 'c4', 'c6', 'c6_1', 'd8_1', 'd8_2', 'd8_3', 'd8_4', 'd9', 'd10', 'd11', 'd12', 'd13', 'd14', 'd15', 'd16', 'd18', 'd260', 'd19', 'd20', 'd21_1', 'd21_2', 'd21_3', 'd21_6', 'd21_4', 'd21_4_1', 'd21_5', 'd21_5_1', 'd21_20', 'd21_7', 'd21_10', 'd21_11', 'd21_12', 'd21_13', 'd21_14', 'd21_14_1', 'd21_15', 'd21_15_1', 'd21_15_2', 'd21_15_3', 'd21_15_4', 'd21_15_5', 'd21_15_6', 'd21_16', 'd21_16_1', 'd21_16_2', 'd21_21', 'd21_17', 'd21_18', 'd21_18_1', 'd21_19', 'd21_19_1', 'd181', 'd229', 'd230', 'd231', 'd232', 'd184', 'd184_1', 'd23', 'd24', 'd25', 'e557', 'e26', 'e27', 'e29_1', 'e29_2', 'e29_3', 'e29_4', 'e29_5', 'e29_5_1', 'e29_6', 'e30', 'e31', 'e31_1', 'e32', 'e32_1', 'e33', 'e34', 'e35', 'e36', 'e185', 'e186_1', 'e186_2', 'e186_3', 'e186_4', 'e37', 'e37_2', 'e234_2', 'e38', 'e38_1', 'e39', 'e39_2', 'e235_2', 'e236', 'e236_2', 'e236_4', 'e45_cv', 'e45_1_1_cv', 'e45_1_1_1_cv', 'e45_2_1_cv', 'e45_2_1_1_cv', 'e45_3_1_cv', 'e45_3_1_1_cv', 'e45_4_1_cv', 'e45_4_1_1_cv', 'e45_cva', 'e45_cvb', 'e46_cv', 'e47_cv', 'e47_1_cv', 'e190', 'e48', 'e49', 'e49a', 'e579', 'e581', 'e579a', 'e581a', 'e582', 'e582_1', 'e582_2', 'e582_3', 'e582_4', 'e51_1', 'e51_2', 'e197_1', 'e51_3', 'e51_4_a', 'e201_1a', 'e51_4_b', 'e201_1b', 'e51_5', 'e201_1c', 'e51_6', 'e201_1d', 'e209_1', 'e202', 'e51_6a', 'e51_6b', 'e214_1', 'e51_8', 'e215_1', 'e217_1', 'e51_9', 'e218_1', 'e220_1', 'e51_10', 'e221_1', 'e223_1', 'e51_11', 'e224_1', 'e226_1', 'e559', 'e559_1', 'e559_2', 'e560', 'e560_1', 'e560_1_1', 'e560_2', 'e560_2_1', 'e561', 'e561_1', 'e59', 'e246', 'e246_1', 'e247', 'f269', 'f270', 'f271', 'f272', 'f273', 'f69', 'f69_1', 'f274', 'f275', 'f275_1', 'f276', 'f277', 'f70', 'f71_2', 'f72_2', 'f73', 'f82', 'f83', 'f84', 'f278', 'f279', 'f280_1', 'f280_2', 'f280_3', 'f281_1', 'f281_2', 'f281_3', 'f281_4', 'f75', 'f76_2', 'f283', 'f81', 'f266', 'f266_1', 'f266_2', 'f267', 'f268', 'f77', 'f305', 'f306', 'f78', 'f80', 'f80_2', 'f284_1', 'f284_2', 'f284_3', 'f284_4', 'f284_5', 'f284_6', 'f284_7', 'f285', 'f286', 'f287', 'f85', 'f307', 'f308', 'f288', 'f289', 'f290', 'f291_a', 'f291_b', 'f292', 'f293', 'f294', 'f295', 'f90_2', 'f91_2', 'f92', 'f96', 'f97', 'f93', 'f94', 'f94_2', 'f296_1', 'f296_2', 'f296_3', 'f296_4', 'f296_5', 'f296_6', 'f296_7', 'f98', 'f99', 'f100', 'f101', 'f102', 'f103', 'f297', 'f298', 'f104', 'f299', 'f110', 'f111', 'f113', 'f114', 'f115', 'f300', 'f108', 'f108_1', 'f301', 'f106', 'f116', 'f117', 'f118_1', 'f118_2', 'f122', 'f119_2', 'f120_2', 'f121', 'f123', 'f124_1', 'f124_2', 'f124_3', 'f124_5', 'f125', 'g_id_1', 'g_id_2', 'g_id_3', 'g_id_1a', 'g_id_2a', 'g_id_3a', 'g126_1', 'g126_2', 'g126_3', 'g126_4', 'g126_5', 'g126_6', 'g126_7', 'g126_8', 'g250_1', 'g250_2', 'g250_3', 'g250_4', 'g250_5', 'g127', 'g127_1', 'g127_2', 'g127_3', 'g128', 'g128_1', 'g129', 'g129_1', 'g129_2', 'g130', 'g130_1', 'g131', 'g131_1', 'g132', 'g132_1', 'g132_2', 'g132_3', 'g133', 'g133_1', 'g133_2', 'g_st_1', 'g134_1', 'g134_2', 'g134_3', 'g134_4', 'g134_5', 'g134_6', 'g134_7', 'g134_8', 'g251_1', 'g251_2', 'g251_3', 'g251_4', 'g251_5', 'g135', 'g135_1', 'g135_2', 'g135_3', 'g136', 'g136_1', 'g137', 'g137_1', 'g137_2', 'g138', 'g138_1', 'g139', 'g139_1', 'g140', 'g140_1', 'g140_2', 'g140_3', 'g141', 'g141_1', 'g141_2', 'g_itnd_1', 'g142', 'g_itnd_2', 'g143', 'g144', 'g144_1', 'g144_2_1', 'g144_2_2', 'g144_2_3', 'g144_2_4', 'g144_2_5', 'g_itnd_3', 'g145', 'g146', 'g147', 'g_it_1', 'g148_1_1', 'g148_1_2', 'g148_1_3', 'g148_1_5', 'g148_1_6', 'g148_1_7', 'g148_1_8', 'g148_1_9', 'g148_1_10', 'g148_1_11', 'g148_1_12', 'g_it_2', 'g148_2_1', 'g148_2_2', 'g148_2_3', 'g148_2_5', 'g148_2_6', 'g148_2_7', 'g148_2_8', 'g148_2_9', 'g148_2_10', 'g148_2_11', 'g148_2_12', 'g148_3', 'g148_4', 'g148_5_1', 'g148_5_2', 'g149', 'g149_1', 'g150', 'g255', 'g256', 'g152', 'g151_6', 'g151_3', 'g151_4', 'g257', 'g153', 'g153_1', 'g153_2', 'g258', 'g258_1', 'g154', 'g154_1', 'h155', 'h155_1', 'h156', 'h156_1', 'h252', 'h252_1', 'h158_1', 'h158_2', 'h159', 'h160', 'h160_1', 'h160_2', 'h161', 'h162', 'h163_1', 'h163_2', 'h164', 'h165', 'h227', 'h166', 'h269', 'h269_1', 'h167_1', 'h167_1_1', 'h167_1_2', 'h167_2', 'h167_2_1', 'h167_2_2', 'h167_3', 'h167_3_1', 'h167_3_2', 'h167_4', 'h167_4_1', 'h167_4_2', 'h169', 'h170_1', 'h170_2', 'h271', 'h271_1', 'h171', 'h171_1', 'h171_2', 'h172', 'h172_1', 'h173', 'h173_1', 'i228', 'i174', 'i259', 'i175', 'eg_ahorro', 'eg_ps1', 'eg_ps2', 'eg_ps3', 'eg_ps4', 'eg_ps5', 'eg_ps6', 'eg_ps7', 'eg_ps8', 'POBPCOAC', 'SUBEMPLEO', 'MTO_CUOTA', 'MTO_EMER', 'MTO_HOGCON', 'MTO_DESAY', 'MTO_ALMUE', 'MTO_VACAS', 'MTO_OVEJA', 'MTO_CABALL', 'INDACELIAC', 'INDAEMER', 'LECHEENPOL', 'PT1', 'PT2', 'PT4', 'ht11', 'HT19', 'ht13', 'YSVL', 'YSVL_CONS', 'YSVL_SAG', 'YHOG', 'YTOT_SINAGUI', 'YPAT_TOT', 'YTINDE_CTAPROP_TOT', 'YPAS_TOT', 'pobre', 'indig', 'lp', 'li', 'w_tri', 'w_sem', 'estred13', 'nom_dpto', 'g260', 'g261', 'g261_1', 'w_ano', 'Loc_agr_13', 'Nom_loc_agr_13']\n"
     ]
    }
   ],
   "source": [
    "columns = df.columns.values.tolist()\n",
    "print(columns)"
   ]
  },
  {
   "cell_type": "markdown",
   "id": "85ac5cc0",
   "metadata": {
    "id": "e2e85066"
   },
   "source": [
    "* Observamos bajo qué tipo de dato fueron importadas las variables que por definición serían numéricas o categóricas\n",
    "    - en caso de no cumplirse lo necesario, se deberán realizar transformaciones"
   ]
  },
  {
   "cell_type": "code",
   "execution_count": 7,
   "id": "8ab7227b",
   "metadata": {
    "id": "aebbc0dd",
    "outputId": "0cc3ca4a-7b51-4e49-8229-608147712c5a"
   },
   "outputs": [
    {
     "data": {
      "text/plain": [
       "dtype('int64')"
      ]
     },
     "execution_count": 7,
     "metadata": {},
     "output_type": "execute_result"
    }
   ],
   "source": [
    "# identificador del hogar\n",
    "df['ID'].dtype"
   ]
  },
  {
   "cell_type": "code",
   "execution_count": 8,
   "id": "dae63b12",
   "metadata": {
    "id": "f73482b6",
    "outputId": "554228bf-ae3c-44a7-ec9e-fd9ac4483601"
   },
   "outputs": [
    {
     "data": {
      "text/plain": [
       "count    55056.000000\n",
       "mean     23000.805507\n",
       "std       6654.507488\n",
       "min      11558.000000\n",
       "25%      17210.750000\n",
       "50%      22926.000000\n",
       "75%      28787.000000\n",
       "max      34503.000000\n",
       "Name: ID, dtype: float64"
      ]
     },
     "execution_count": 8,
     "metadata": {},
     "output_type": "execute_result"
    }
   ],
   "source": [
    "df['ID'].describe()"
   ]
  },
  {
   "cell_type": "code",
   "execution_count": 9,
   "id": "12007e5a",
   "metadata": {
    "id": "6df4d85a",
    "outputId": "04e9d93e-6c0e-4d83-967f-40c08a70176e"
   },
   "outputs": [
    {
     "data": {
      "text/plain": [
       "dtype('int64')"
      ]
     },
     "execution_count": 9,
     "metadata": {},
     "output_type": "execute_result"
    }
   ],
   "source": [
    "# edad\n",
    "df['e27'].dtype"
   ]
  },
  {
   "cell_type": "code",
   "execution_count": 10,
   "id": "c78aa4db",
   "metadata": {
    "id": "b9544d0a",
    "outputId": "158d0b35-401d-49ff-ff48-5e3cc03417e7"
   },
   "outputs": [
    {
     "data": {
      "text/plain": [
       "dtype('int64')"
      ]
     },
     "execution_count": 10,
     "metadata": {},
     "output_type": "execute_result"
    }
   ],
   "source": [
    "# sexo\n",
    "df['e26'].dtype"
   ]
  },
  {
   "cell_type": "markdown",
   "id": "b40ced8b",
   "metadata": {
    "id": "54492805"
   },
   "source": [
    "## Preparación de los datos"
   ]
  },
  {
   "cell_type": "markdown",
   "id": "4a4c68b5",
   "metadata": {
    "id": "c4a846f3"
   },
   "source": [
    "**Tarea 3.1: incorporar variables independientes de interés (además de las sugeridas a continuación) de acuerdo a las hipótesis del equipo de trabajo.**"
   ]
  },
  {
   "cell_type": "code",
   "execution_count": 11,
   "id": "6260984b",
   "metadata": {
    "id": "2797bf6d"
   },
   "outputs": [],
   "source": [
    "df_hogar = pd.DataFrame()\n",
    "\n",
    "# identificador del hogar: lo precisamos inicialmente ya que las observaciones corresponden a personas (una o más por hogar)\n",
    "df_hogar['id_hogar'] = df['ID'].astype('object')\n",
    "\n",
    "# características del hogar\n",
    "df_hogar['departamento'] = df['dpto'].astype('category')\n",
    "df_hogar['tipo_vivienda'] = df['c1'].astype('category')\n",
    "df_hogar['material_paredes'] = df['c2'].astype('category')\n",
    "df_hogar['material_techo'] = df['c3'].astype('category')\n",
    "df_hogar['material_pisos'] = df['c4'].astype('category')\n",
    "df_hogar['tenencia_vivienda'] = df['d8_1'].astype('category')\n",
    "df_hogar['nro_habitaciones'] = df['d9'].astype('int64')\n",
    "\n",
    "# variable de respuesta\n",
    "df_hogar['acceso_streaming'] = df['d21_21'].astype('category')"
   ]
  },
  {
   "cell_type": "code",
   "execution_count": 12,
   "id": "e361bd3c",
   "metadata": {
    "id": "bb6833c3",
    "outputId": "203b3199-ede4-4798-a0f0-1837eb7a50c5"
   },
   "outputs": [
    {
     "data": {
      "text/html": [
       "<div>\n",
       "<style scoped>\n",
       "    .dataframe tbody tr th:only-of-type {\n",
       "        vertical-align: middle;\n",
       "    }\n",
       "\n",
       "    .dataframe tbody tr th {\n",
       "        vertical-align: top;\n",
       "    }\n",
       "\n",
       "    .dataframe thead th {\n",
       "        text-align: right;\n",
       "    }\n",
       "</style>\n",
       "<table border=\"1\" class=\"dataframe\">\n",
       "  <thead>\n",
       "    <tr style=\"text-align: right;\">\n",
       "      <th></th>\n",
       "      <th>id_hogar</th>\n",
       "      <th>departamento</th>\n",
       "      <th>tipo_vivienda</th>\n",
       "      <th>material_paredes</th>\n",
       "      <th>material_techo</th>\n",
       "      <th>material_pisos</th>\n",
       "      <th>tenencia_vivienda</th>\n",
       "      <th>nro_habitaciones</th>\n",
       "      <th>acceso_streaming</th>\n",
       "    </tr>\n",
       "  </thead>\n",
       "  <tbody>\n",
       "    <tr>\n",
       "      <th>0</th>\n",
       "      <td>11558</td>\n",
       "      <td>1</td>\n",
       "      <td>3</td>\n",
       "      <td>1</td>\n",
       "      <td>1</td>\n",
       "      <td>1</td>\n",
       "      <td>2</td>\n",
       "      <td>3</td>\n",
       "      <td>1</td>\n",
       "    </tr>\n",
       "    <tr>\n",
       "      <th>1</th>\n",
       "      <td>11559</td>\n",
       "      <td>1</td>\n",
       "      <td>3</td>\n",
       "      <td>1</td>\n",
       "      <td>1</td>\n",
       "      <td>1</td>\n",
       "      <td>5</td>\n",
       "      <td>3</td>\n",
       "      <td>1</td>\n",
       "    </tr>\n",
       "    <tr>\n",
       "      <th>2</th>\n",
       "      <td>11559</td>\n",
       "      <td>1</td>\n",
       "      <td>3</td>\n",
       "      <td>1</td>\n",
       "      <td>1</td>\n",
       "      <td>1</td>\n",
       "      <td>5</td>\n",
       "      <td>3</td>\n",
       "      <td>1</td>\n",
       "    </tr>\n",
       "    <tr>\n",
       "      <th>3</th>\n",
       "      <td>11560</td>\n",
       "      <td>1</td>\n",
       "      <td>3</td>\n",
       "      <td>1</td>\n",
       "      <td>1</td>\n",
       "      <td>1</td>\n",
       "      <td>2</td>\n",
       "      <td>2</td>\n",
       "      <td>1</td>\n",
       "    </tr>\n",
       "    <tr>\n",
       "      <th>4</th>\n",
       "      <td>11561</td>\n",
       "      <td>1</td>\n",
       "      <td>3</td>\n",
       "      <td>1</td>\n",
       "      <td>1</td>\n",
       "      <td>1</td>\n",
       "      <td>2</td>\n",
       "      <td>5</td>\n",
       "      <td>1</td>\n",
       "    </tr>\n",
       "    <tr>\n",
       "      <th>5</th>\n",
       "      <td>11562</td>\n",
       "      <td>1</td>\n",
       "      <td>5</td>\n",
       "      <td>1</td>\n",
       "      <td>1</td>\n",
       "      <td>1</td>\n",
       "      <td>5</td>\n",
       "      <td>1</td>\n",
       "      <td>2</td>\n",
       "    </tr>\n",
       "    <tr>\n",
       "      <th>6</th>\n",
       "      <td>11563</td>\n",
       "      <td>1</td>\n",
       "      <td>3</td>\n",
       "      <td>1</td>\n",
       "      <td>1</td>\n",
       "      <td>1</td>\n",
       "      <td>5</td>\n",
       "      <td>2</td>\n",
       "      <td>2</td>\n",
       "    </tr>\n",
       "    <tr>\n",
       "      <th>7</th>\n",
       "      <td>11564</td>\n",
       "      <td>1</td>\n",
       "      <td>3</td>\n",
       "      <td>1</td>\n",
       "      <td>1</td>\n",
       "      <td>1</td>\n",
       "      <td>1</td>\n",
       "      <td>4</td>\n",
       "      <td>1</td>\n",
       "    </tr>\n",
       "    <tr>\n",
       "      <th>8</th>\n",
       "      <td>11564</td>\n",
       "      <td>1</td>\n",
       "      <td>3</td>\n",
       "      <td>1</td>\n",
       "      <td>1</td>\n",
       "      <td>1</td>\n",
       "      <td>1</td>\n",
       "      <td>4</td>\n",
       "      <td>1</td>\n",
       "    </tr>\n",
       "    <tr>\n",
       "      <th>9</th>\n",
       "      <td>11564</td>\n",
       "      <td>1</td>\n",
       "      <td>3</td>\n",
       "      <td>1</td>\n",
       "      <td>1</td>\n",
       "      <td>1</td>\n",
       "      <td>1</td>\n",
       "      <td>4</td>\n",
       "      <td>1</td>\n",
       "    </tr>\n",
       "    <tr>\n",
       "      <th>10</th>\n",
       "      <td>11564</td>\n",
       "      <td>1</td>\n",
       "      <td>3</td>\n",
       "      <td>1</td>\n",
       "      <td>1</td>\n",
       "      <td>1</td>\n",
       "      <td>1</td>\n",
       "      <td>4</td>\n",
       "      <td>1</td>\n",
       "    </tr>\n",
       "    <tr>\n",
       "      <th>11</th>\n",
       "      <td>11564</td>\n",
       "      <td>1</td>\n",
       "      <td>3</td>\n",
       "      <td>1</td>\n",
       "      <td>1</td>\n",
       "      <td>1</td>\n",
       "      <td>1</td>\n",
       "      <td>4</td>\n",
       "      <td>1</td>\n",
       "    </tr>\n",
       "    <tr>\n",
       "      <th>12</th>\n",
       "      <td>11565</td>\n",
       "      <td>1</td>\n",
       "      <td>3</td>\n",
       "      <td>1</td>\n",
       "      <td>1</td>\n",
       "      <td>1</td>\n",
       "      <td>5</td>\n",
       "      <td>2</td>\n",
       "      <td>1</td>\n",
       "    </tr>\n",
       "    <tr>\n",
       "      <th>13</th>\n",
       "      <td>11566</td>\n",
       "      <td>1</td>\n",
       "      <td>3</td>\n",
       "      <td>1</td>\n",
       "      <td>1</td>\n",
       "      <td>1</td>\n",
       "      <td>5</td>\n",
       "      <td>2</td>\n",
       "      <td>1</td>\n",
       "    </tr>\n",
       "    <tr>\n",
       "      <th>14</th>\n",
       "      <td>11566</td>\n",
       "      <td>1</td>\n",
       "      <td>3</td>\n",
       "      <td>1</td>\n",
       "      <td>1</td>\n",
       "      <td>1</td>\n",
       "      <td>5</td>\n",
       "      <td>2</td>\n",
       "      <td>1</td>\n",
       "    </tr>\n",
       "    <tr>\n",
       "      <th>15</th>\n",
       "      <td>11567</td>\n",
       "      <td>1</td>\n",
       "      <td>3</td>\n",
       "      <td>1</td>\n",
       "      <td>1</td>\n",
       "      <td>1</td>\n",
       "      <td>2</td>\n",
       "      <td>3</td>\n",
       "      <td>1</td>\n",
       "    </tr>\n",
       "    <tr>\n",
       "      <th>16</th>\n",
       "      <td>11568</td>\n",
       "      <td>1</td>\n",
       "      <td>3</td>\n",
       "      <td>1</td>\n",
       "      <td>1</td>\n",
       "      <td>1</td>\n",
       "      <td>2</td>\n",
       "      <td>3</td>\n",
       "      <td>2</td>\n",
       "    </tr>\n",
       "    <tr>\n",
       "      <th>17</th>\n",
       "      <td>11568</td>\n",
       "      <td>1</td>\n",
       "      <td>3</td>\n",
       "      <td>1</td>\n",
       "      <td>1</td>\n",
       "      <td>1</td>\n",
       "      <td>2</td>\n",
       "      <td>3</td>\n",
       "      <td>2</td>\n",
       "    </tr>\n",
       "    <tr>\n",
       "      <th>18</th>\n",
       "      <td>11569</td>\n",
       "      <td>1</td>\n",
       "      <td>3</td>\n",
       "      <td>1</td>\n",
       "      <td>1</td>\n",
       "      <td>1</td>\n",
       "      <td>5</td>\n",
       "      <td>3</td>\n",
       "      <td>1</td>\n",
       "    </tr>\n",
       "    <tr>\n",
       "      <th>19</th>\n",
       "      <td>11569</td>\n",
       "      <td>1</td>\n",
       "      <td>3</td>\n",
       "      <td>1</td>\n",
       "      <td>1</td>\n",
       "      <td>1</td>\n",
       "      <td>5</td>\n",
       "      <td>3</td>\n",
       "      <td>1</td>\n",
       "    </tr>\n",
       "  </tbody>\n",
       "</table>\n",
       "</div>"
      ],
      "text/plain": [
       "   id_hogar departamento tipo_vivienda material_paredes material_techo  \\\n",
       "0     11558            1             3                1              1   \n",
       "1     11559            1             3                1              1   \n",
       "2     11559            1             3                1              1   \n",
       "3     11560            1             3                1              1   \n",
       "4     11561            1             3                1              1   \n",
       "5     11562            1             5                1              1   \n",
       "6     11563            1             3                1              1   \n",
       "7     11564            1             3                1              1   \n",
       "8     11564            1             3                1              1   \n",
       "9     11564            1             3                1              1   \n",
       "10    11564            1             3                1              1   \n",
       "11    11564            1             3                1              1   \n",
       "12    11565            1             3                1              1   \n",
       "13    11566            1             3                1              1   \n",
       "14    11566            1             3                1              1   \n",
       "15    11567            1             3                1              1   \n",
       "16    11568            1             3                1              1   \n",
       "17    11568            1             3                1              1   \n",
       "18    11569            1             3                1              1   \n",
       "19    11569            1             3                1              1   \n",
       "\n",
       "   material_pisos tenencia_vivienda  nro_habitaciones acceso_streaming  \n",
       "0               1                 2                 3                1  \n",
       "1               1                 5                 3                1  \n",
       "2               1                 5                 3                1  \n",
       "3               1                 2                 2                1  \n",
       "4               1                 2                 5                1  \n",
       "5               1                 5                 1                2  \n",
       "6               1                 5                 2                2  \n",
       "7               1                 1                 4                1  \n",
       "8               1                 1                 4                1  \n",
       "9               1                 1                 4                1  \n",
       "10              1                 1                 4                1  \n",
       "11              1                 1                 4                1  \n",
       "12              1                 5                 2                1  \n",
       "13              1                 5                 2                1  \n",
       "14              1                 5                 2                1  \n",
       "15              1                 2                 3                1  \n",
       "16              1                 2                 3                2  \n",
       "17              1                 2                 3                2  \n",
       "18              1                 5                 3                1  \n",
       "19              1                 5                 3                1  "
      ]
     },
     "execution_count": 12,
     "metadata": {},
     "output_type": "execute_result"
    }
   ],
   "source": [
    "df_hogar.head(20)"
   ]
  },
  {
   "cell_type": "markdown",
   "id": "f3168feb",
   "metadata": {
    "id": "d934aba0"
   },
   "source": [
    "* Se debe llevar al dataset a una observación por hogar"
   ]
  },
  {
   "cell_type": "code",
   "execution_count": 13,
   "id": "0806a226",
   "metadata": {
    "id": "d75a2c1f",
    "outputId": "b7ef7118-ba08-4be5-f5b2-767b6baf2739"
   },
   "outputs": [
    {
     "data": {
      "text/plain": [
       "count     55056\n",
       "unique    22895\n",
       "top       15772\n",
       "freq         12\n",
       "Name: id_hogar, dtype: int64"
      ]
     },
     "execution_count": 13,
     "metadata": {},
     "output_type": "execute_result"
    }
   ],
   "source": [
    "df_hogar['id_hogar'].describe()"
   ]
  },
  {
   "cell_type": "code",
   "execution_count": 14,
   "id": "312c32d7",
   "metadata": {
    "id": "8b7b0bdb"
   },
   "outputs": [],
   "source": [
    "df_hogar = df_hogar.drop_duplicates() # podemos utilizar esta función ya que la única repetida sería id_hogar"
   ]
  },
  {
   "cell_type": "code",
   "execution_count": 15,
   "id": "16eb52d3",
   "metadata": {
    "id": "0e7d82e7",
    "outputId": "50695040-b8d3-40fd-bb96-5523870d4feb"
   },
   "outputs": [
    {
     "data": {
      "text/html": [
       "<div>\n",
       "<style scoped>\n",
       "    .dataframe tbody tr th:only-of-type {\n",
       "        vertical-align: middle;\n",
       "    }\n",
       "\n",
       "    .dataframe tbody tr th {\n",
       "        vertical-align: top;\n",
       "    }\n",
       "\n",
       "    .dataframe thead th {\n",
       "        text-align: right;\n",
       "    }\n",
       "</style>\n",
       "<table border=\"1\" class=\"dataframe\">\n",
       "  <thead>\n",
       "    <tr style=\"text-align: right;\">\n",
       "      <th></th>\n",
       "      <th>id_hogar</th>\n",
       "      <th>departamento</th>\n",
       "      <th>tipo_vivienda</th>\n",
       "      <th>material_paredes</th>\n",
       "      <th>material_techo</th>\n",
       "      <th>material_pisos</th>\n",
       "      <th>tenencia_vivienda</th>\n",
       "      <th>nro_habitaciones</th>\n",
       "      <th>acceso_streaming</th>\n",
       "    </tr>\n",
       "  </thead>\n",
       "  <tbody>\n",
       "    <tr>\n",
       "      <th>0</th>\n",
       "      <td>11558</td>\n",
       "      <td>1</td>\n",
       "      <td>3</td>\n",
       "      <td>1</td>\n",
       "      <td>1</td>\n",
       "      <td>1</td>\n",
       "      <td>2</td>\n",
       "      <td>3</td>\n",
       "      <td>1</td>\n",
       "    </tr>\n",
       "    <tr>\n",
       "      <th>1</th>\n",
       "      <td>11559</td>\n",
       "      <td>1</td>\n",
       "      <td>3</td>\n",
       "      <td>1</td>\n",
       "      <td>1</td>\n",
       "      <td>1</td>\n",
       "      <td>5</td>\n",
       "      <td>3</td>\n",
       "      <td>1</td>\n",
       "    </tr>\n",
       "    <tr>\n",
       "      <th>3</th>\n",
       "      <td>11560</td>\n",
       "      <td>1</td>\n",
       "      <td>3</td>\n",
       "      <td>1</td>\n",
       "      <td>1</td>\n",
       "      <td>1</td>\n",
       "      <td>2</td>\n",
       "      <td>2</td>\n",
       "      <td>1</td>\n",
       "    </tr>\n",
       "    <tr>\n",
       "      <th>4</th>\n",
       "      <td>11561</td>\n",
       "      <td>1</td>\n",
       "      <td>3</td>\n",
       "      <td>1</td>\n",
       "      <td>1</td>\n",
       "      <td>1</td>\n",
       "      <td>2</td>\n",
       "      <td>5</td>\n",
       "      <td>1</td>\n",
       "    </tr>\n",
       "    <tr>\n",
       "      <th>5</th>\n",
       "      <td>11562</td>\n",
       "      <td>1</td>\n",
       "      <td>5</td>\n",
       "      <td>1</td>\n",
       "      <td>1</td>\n",
       "      <td>1</td>\n",
       "      <td>5</td>\n",
       "      <td>1</td>\n",
       "      <td>2</td>\n",
       "    </tr>\n",
       "    <tr>\n",
       "      <th>6</th>\n",
       "      <td>11563</td>\n",
       "      <td>1</td>\n",
       "      <td>3</td>\n",
       "      <td>1</td>\n",
       "      <td>1</td>\n",
       "      <td>1</td>\n",
       "      <td>5</td>\n",
       "      <td>2</td>\n",
       "      <td>2</td>\n",
       "    </tr>\n",
       "    <tr>\n",
       "      <th>7</th>\n",
       "      <td>11564</td>\n",
       "      <td>1</td>\n",
       "      <td>3</td>\n",
       "      <td>1</td>\n",
       "      <td>1</td>\n",
       "      <td>1</td>\n",
       "      <td>1</td>\n",
       "      <td>4</td>\n",
       "      <td>1</td>\n",
       "    </tr>\n",
       "    <tr>\n",
       "      <th>12</th>\n",
       "      <td>11565</td>\n",
       "      <td>1</td>\n",
       "      <td>3</td>\n",
       "      <td>1</td>\n",
       "      <td>1</td>\n",
       "      <td>1</td>\n",
       "      <td>5</td>\n",
       "      <td>2</td>\n",
       "      <td>1</td>\n",
       "    </tr>\n",
       "    <tr>\n",
       "      <th>13</th>\n",
       "      <td>11566</td>\n",
       "      <td>1</td>\n",
       "      <td>3</td>\n",
       "      <td>1</td>\n",
       "      <td>1</td>\n",
       "      <td>1</td>\n",
       "      <td>5</td>\n",
       "      <td>2</td>\n",
       "      <td>1</td>\n",
       "    </tr>\n",
       "    <tr>\n",
       "      <th>15</th>\n",
       "      <td>11567</td>\n",
       "      <td>1</td>\n",
       "      <td>3</td>\n",
       "      <td>1</td>\n",
       "      <td>1</td>\n",
       "      <td>1</td>\n",
       "      <td>2</td>\n",
       "      <td>3</td>\n",
       "      <td>1</td>\n",
       "    </tr>\n",
       "    <tr>\n",
       "      <th>16</th>\n",
       "      <td>11568</td>\n",
       "      <td>1</td>\n",
       "      <td>3</td>\n",
       "      <td>1</td>\n",
       "      <td>1</td>\n",
       "      <td>1</td>\n",
       "      <td>2</td>\n",
       "      <td>3</td>\n",
       "      <td>2</td>\n",
       "    </tr>\n",
       "    <tr>\n",
       "      <th>18</th>\n",
       "      <td>11569</td>\n",
       "      <td>1</td>\n",
       "      <td>3</td>\n",
       "      <td>1</td>\n",
       "      <td>1</td>\n",
       "      <td>1</td>\n",
       "      <td>5</td>\n",
       "      <td>3</td>\n",
       "      <td>1</td>\n",
       "    </tr>\n",
       "    <tr>\n",
       "      <th>20</th>\n",
       "      <td>11570</td>\n",
       "      <td>1</td>\n",
       "      <td>3</td>\n",
       "      <td>1</td>\n",
       "      <td>1</td>\n",
       "      <td>1</td>\n",
       "      <td>2</td>\n",
       "      <td>3</td>\n",
       "      <td>2</td>\n",
       "    </tr>\n",
       "    <tr>\n",
       "      <th>21</th>\n",
       "      <td>11571</td>\n",
       "      <td>1</td>\n",
       "      <td>3</td>\n",
       "      <td>1</td>\n",
       "      <td>1</td>\n",
       "      <td>1</td>\n",
       "      <td>5</td>\n",
       "      <td>3</td>\n",
       "      <td>1</td>\n",
       "    </tr>\n",
       "    <tr>\n",
       "      <th>22</th>\n",
       "      <td>11572</td>\n",
       "      <td>1</td>\n",
       "      <td>3</td>\n",
       "      <td>1</td>\n",
       "      <td>1</td>\n",
       "      <td>1</td>\n",
       "      <td>5</td>\n",
       "      <td>2</td>\n",
       "      <td>1</td>\n",
       "    </tr>\n",
       "    <tr>\n",
       "      <th>24</th>\n",
       "      <td>11573</td>\n",
       "      <td>1</td>\n",
       "      <td>3</td>\n",
       "      <td>1</td>\n",
       "      <td>1</td>\n",
       "      <td>1</td>\n",
       "      <td>1</td>\n",
       "      <td>3</td>\n",
       "      <td>1</td>\n",
       "    </tr>\n",
       "    <tr>\n",
       "      <th>26</th>\n",
       "      <td>11574</td>\n",
       "      <td>1</td>\n",
       "      <td>3</td>\n",
       "      <td>1</td>\n",
       "      <td>1</td>\n",
       "      <td>1</td>\n",
       "      <td>2</td>\n",
       "      <td>3</td>\n",
       "      <td>2</td>\n",
       "    </tr>\n",
       "    <tr>\n",
       "      <th>27</th>\n",
       "      <td>11575</td>\n",
       "      <td>1</td>\n",
       "      <td>3</td>\n",
       "      <td>1</td>\n",
       "      <td>1</td>\n",
       "      <td>1</td>\n",
       "      <td>5</td>\n",
       "      <td>4</td>\n",
       "      <td>1</td>\n",
       "    </tr>\n",
       "    <tr>\n",
       "      <th>29</th>\n",
       "      <td>11576</td>\n",
       "      <td>1</td>\n",
       "      <td>2</td>\n",
       "      <td>1</td>\n",
       "      <td>1</td>\n",
       "      <td>1</td>\n",
       "      <td>5</td>\n",
       "      <td>3</td>\n",
       "      <td>1</td>\n",
       "    </tr>\n",
       "    <tr>\n",
       "      <th>35</th>\n",
       "      <td>11577</td>\n",
       "      <td>1</td>\n",
       "      <td>2</td>\n",
       "      <td>1</td>\n",
       "      <td>1</td>\n",
       "      <td>1</td>\n",
       "      <td>8</td>\n",
       "      <td>5</td>\n",
       "      <td>2</td>\n",
       "    </tr>\n",
       "  </tbody>\n",
       "</table>\n",
       "</div>"
      ],
      "text/plain": [
       "   id_hogar departamento tipo_vivienda material_paredes material_techo  \\\n",
       "0     11558            1             3                1              1   \n",
       "1     11559            1             3                1              1   \n",
       "3     11560            1             3                1              1   \n",
       "4     11561            1             3                1              1   \n",
       "5     11562            1             5                1              1   \n",
       "6     11563            1             3                1              1   \n",
       "7     11564            1             3                1              1   \n",
       "12    11565            1             3                1              1   \n",
       "13    11566            1             3                1              1   \n",
       "15    11567            1             3                1              1   \n",
       "16    11568            1             3                1              1   \n",
       "18    11569            1             3                1              1   \n",
       "20    11570            1             3                1              1   \n",
       "21    11571            1             3                1              1   \n",
       "22    11572            1             3                1              1   \n",
       "24    11573            1             3                1              1   \n",
       "26    11574            1             3                1              1   \n",
       "27    11575            1             3                1              1   \n",
       "29    11576            1             2                1              1   \n",
       "35    11577            1             2                1              1   \n",
       "\n",
       "   material_pisos tenencia_vivienda  nro_habitaciones acceso_streaming  \n",
       "0               1                 2                 3                1  \n",
       "1               1                 5                 3                1  \n",
       "3               1                 2                 2                1  \n",
       "4               1                 2                 5                1  \n",
       "5               1                 5                 1                2  \n",
       "6               1                 5                 2                2  \n",
       "7               1                 1                 4                1  \n",
       "12              1                 5                 2                1  \n",
       "13              1                 5                 2                1  \n",
       "15              1                 2                 3                1  \n",
       "16              1                 2                 3                2  \n",
       "18              1                 5                 3                1  \n",
       "20              1                 2                 3                2  \n",
       "21              1                 5                 3                1  \n",
       "22              1                 5                 2                1  \n",
       "24              1                 1                 3                1  \n",
       "26              1                 2                 3                2  \n",
       "27              1                 5                 4                1  \n",
       "29              1                 5                 3                1  \n",
       "35              1                 8                 5                2  "
      ]
     },
     "execution_count": 15,
     "metadata": {},
     "output_type": "execute_result"
    }
   ],
   "source": [
    "df_hogar.head(20)"
   ]
  },
  {
   "cell_type": "code",
   "execution_count": 16,
   "id": "a491c33d",
   "metadata": {
    "id": "8edacdf9",
    "outputId": "73eb6818-fc9e-42a6-bdc0-0797558bd447"
   },
   "outputs": [
    {
     "data": {
      "text/plain": [
       "count     22895\n",
       "unique    22895\n",
       "top       11558\n",
       "freq          1\n",
       "Name: id_hogar, dtype: int64"
      ]
     },
     "execution_count": 16,
     "metadata": {},
     "output_type": "execute_result"
    }
   ],
   "source": [
    "# verificamos que haya tantos valores únicos como observaciones\n",
    "df_hogar['id_hogar'].describe()"
   ]
  },
  {
   "cell_type": "code",
   "execution_count": 17,
   "id": "91b9c093",
   "metadata": {
    "id": "dda3b798"
   },
   "outputs": [],
   "source": [
    "# descartamos id_hogar (no es de interés a los efectos del aprendizaje)\n",
    "df_hogar = df_hogar.drop(['id_hogar'], axis=1)"
   ]
  },
  {
   "cell_type": "markdown",
   "id": "a3069214",
   "metadata": {
    "id": "947b5857"
   },
   "source": [
    "## Análisis estadístico descriptivo y transformaciones de variables"
   ]
  },
  {
   "cell_type": "markdown",
   "id": "75f85b21",
   "metadata": {
    "id": "38e594d7"
   },
   "source": [
    "Estructura del dataset"
   ]
  },
  {
   "cell_type": "code",
   "execution_count": 18,
   "id": "b26823ab",
   "metadata": {
    "id": "1c2f9a26",
    "outputId": "d23ab9e8-fa09-4a4c-ef97-ef82fc321956"
   },
   "outputs": [
    {
     "name": "stdout",
     "output_type": "stream",
     "text": [
      "<class 'pandas.core.frame.DataFrame'>\n",
      "Int64Index: 22895 entries, 0 to 55053\n",
      "Data columns (total 8 columns):\n",
      " #   Column             Non-Null Count  Dtype   \n",
      "---  ------             --------------  -----   \n",
      " 0   departamento       22895 non-null  category\n",
      " 1   tipo_vivienda      22895 non-null  category\n",
      " 2   material_paredes   22895 non-null  category\n",
      " 3   material_techo     22895 non-null  category\n",
      " 4   material_pisos     22895 non-null  category\n",
      " 5   tenencia_vivienda  22895 non-null  category\n",
      " 6   nro_habitaciones   22895 non-null  int64   \n",
      " 7   acceso_streaming   22895 non-null  category\n",
      "dtypes: category(7), int64(1)\n",
      "memory usage: 516.3 KB\n"
     ]
    }
   ],
   "source": [
    "df_hogar.info()"
   ]
  },
  {
   "cell_type": "code",
   "execution_count": 19,
   "id": "3922429b",
   "metadata": {
    "id": "5fff29c8",
    "outputId": "6331a309-ad6e-4a56-e38b-40472fc89c60"
   },
   "outputs": [
    {
     "data": {
      "text/html": [
       "<div>\n",
       "<style scoped>\n",
       "    .dataframe tbody tr th:only-of-type {\n",
       "        vertical-align: middle;\n",
       "    }\n",
       "\n",
       "    .dataframe tbody tr th {\n",
       "        vertical-align: top;\n",
       "    }\n",
       "\n",
       "    .dataframe thead th {\n",
       "        text-align: right;\n",
       "    }\n",
       "</style>\n",
       "<table border=\"1\" class=\"dataframe\">\n",
       "  <thead>\n",
       "    <tr style=\"text-align: right;\">\n",
       "      <th></th>\n",
       "      <th>nro_habitaciones</th>\n",
       "    </tr>\n",
       "  </thead>\n",
       "  <tbody>\n",
       "    <tr>\n",
       "      <th>count</th>\n",
       "      <td>22895.000000</td>\n",
       "    </tr>\n",
       "    <tr>\n",
       "      <th>mean</th>\n",
       "      <td>3.395938</td>\n",
       "    </tr>\n",
       "    <tr>\n",
       "      <th>std</th>\n",
       "      <td>1.175145</td>\n",
       "    </tr>\n",
       "    <tr>\n",
       "      <th>min</th>\n",
       "      <td>1.000000</td>\n",
       "    </tr>\n",
       "    <tr>\n",
       "      <th>25%</th>\n",
       "      <td>3.000000</td>\n",
       "    </tr>\n",
       "    <tr>\n",
       "      <th>50%</th>\n",
       "      <td>3.000000</td>\n",
       "    </tr>\n",
       "    <tr>\n",
       "      <th>75%</th>\n",
       "      <td>4.000000</td>\n",
       "    </tr>\n",
       "    <tr>\n",
       "      <th>max</th>\n",
       "      <td>14.000000</td>\n",
       "    </tr>\n",
       "  </tbody>\n",
       "</table>\n",
       "</div>"
      ],
      "text/plain": [
       "       nro_habitaciones\n",
       "count      22895.000000\n",
       "mean           3.395938\n",
       "std            1.175145\n",
       "min            1.000000\n",
       "25%            3.000000\n",
       "50%            3.000000\n",
       "75%            4.000000\n",
       "max           14.000000"
      ]
     },
     "execution_count": 19,
     "metadata": {},
     "output_type": "execute_result"
    }
   ],
   "source": [
    "df_hogar.describe()"
   ]
  },
  {
   "cell_type": "code",
   "execution_count": 20,
   "id": "4a07d29e",
   "metadata": {
    "id": "2c1c924e",
    "outputId": "43d8bf3b-4a76-47a7-8df7-27c66b7f2e65"
   },
   "outputs": [
    {
     "data": {
      "text/html": [
       "<div>\n",
       "<style scoped>\n",
       "    .dataframe tbody tr th:only-of-type {\n",
       "        vertical-align: middle;\n",
       "    }\n",
       "\n",
       "    .dataframe tbody tr th {\n",
       "        vertical-align: top;\n",
       "    }\n",
       "\n",
       "    .dataframe thead th {\n",
       "        text-align: right;\n",
       "    }\n",
       "</style>\n",
       "<table border=\"1\" class=\"dataframe\">\n",
       "  <thead>\n",
       "    <tr style=\"text-align: right;\">\n",
       "      <th></th>\n",
       "      <th>departamento</th>\n",
       "      <th>tipo_vivienda</th>\n",
       "      <th>material_paredes</th>\n",
       "      <th>material_techo</th>\n",
       "      <th>material_pisos</th>\n",
       "      <th>tenencia_vivienda</th>\n",
       "      <th>nro_habitaciones</th>\n",
       "      <th>acceso_streaming</th>\n",
       "    </tr>\n",
       "  </thead>\n",
       "  <tbody>\n",
       "    <tr>\n",
       "      <th>count</th>\n",
       "      <td>22895</td>\n",
       "      <td>22895</td>\n",
       "      <td>22895</td>\n",
       "      <td>22895</td>\n",
       "      <td>22895</td>\n",
       "      <td>22895</td>\n",
       "      <td>22895</td>\n",
       "      <td>22895</td>\n",
       "    </tr>\n",
       "    <tr>\n",
       "      <th>unique</th>\n",
       "      <td>1</td>\n",
       "      <td>1</td>\n",
       "      <td>1</td>\n",
       "      <td>1</td>\n",
       "      <td>1</td>\n",
       "      <td>1</td>\n",
       "      <td>1</td>\n",
       "      <td>1</td>\n",
       "    </tr>\n",
       "    <tr>\n",
       "      <th>top</th>\n",
       "      <td>False</td>\n",
       "      <td>False</td>\n",
       "      <td>False</td>\n",
       "      <td>False</td>\n",
       "      <td>False</td>\n",
       "      <td>False</td>\n",
       "      <td>False</td>\n",
       "      <td>False</td>\n",
       "    </tr>\n",
       "    <tr>\n",
       "      <th>freq</th>\n",
       "      <td>22895</td>\n",
       "      <td>22895</td>\n",
       "      <td>22895</td>\n",
       "      <td>22895</td>\n",
       "      <td>22895</td>\n",
       "      <td>22895</td>\n",
       "      <td>22895</td>\n",
       "      <td>22895</td>\n",
       "    </tr>\n",
       "  </tbody>\n",
       "</table>\n",
       "</div>"
      ],
      "text/plain": [
       "       departamento tipo_vivienda material_paredes material_techo  \\\n",
       "count         22895         22895            22895          22895   \n",
       "unique            1             1                1              1   \n",
       "top           False         False            False          False   \n",
       "freq          22895         22895            22895          22895   \n",
       "\n",
       "       material_pisos tenencia_vivienda nro_habitaciones acceso_streaming  \n",
       "count           22895             22895            22895            22895  \n",
       "unique              1                 1                1                1  \n",
       "top             False             False            False            False  \n",
       "freq            22895             22895            22895            22895  "
      ]
     },
     "execution_count": 20,
     "metadata": {},
     "output_type": "execute_result"
    }
   ],
   "source": [
    "pd.isnull(df_hogar).describe()"
   ]
  },
  {
   "cell_type": "markdown",
   "id": "6737e50c",
   "metadata": {
    "id": "46ca4542"
   },
   "source": [
    "* Variable de respuesta\n",
    "\n",
    "    - d21_21 - Acceso a servicio de streaming: 1 = Sí / 2 = No\n",
    "    - Una alternativa para resolver nuestro problema puede ser transformar variables categóricas en booleanas, siempre que la variable tenga dos categorías o que se quiera reducir la cantidad de categorías a dos (y que esto sea adecuado al objetivo del problema).\n",
    "    - Optamos por mantener la variable original y crear una nueva variable auxiliar transformada."
   ]
  },
  {
   "cell_type": "code",
   "execution_count": 21,
   "id": "db0a14dc",
   "metadata": {
    "id": "f4100b07",
    "outputId": "c2d6c227-547f-4ee7-f7d1-d6d800a256f4"
   },
   "outputs": [
    {
     "data": {
      "text/plain": [
       "1     7641\n",
       "2    15254\n",
       "Name: acceso_streaming, dtype: int64"
      ]
     },
     "execution_count": 21,
     "metadata": {},
     "output_type": "execute_result"
    }
   ],
   "source": [
    "#Número de observaciones por clase\n",
    "df_hogar.acceso_streaming.value_counts().sort_index()"
   ]
  },
  {
   "cell_type": "code",
   "execution_count": 22,
   "id": "bc51b077",
   "metadata": {
    "id": "bfff45b5",
    "outputId": "34df78c2-0239-4bd3-c64a-274045f2abac"
   },
   "outputs": [
    {
     "data": {
      "text/plain": [
       "count     22895\n",
       "unique        2\n",
       "top       False\n",
       "freq      15254\n",
       "Name: aux_acceso_streaming, dtype: object"
      ]
     },
     "execution_count": 22,
     "metadata": {},
     "output_type": "execute_result"
    }
   ],
   "source": [
    "df_hogar['aux_acceso_streaming'] =  np.where(df_hogar['acceso_streaming']== 1, True, False)\n",
    "df_hogar['aux_acceso_streaming'].describe()"
   ]
  },
  {
   "cell_type": "code",
   "execution_count": 23,
   "id": "0b505621",
   "metadata": {
    "id": "8d11874a",
    "outputId": "0830ee57-cf44-48e6-ef4d-e213b87e7542"
   },
   "outputs": [
    {
     "data": {
      "text/html": [
       "<div>\n",
       "<style scoped>\n",
       "    .dataframe tbody tr th:only-of-type {\n",
       "        vertical-align: middle;\n",
       "    }\n",
       "\n",
       "    .dataframe tbody tr th {\n",
       "        vertical-align: top;\n",
       "    }\n",
       "\n",
       "    .dataframe thead th {\n",
       "        text-align: right;\n",
       "    }\n",
       "</style>\n",
       "<table border=\"1\" class=\"dataframe\">\n",
       "  <thead>\n",
       "    <tr style=\"text-align: right;\">\n",
       "      <th></th>\n",
       "      <th>departamento</th>\n",
       "      <th>tipo_vivienda</th>\n",
       "      <th>material_paredes</th>\n",
       "      <th>material_techo</th>\n",
       "      <th>material_pisos</th>\n",
       "      <th>tenencia_vivienda</th>\n",
       "      <th>nro_habitaciones</th>\n",
       "      <th>acceso_streaming</th>\n",
       "      <th>aux_acceso_streaming</th>\n",
       "    </tr>\n",
       "  </thead>\n",
       "  <tbody>\n",
       "    <tr>\n",
       "      <th>0</th>\n",
       "      <td>1</td>\n",
       "      <td>3</td>\n",
       "      <td>1</td>\n",
       "      <td>1</td>\n",
       "      <td>1</td>\n",
       "      <td>2</td>\n",
       "      <td>3</td>\n",
       "      <td>1</td>\n",
       "      <td>True</td>\n",
       "    </tr>\n",
       "    <tr>\n",
       "      <th>1</th>\n",
       "      <td>1</td>\n",
       "      <td>3</td>\n",
       "      <td>1</td>\n",
       "      <td>1</td>\n",
       "      <td>1</td>\n",
       "      <td>5</td>\n",
       "      <td>3</td>\n",
       "      <td>1</td>\n",
       "      <td>True</td>\n",
       "    </tr>\n",
       "    <tr>\n",
       "      <th>3</th>\n",
       "      <td>1</td>\n",
       "      <td>3</td>\n",
       "      <td>1</td>\n",
       "      <td>1</td>\n",
       "      <td>1</td>\n",
       "      <td>2</td>\n",
       "      <td>2</td>\n",
       "      <td>1</td>\n",
       "      <td>True</td>\n",
       "    </tr>\n",
       "    <tr>\n",
       "      <th>4</th>\n",
       "      <td>1</td>\n",
       "      <td>3</td>\n",
       "      <td>1</td>\n",
       "      <td>1</td>\n",
       "      <td>1</td>\n",
       "      <td>2</td>\n",
       "      <td>5</td>\n",
       "      <td>1</td>\n",
       "      <td>True</td>\n",
       "    </tr>\n",
       "    <tr>\n",
       "      <th>5</th>\n",
       "      <td>1</td>\n",
       "      <td>5</td>\n",
       "      <td>1</td>\n",
       "      <td>1</td>\n",
       "      <td>1</td>\n",
       "      <td>5</td>\n",
       "      <td>1</td>\n",
       "      <td>2</td>\n",
       "      <td>False</td>\n",
       "    </tr>\n",
       "  </tbody>\n",
       "</table>\n",
       "</div>"
      ],
      "text/plain": [
       "  departamento tipo_vivienda material_paredes material_techo material_pisos  \\\n",
       "0            1             3                1              1              1   \n",
       "1            1             3                1              1              1   \n",
       "3            1             3                1              1              1   \n",
       "4            1             3                1              1              1   \n",
       "5            1             5                1              1              1   \n",
       "\n",
       "  tenencia_vivienda  nro_habitaciones acceso_streaming  aux_acceso_streaming  \n",
       "0                 2                 3                1                  True  \n",
       "1                 5                 3                1                  True  \n",
       "3                 2                 2                1                  True  \n",
       "4                 2                 5                1                  True  \n",
       "5                 5                 1                2                 False  "
      ]
     },
     "execution_count": 23,
     "metadata": {},
     "output_type": "execute_result"
    }
   ],
   "source": [
    "df_hogar.head()"
   ]
  },
  {
   "cell_type": "markdown",
   "id": "3ba75d8a",
   "metadata": {
    "id": "feff4613"
   },
   "source": [
    "**Tarea 3.2: completamos AED; evaluar y llegado el caso implementar transformaciones de variables independientes**\n",
    "\n",
    "Respuesta 2.2: insertar celdas a continuación"
   ]
  },
  {
   "cell_type": "markdown",
   "id": "5489f9e3",
   "metadata": {
    "id": "7ded765e"
   },
   "source": [
    "## Partición del dataset: Train y Test"
   ]
  },
  {
   "cell_type": "code",
   "execution_count": 24,
   "id": "9e7f9c29",
   "metadata": {
    "id": "409dd15e",
    "outputId": "d482602b-b849-43a7-e663-647b68c5da72"
   },
   "outputs": [
    {
     "data": {
      "text/plain": [
       "0         True\n",
       "1         True\n",
       "3         True\n",
       "4         True\n",
       "5        False\n",
       "         ...  \n",
       "55046    False\n",
       "55047    False\n",
       "55050    False\n",
       "55051    False\n",
       "55053    False\n",
       "Name: aux_acceso_streaming, Length: 22895, dtype: bool"
      ]
     },
     "execution_count": 24,
     "metadata": {},
     "output_type": "execute_result"
    }
   ],
   "source": [
    "y = df_hogar['aux_acceso_streaming']\n",
    "y"
   ]
  },
  {
   "cell_type": "code",
   "execution_count": 25,
   "id": "c6a5a794",
   "metadata": {
    "id": "bbda19b1",
    "outputId": "3c5caa63-2c08-407e-ea04-c90dec62a6f0"
   },
   "outputs": [
    {
     "data": {
      "text/html": [
       "<div>\n",
       "<style scoped>\n",
       "    .dataframe tbody tr th:only-of-type {\n",
       "        vertical-align: middle;\n",
       "    }\n",
       "\n",
       "    .dataframe tbody tr th {\n",
       "        vertical-align: top;\n",
       "    }\n",
       "\n",
       "    .dataframe thead th {\n",
       "        text-align: right;\n",
       "    }\n",
       "</style>\n",
       "<table border=\"1\" class=\"dataframe\">\n",
       "  <thead>\n",
       "    <tr style=\"text-align: right;\">\n",
       "      <th></th>\n",
       "      <th>departamento</th>\n",
       "      <th>material_paredes</th>\n",
       "      <th>material_pisos</th>\n",
       "      <th>material_techo</th>\n",
       "      <th>nro_habitaciones</th>\n",
       "      <th>tenencia_vivienda</th>\n",
       "      <th>tipo_vivienda</th>\n",
       "    </tr>\n",
       "  </thead>\n",
       "  <tbody>\n",
       "    <tr>\n",
       "      <th>0</th>\n",
       "      <td>1</td>\n",
       "      <td>1</td>\n",
       "      <td>1</td>\n",
       "      <td>1</td>\n",
       "      <td>3</td>\n",
       "      <td>2</td>\n",
       "      <td>3</td>\n",
       "    </tr>\n",
       "    <tr>\n",
       "      <th>1</th>\n",
       "      <td>1</td>\n",
       "      <td>1</td>\n",
       "      <td>1</td>\n",
       "      <td>1</td>\n",
       "      <td>3</td>\n",
       "      <td>5</td>\n",
       "      <td>3</td>\n",
       "    </tr>\n",
       "    <tr>\n",
       "      <th>3</th>\n",
       "      <td>1</td>\n",
       "      <td>1</td>\n",
       "      <td>1</td>\n",
       "      <td>1</td>\n",
       "      <td>2</td>\n",
       "      <td>2</td>\n",
       "      <td>3</td>\n",
       "    </tr>\n",
       "    <tr>\n",
       "      <th>4</th>\n",
       "      <td>1</td>\n",
       "      <td>1</td>\n",
       "      <td>1</td>\n",
       "      <td>1</td>\n",
       "      <td>5</td>\n",
       "      <td>2</td>\n",
       "      <td>3</td>\n",
       "    </tr>\n",
       "    <tr>\n",
       "      <th>5</th>\n",
       "      <td>1</td>\n",
       "      <td>1</td>\n",
       "      <td>1</td>\n",
       "      <td>1</td>\n",
       "      <td>1</td>\n",
       "      <td>5</td>\n",
       "      <td>5</td>\n",
       "    </tr>\n",
       "    <tr>\n",
       "      <th>...</th>\n",
       "      <td>...</td>\n",
       "      <td>...</td>\n",
       "      <td>...</td>\n",
       "      <td>...</td>\n",
       "      <td>...</td>\n",
       "      <td>...</td>\n",
       "      <td>...</td>\n",
       "    </tr>\n",
       "    <tr>\n",
       "      <th>55046</th>\n",
       "      <td>19</td>\n",
       "      <td>1</td>\n",
       "      <td>3</td>\n",
       "      <td>3</td>\n",
       "      <td>2</td>\n",
       "      <td>5</td>\n",
       "      <td>1</td>\n",
       "    </tr>\n",
       "    <tr>\n",
       "      <th>55047</th>\n",
       "      <td>19</td>\n",
       "      <td>1</td>\n",
       "      <td>1</td>\n",
       "      <td>3</td>\n",
       "      <td>2</td>\n",
       "      <td>8</td>\n",
       "      <td>1</td>\n",
       "    </tr>\n",
       "    <tr>\n",
       "      <th>55050</th>\n",
       "      <td>19</td>\n",
       "      <td>1</td>\n",
       "      <td>3</td>\n",
       "      <td>5</td>\n",
       "      <td>2</td>\n",
       "      <td>2</td>\n",
       "      <td>1</td>\n",
       "    </tr>\n",
       "    <tr>\n",
       "      <th>55051</th>\n",
       "      <td>19</td>\n",
       "      <td>1</td>\n",
       "      <td>1</td>\n",
       "      <td>3</td>\n",
       "      <td>4</td>\n",
       "      <td>2</td>\n",
       "      <td>1</td>\n",
       "    </tr>\n",
       "    <tr>\n",
       "      <th>55053</th>\n",
       "      <td>19</td>\n",
       "      <td>1</td>\n",
       "      <td>1</td>\n",
       "      <td>2</td>\n",
       "      <td>2</td>\n",
       "      <td>2</td>\n",
       "      <td>1</td>\n",
       "    </tr>\n",
       "  </tbody>\n",
       "</table>\n",
       "<p>22895 rows × 7 columns</p>\n",
       "</div>"
      ],
      "text/plain": [
       "      departamento material_paredes material_pisos material_techo  \\\n",
       "0                1                1              1              1   \n",
       "1                1                1              1              1   \n",
       "3                1                1              1              1   \n",
       "4                1                1              1              1   \n",
       "5                1                1              1              1   \n",
       "...            ...              ...            ...            ...   \n",
       "55046           19                1              3              3   \n",
       "55047           19                1              1              3   \n",
       "55050           19                1              3              5   \n",
       "55051           19                1              1              3   \n",
       "55053           19                1              1              2   \n",
       "\n",
       "       nro_habitaciones tenencia_vivienda tipo_vivienda  \n",
       "0                     3                 2             3  \n",
       "1                     3                 5             3  \n",
       "3                     2                 2             3  \n",
       "4                     5                 2             3  \n",
       "5                     1                 5             5  \n",
       "...                 ...               ...           ...  \n",
       "55046                 2                 5             1  \n",
       "55047                 2                 8             1  \n",
       "55050                 2                 2             1  \n",
       "55051                 4                 2             1  \n",
       "55053                 2                 2             1  \n",
       "\n",
       "[22895 rows x 7 columns]"
      ]
     },
     "execution_count": 25,
     "metadata": {},
     "output_type": "execute_result"
    }
   ],
   "source": [
    "x = df_hogar[df_hogar.columns.difference(['acceso_streaming', 'aux_acceso_streaming'])]\n",
    "x"
   ]
  },
  {
   "cell_type": "code",
   "execution_count": 26,
   "id": "3d2546b0",
   "metadata": {
    "id": "ec3dd9fc"
   },
   "outputs": [],
   "source": [
    "X_train, X_test, y_train, y_test = train_test_split(x, y,\n",
    "                                   random_state=104, \n",
    "                                   test_size=0.20, \n",
    "                                   shuffle=True)"
   ]
  },
  {
   "cell_type": "code",
   "execution_count": 27,
   "id": "b1426220",
   "metadata": {
    "id": "8b2d14df",
    "outputId": "a626159f-1d1f-4acc-cda5-ca1dfc0864e1"
   },
   "outputs": [
    {
     "name": "stdout",
     "output_type": "stream",
     "text": [
      "Cantidad de observaciones total: 22895\n",
      "Cantidad de observaciones en train: 18316\n",
      "Cantidad de observaciones en test: 4579\n"
     ]
    }
   ],
   "source": [
    "print(\"Cantidad de observaciones total: {0}\".format(len(x)))\n",
    "print(\"Cantidad de observaciones en train: {0}\".format(len(X_train)))\n",
    "print(\"Cantidad de observaciones en test: {0}\".format(len(X_test)))"
   ]
  },
  {
   "cell_type": "markdown",
   "id": "6876b7eb",
   "metadata": {
    "id": "212f97f6"
   },
   "source": [
    "## Modelos\n",
    "Ahora queremos entrenar algunos modelos en el conjunto de entrenamiento y evaluar su rendimiento en el conjunto de prueba. "
   ]
  },
  {
   "cell_type": "markdown",
   "id": "5973bb33",
   "metadata": {
    "id": "737623cf"
   },
   "source": [
    "### 1 - Naive Bayes"
   ]
  },
  {
   "cell_type": "code",
   "execution_count": 28,
   "id": "bb3c24b4",
   "metadata": {
    "id": "c52012cb"
   },
   "outputs": [],
   "source": [
    "from sklearn.naive_bayes import MultinomialNB\n",
    "\n",
    "#Defino el modelo\n",
    "modelo_naive_bayes = MultinomialNB()\n",
    "\n",
    "#Entreno el modelo\n",
    "modelo_naive_bayes.fit(X_train, y_train)\n",
    "\n",
    "#Predicciones del modelo\n",
    "y_pred_NB = modelo_naive_bayes.predict(X_test)"
   ]
  },
  {
   "cell_type": "markdown",
   "id": "3fb2625d",
   "metadata": {
    "id": "c4af21a2"
   },
   "source": [
    "### 2- Regresión logística"
   ]
  },
  {
   "cell_type": "code",
   "execution_count": 29,
   "id": "71a34749",
   "metadata": {
    "id": "58701a3d"
   },
   "outputs": [],
   "source": [
    "from sklearn.linear_model import LogisticRegression\n",
    "\n",
    "#Defino el modelo\n",
    "regresion_logistica = LogisticRegression()\n",
    "\n",
    "#Entreno el modelo\n",
    "regresion_logistica.fit(X_train, y_train)\n",
    "\n",
    "#Predicciones del modelo\n",
    "y_pred_RL = regresion_logistica.predict(X_test)"
   ]
  },
  {
   "cell_type": "markdown",
   "id": "ada8b345",
   "metadata": {
    "id": "039d07fe"
   },
   "source": [
    "## Métricas\n",
    "\n",
    "### Análisis de los resultados\n",
    "Verifiquemos como es el modelo utilizando las métricas de los problemas de clasificación, para ello vamos a comenzar obteniendo la matriz de confusión. Para esto importamos del módulo scikitlearn.metrics, confusion_matrix, y aplicamos esta instrucción junto a los datos de prueba y los obtenidos en la predicción realizada previamente. \n",
    "\n",
    "### 1- Naive Bayes"
   ]
  },
  {
   "cell_type": "code",
   "execution_count": 30,
   "id": "6efcba34",
   "metadata": {
    "id": "b964cc78",
    "outputId": "bf867a6f-d8e6-43a1-c243-ae6dea9e692b"
   },
   "outputs": [
    {
     "data": {
      "text/plain": [
       "0.3293295479362306"
      ]
     },
     "execution_count": 30,
     "metadata": {},
     "output_type": "execute_result"
    }
   ],
   "source": [
    "#Error de clasificación\n",
    "(y_pred_NB != y_test).sum()/y_test.shape[0]"
   ]
  },
  {
   "cell_type": "code",
   "execution_count": 31,
   "id": "003eb343",
   "metadata": {},
   "outputs": [
    {
     "name": "stdout",
     "output_type": "stream",
     "text": [
      "Matriz de Confusión:\n",
      "[[2091  927]\n",
      " [ 581  980]]\n"
     ]
    }
   ],
   "source": [
    "#Calculo la matriz de Confusión\n",
    "matriz_NB = confusion_matrix(y_test, y_pred_NB)\n",
    "print('Matriz de Confusión:')\n",
    "print(matriz_NB)"
   ]
  },
  {
   "cell_type": "code",
   "execution_count": 32,
   "id": "ce06be02",
   "metadata": {
    "id": "3c0f0a97",
    "outputId": "a3f7223c-9df2-4e3c-9f37-1864992e4a0f"
   },
   "outputs": [
    {
     "data": {
      "text/plain": [
       "0.3293295479362306"
      ]
     },
     "execution_count": 32,
     "metadata": {},
     "output_type": "execute_result"
    }
   ],
   "source": [
    "(matriz_NB[0,1] + matriz_NB[1,0]) / (matriz_NB[0,0] + matriz_NB[0,1] + matriz_NB[1,0] + matriz_NB[1,1])"
   ]
  },
  {
   "cell_type": "code",
   "execution_count": 33,
   "id": "a56d73f1",
   "metadata": {},
   "outputs": [
    {
     "name": "stdout",
     "output_type": "stream",
     "text": [
      "Precisión del modelo: 0.514\n"
     ]
    }
   ],
   "source": [
    "#Calculo la precisión del modelo\n",
    "precision_NB = precision_score(y_test, y_pred_NB)\n",
    "print('Precisión del modelo: %.3f' % precision_NB)"
   ]
  },
  {
   "cell_type": "code",
   "execution_count": 34,
   "id": "24cd0a6f",
   "metadata": {},
   "outputs": [
    {
     "name": "stdout",
     "output_type": "stream",
     "text": [
      "Accuracy del modelo: 0.671\n"
     ]
    }
   ],
   "source": [
    "#Calculo Accuracy del modelo\n",
    "accuracy_NB = accuracy_score(y_test, y_pred_NB)\n",
    "print('Accuracy del modelo: %.3f' % accuracy_NB)"
   ]
  },
  {
   "cell_type": "code",
   "execution_count": 35,
   "id": "18597c7c",
   "metadata": {},
   "outputs": [
    {
     "name": "stdout",
     "output_type": "stream",
     "text": [
      "Recall del modelo: 0.628\n"
     ]
    }
   ],
   "source": [
    "#Calculo Recall del modelo\n",
    "recall_NB = recall_score(y_test, y_pred_NB)\n",
    "print('Recall del modelo: %.3f' % recall_NB)"
   ]
  },
  {
   "cell_type": "code",
   "execution_count": 36,
   "id": "1c19af51",
   "metadata": {},
   "outputs": [
    {
     "name": "stdout",
     "output_type": "stream",
     "text": [
      "F1 del modelo: 0.565\n"
     ]
    }
   ],
   "source": [
    "#Calculo F1 score del modelo\n",
    "f1_NB = f1_score(y_test, y_pred_NB)\n",
    "print('F1 del modelo: %.3f' % f1_NB)"
   ]
  },
  {
   "cell_type": "markdown",
   "id": "5aa47acb",
   "metadata": {},
   "source": [
    "### 2- Regresión logística"
   ]
  },
  {
   "cell_type": "code",
   "execution_count": 37,
   "id": "27e6d130",
   "metadata": {},
   "outputs": [
    {
     "name": "stdout",
     "output_type": "stream",
     "text": [
      "Matriz de Confusión:\n",
      "[[2656  362]\n",
      " [ 957  604]]\n"
     ]
    }
   ],
   "source": [
    "#Calculo la Matriz de Confusión\n",
    "matriz_RL = confusion_matrix(y_test, y_pred_RL)\n",
    "print('Matriz de Confusión:')\n",
    "print(matriz_RL)"
   ]
  },
  {
   "cell_type": "code",
   "execution_count": 38,
   "id": "0bc335e9",
   "metadata": {},
   "outputs": [
    {
     "name": "stdout",
     "output_type": "stream",
     "text": [
      "Precisión del modelo: 0.625\n"
     ]
    }
   ],
   "source": [
    "#Calculo la precisión del modelo\n",
    "precision_RL = precision_score(y_test, y_pred_RL)\n",
    "print('Precisión del modelo: %.3f' % precision_RL)"
   ]
  },
  {
   "cell_type": "code",
   "execution_count": 39,
   "id": "7ee060e5",
   "metadata": {},
   "outputs": [
    {
     "name": "stdout",
     "output_type": "stream",
     "text": [
      "Accuracy del modelo: 0.712\n"
     ]
    }
   ],
   "source": [
    "#Calculo Accuracy del modelo\n",
    "accuracy_RL = accuracy_score(y_test, y_pred_RL)\n",
    "print('Accuracy del modelo: %.3f' % accuracy_RL)"
   ]
  },
  {
   "cell_type": "code",
   "execution_count": 40,
   "id": "b12aa306",
   "metadata": {},
   "outputs": [
    {
     "name": "stdout",
     "output_type": "stream",
     "text": [
      "Recall del modelo: 0.387\n"
     ]
    }
   ],
   "source": [
    "#Calculo Recall del modelo\n",
    "recall_RL = recall_score(y_test, y_pred_RL)\n",
    "print('Recall del modelo: %.3f' % recall_RL)"
   ]
  },
  {
   "cell_type": "code",
   "execution_count": 41,
   "id": "316849e6",
   "metadata": {},
   "outputs": [
    {
     "name": "stdout",
     "output_type": "stream",
     "text": [
      "F1 del modelo: 0.478\n"
     ]
    }
   ],
   "source": [
    "#Calculo F1 score del modelo\n",
    "f1_RL = f1_score(y_test, y_pred_RL)\n",
    "print('F1 del modelo: %.3f' % f1_RL)"
   ]
  },
  {
   "cell_type": "markdown",
   "id": "36cc37ff",
   "metadata": {},
   "source": [
    "### Comparación"
   ]
  },
  {
   "cell_type": "code",
   "execution_count": 42,
   "id": "5a9ad9ca",
   "metadata": {},
   "outputs": [
    {
     "data": {
      "text/plain": [
       "<sklearn.metrics._plot.confusion_matrix.ConfusionMatrixDisplay at 0x2d6f4049cd0>"
      ]
     },
     "execution_count": 42,
     "metadata": {},
     "output_type": "execute_result"
    },
    {
     "data": {
      "image/png": "[encoded data removed]",
      "text/plain": [
       "<Figure size 1500x500 with 4 Axes>"
      ]
     },
     "metadata": {},
     "output_type": "display_data"
    }
   ],
   "source": [
    "#Ploteo la Matriz de Confusión\n",
    "fig, ax = plt.subplots(1,2, figsize=(15, 5))\n",
    "ax[0].set_title(\"NB\")\n",
    "ax[1].set_title(\"RL\")\n",
    "\n",
    "metrics.ConfusionMatrixDisplay(\n",
    "    confusion_matrix =metrics.confusion_matrix(y_test, y_pred_NB), \n",
    "    display_labels = [False, True]).plot(ax=ax[0], cmap='Blues')\n",
    "\n",
    "metrics.ConfusionMatrixDisplay(\n",
    "    confusion_matrix = confusion_matrix(y_test, y_pred_RL), \n",
    "    display_labels = [False, True]).plot(ax=ax[1], cmap='Blues')"
   ]
  },
  {
   "cell_type": "markdown",
   "id": "679636a6",
   "metadata": {},
   "source": [
    "## Resumen"
   ]
  },
  {
   "cell_type": "code",
   "execution_count": 43,
   "id": "2c583135",
   "metadata": {},
   "outputs": [],
   "source": [
    "from sklearn.naive_bayes import GaussianNB\n",
    "from sklearn.linear_model import LogisticRegression\n",
    "\n",
    "resultados =[]\n",
    "\n",
    "classifiers = [GaussianNB(), LogisticRegression()]\n",
    "\n",
    "for model in classifiers:\n",
    "    model.fit(X_train, y_train)\n",
    "    y_pred = model.predict(X_test)\n",
    "    precision = precision_score(y_test, y_pred)\n",
    "    accuracy = accuracy_score(y_test, y_pred)\n",
    "    recall = recall_score(y_test, y_pred)\n",
    "    f1 = f1_score(y_test, y_pred)\n",
    "    resultados.extend((precision, accuracy, recall, f1))"
   ]
  },
  {
   "cell_type": "code",
   "execution_count": 44,
   "id": "e987e26b",
   "metadata": {},
   "outputs": [],
   "source": [
    "resultados_NB = []\n",
    "resultados_RL = []\n",
    "\n",
    "resultados_NB.append(precision_NB)\n",
    "resultados_NB.append(accuracy_NB)\n",
    "resultados_NB.append(recall_NB)\n",
    "resultados_NB.append(f1_NB)\n",
    "\n",
    "resultados_RL.append(precision_RL)\n",
    "resultados_RL.append(accuracy_RL)\n",
    "resultados_RL.append(recall_RL)\n",
    "resultados_RL.append(f1_RL)"
   ]
  },
  {
   "cell_type": "code",
   "execution_count": 45,
   "id": "1c392fec",
   "metadata": {},
   "outputs": [
    {
     "name": "stdout",
     "output_type": "stream",
     "text": [
      "           Resultados NB  Resultados RL\n",
      "precision       0.513896       0.625259\n",
      "accuracy        0.670670       0.711946\n",
      "recall          0.627803       0.386931\n",
      "f1              0.565167       0.478037\n"
     ]
    }
   ],
   "source": [
    "resultados = pd.DataFrame(\n",
    "    {'Resultados NB': resultados_NB,\n",
    "     'Resultados RL': resultados_RL,\n",
    "    })\n",
    "\n",
    "resultados = resultados.rename(index={0: 'precision', 1: 'accuracy', 2: 'recall', 3: 'f1'})\n",
    "print(resultados)"
   ]
  },
  {
   "cell_type": "markdown",
   "id": "ba9321ce",
   "metadata": {},
   "source": [
    "**Tarea 3.3: Discutir los resultados de las métricas entre modelos y al agregar nuevas variables. Analice los diferentes resultados y seleccione el modelo y la métrica que considere obtiene mejores resultados en test. ¿Qué métrica seleccionaría de acuerdo a las hipótesis del equipo de trabajo?**"
   ]
  }
 ],
 "metadata": {
  "colab": {
   "provenance": []
  },
  "kernelspec": {
   "display_name": "Python 3 (ipykernel)",
   "language": "python",
   "name": "python3"
  },
  "language_info": {
   "codemirror_mode": {
    "name": "ipython",
    "version": 3
   },
   "file_extension": ".py",
   "mimetype": "text/x-python",
   "name": "python",
   "nbconvert_exporter": "python",
   "pygments_lexer": "ipython3",
   "version": "3.9.13"
  }
 },
 "nbformat": 4,
 "nbformat_minor": 5
}
